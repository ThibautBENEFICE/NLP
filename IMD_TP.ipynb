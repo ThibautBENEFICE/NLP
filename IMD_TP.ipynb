{
  "cells": [
    {
      "cell_type": "markdown",
      "metadata": {
        "id": "1DlzvXLQuoTY"
      },
      "source": [
        "# Sentiment classifier with LSTM\n",
        "\n",
        "In this notebook, we will implement a simple sentiment classifier using an LSTM. Follow the notebook, complete the missing part, answer the questions and apply the asked modifications.\n",
        "\n"
      ]
    },
    {
      "cell_type": "code",
      "execution_count": 1,
      "metadata": {
        "id": "utTvPhcyTC7d",
        "colab": {
          "base_uri": "https://localhost:8080/"
        },
        "outputId": "f2defe1e-3ed4-4899-9cbb-23bf076e1d37"
      },
      "outputs": [
        {
          "output_type": "stream",
          "name": "stdout",
          "text": [
            "Looking in indexes: https://pypi.org/simple, https://us-python.pkg.dev/colab-wheels/public/simple/\n",
            "Requirement already satisfied: datasets in /usr/local/lib/python3.7/dist-packages (2.5.2)\n",
            "Requirement already satisfied: xxhash in /usr/local/lib/python3.7/dist-packages (from datasets) (3.0.0)\n",
            "Requirement already satisfied: aiohttp in /usr/local/lib/python3.7/dist-packages (from datasets) (3.8.1)\n",
            "Requirement already satisfied: dill<0.3.6 in /usr/local/lib/python3.7/dist-packages (from datasets) (0.3.5.1)\n",
            "Requirement already satisfied: pandas in /usr/local/lib/python3.7/dist-packages (from datasets) (1.3.5)\n",
            "Requirement already satisfied: tqdm>=4.62.1 in /usr/local/lib/python3.7/dist-packages (from datasets) (4.64.1)\n",
            "Requirement already satisfied: fsspec[http]>=2021.11.1 in /usr/local/lib/python3.7/dist-packages (from datasets) (2022.8.2)\n",
            "Requirement already satisfied: huggingface-hub<1.0.0,>=0.2.0 in /usr/local/lib/python3.7/dist-packages (from datasets) (0.10.0)\n",
            "Requirement already satisfied: packaging in /usr/local/lib/python3.7/dist-packages (from datasets) (21.3)\n",
            "Requirement already satisfied: numpy>=1.17 in /usr/local/lib/python3.7/dist-packages (from datasets) (1.21.6)\n",
            "Requirement already satisfied: importlib-metadata in /usr/local/lib/python3.7/dist-packages (from datasets) (4.12.0)\n",
            "Requirement already satisfied: pyarrow>=6.0.0 in /usr/local/lib/python3.7/dist-packages (from datasets) (6.0.1)\n",
            "Requirement already satisfied: requests>=2.19.0 in /usr/local/lib/python3.7/dist-packages (from datasets) (2.23.0)\n",
            "Requirement already satisfied: multiprocess in /usr/local/lib/python3.7/dist-packages (from datasets) (0.70.13)\n",
            "Requirement already satisfied: responses<0.19 in /usr/local/lib/python3.7/dist-packages (from datasets) (0.18.0)\n",
            "Requirement already satisfied: aiosignal>=1.1.2 in /usr/local/lib/python3.7/dist-packages (from aiohttp->datasets) (1.2.0)\n",
            "Requirement already satisfied: async-timeout<5.0,>=4.0.0a3 in /usr/local/lib/python3.7/dist-packages (from aiohttp->datasets) (4.0.2)\n",
            "Requirement already satisfied: frozenlist>=1.1.1 in /usr/local/lib/python3.7/dist-packages (from aiohttp->datasets) (1.3.1)\n",
            "Requirement already satisfied: multidict<7.0,>=4.5 in /usr/local/lib/python3.7/dist-packages (from aiohttp->datasets) (6.0.2)\n",
            "Requirement already satisfied: yarl<2.0,>=1.0 in /usr/local/lib/python3.7/dist-packages (from aiohttp->datasets) (1.8.1)\n",
            "Requirement already satisfied: attrs>=17.3.0 in /usr/local/lib/python3.7/dist-packages (from aiohttp->datasets) (22.1.0)\n",
            "Requirement already satisfied: charset-normalizer<3.0,>=2.0 in /usr/local/lib/python3.7/dist-packages (from aiohttp->datasets) (2.1.1)\n",
            "Requirement already satisfied: typing-extensions>=3.7.4 in /usr/local/lib/python3.7/dist-packages (from aiohttp->datasets) (4.1.1)\n",
            "Requirement already satisfied: asynctest==0.13.0 in /usr/local/lib/python3.7/dist-packages (from aiohttp->datasets) (0.13.0)\n",
            "Requirement already satisfied: filelock in /usr/local/lib/python3.7/dist-packages (from huggingface-hub<1.0.0,>=0.2.0->datasets) (3.8.0)\n",
            "Requirement already satisfied: pyyaml>=5.1 in /usr/local/lib/python3.7/dist-packages (from huggingface-hub<1.0.0,>=0.2.0->datasets) (6.0)\n",
            "Requirement already satisfied: pyparsing!=3.0.5,>=2.0.2 in /usr/local/lib/python3.7/dist-packages (from packaging->datasets) (3.0.9)\n",
            "Requirement already satisfied: certifi>=2017.4.17 in /usr/local/lib/python3.7/dist-packages (from requests>=2.19.0->datasets) (2022.6.15)\n",
            "Requirement already satisfied: idna<3,>=2.5 in /usr/local/lib/python3.7/dist-packages (from requests>=2.19.0->datasets) (2.10)\n",
            "Requirement already satisfied: chardet<4,>=3.0.2 in /usr/local/lib/python3.7/dist-packages (from requests>=2.19.0->datasets) (3.0.4)\n",
            "Requirement already satisfied: urllib3!=1.25.0,!=1.25.1,<1.26,>=1.21.1 in /usr/local/lib/python3.7/dist-packages (from requests>=2.19.0->datasets) (1.25.11)\n",
            "Requirement already satisfied: zipp>=0.5 in /usr/local/lib/python3.7/dist-packages (from importlib-metadata->datasets) (3.8.1)\n",
            "Requirement already satisfied: pytz>=2017.3 in /usr/local/lib/python3.7/dist-packages (from pandas->datasets) (2022.2.1)\n",
            "Requirement already satisfied: python-dateutil>=2.7.3 in /usr/local/lib/python3.7/dist-packages (from pandas->datasets) (2.8.2)\n",
            "Requirement already satisfied: six>=1.5 in /usr/local/lib/python3.7/dist-packages (from python-dateutil>=2.7.3->pandas->datasets) (1.15.0)\n"
          ]
        }
      ],
      "source": [
        "!pip install datasets"
      ]
    },
    {
      "cell_type": "code",
      "execution_count": 2,
      "metadata": {
        "id": "g_v62rH_W9J1"
      },
      "outputs": [],
      "source": [
        "from collections import defaultdict\n",
        "from copy import deepcopy\n",
        "import re\n",
        "from typing import Callable, List, Tuple\n",
        "\n",
        "from datasets import load_dataset\n",
        "import matplotlib.pyplot as plt\n",
        "import numpy as np\n",
        "import pandas as pd\n",
        "import torch\n",
        "from torch import nn\n",
        "import torch.nn.functional as F\n",
        "from tqdm.auto import tqdm\n",
        "from datetime import datetime\n",
        "from sklearn.utils import shuffle"
      ]
    },
    {
      "cell_type": "markdown",
      "metadata": {
        "id": "FzAHrPfReDqu"
      },
      "source": [
        "## Downloading the dataset\n",
        "\n",
        "Using the datasets library, we load the imdb dataset."
      ]
    },
    {
      "cell_type": "code",
      "execution_count": 3,
      "metadata": {
        "id": "PBb40sTOXYz-",
        "colab": {
          "base_uri": "https://localhost:8080/",
          "height": 142,
          "referenced_widgets": [
            "3bb0643a04aa4e239b605431170d8024",
            "1f53e254c3884d2e9f5d33d500bd0763",
            "bd56041529274af1a4ab34d65acc21d9",
            "aca99c161cca441eabeeeeb6c964620f",
            "f9b0bfdeab56441e8e2be184d5c289bf",
            "984fc319a0b5450ea67007fb24075ca7",
            "ff67c03a1e2b4f12bfd9334288b38dac",
            "0a7f2beedd54470cb38b180f733ec9d0",
            "98bb56a9e0784e08b88c651d84417994",
            "43b874c3e8dd47ecb94ec21c403bfb9a",
            "03d1c01017164f88a028ee798244b563"
          ]
        },
        "outputId": "f13e408f-e743-4bbf-9806-7cd9315dd6d5"
      },
      "outputs": [
        {
          "output_type": "stream",
          "name": "stderr",
          "text": [
            "WARNING:datasets.builder:Found cached dataset imdb (/root/.cache/huggingface/datasets/imdb/plain_text/1.0.0/2fdd8b9bcadd6e7055e742a706876ba43f19faee861df134affd7a3f60fc38a1)\n"
          ]
        },
        {
          "output_type": "display_data",
          "data": {
            "text/plain": [
              "  0%|          | 0/3 [00:00<?, ?it/s]"
            ],
            "application/vnd.jupyter.widget-view+json": {
              "version_major": 2,
              "version_minor": 0,
              "model_id": "3bb0643a04aa4e239b605431170d8024"
            }
          },
          "metadata": {}
        }
      ],
      "source": [
        "dataset = load_dataset(\"imdb\")"
      ]
    },
    {
      "cell_type": "code",
      "execution_count": 4,
      "metadata": {
        "id": "uDq8WhU3XlOR",
        "colab": {
          "base_uri": "https://localhost:8080/"
        },
        "outputId": "386e70ee-26f8-4c42-fb4e-6e2b3fbf2600"
      },
      "outputs": [
        {
          "output_type": "execute_result",
          "data": {
            "text/plain": [
              "DatasetDict({\n",
              "    train: Dataset({\n",
              "        features: ['text', 'label'],\n",
              "        num_rows: 25000\n",
              "    })\n",
              "    test: Dataset({\n",
              "        features: ['text', 'label'],\n",
              "        num_rows: 25000\n",
              "    })\n",
              "    unsupervised: Dataset({\n",
              "        features: ['text', 'label'],\n",
              "        num_rows: 50000\n",
              "    })\n",
              "})"
            ]
          },
          "metadata": {},
          "execution_count": 4
        }
      ],
      "source": [
        "dataset"
      ]
    },
    {
      "cell_type": "code",
      "execution_count": 5,
      "metadata": {
        "id": "kr3Qby4KWTZ6",
        "colab": {
          "base_uri": "https://localhost:8080/"
        },
        "outputId": "2e32abb9-4c8b-45b4-c6e8-83e4de470af0"
      },
      "outputs": [
        {
          "output_type": "execute_result",
          "data": {
            "text/plain": [
              "Dataset({\n",
              "    features: ['text', 'label'],\n",
              "    num_rows: 50000\n",
              "})"
            ]
          },
          "metadata": {},
          "execution_count": 5
        }
      ],
      "source": [
        "# We do not need the \"unsupervised\" split.\n",
        "dataset.pop(\"unsupervised\")"
      ]
    },
    {
      "cell_type": "code",
      "execution_count": 6,
      "metadata": {
        "id": "47Hy5byjWTZ8",
        "colab": {
          "base_uri": "https://localhost:8080/"
        },
        "outputId": "0ccc88f5-c41e-4526-bd57-1ccf14ae59d5"
      },
      "outputs": [
        {
          "output_type": "execute_result",
          "data": {
            "text/plain": [
              "DatasetDict({\n",
              "    train: Dataset({\n",
              "        features: ['text', 'label'],\n",
              "        num_rows: 25000\n",
              "    })\n",
              "    test: Dataset({\n",
              "        features: ['text', 'label'],\n",
              "        num_rows: 25000\n",
              "    })\n",
              "})"
            ]
          },
          "metadata": {},
          "execution_count": 6
        }
      ],
      "source": [
        "dataset"
      ]
    },
    {
      "cell_type": "code",
      "execution_count": 7,
      "metadata": {
        "id": "IXssc1MjX5v2",
        "colab": {
          "base_uri": "https://localhost:8080/"
        },
        "outputId": "e1a27894-2775-4834-b25c-98bf1136cec4"
      },
      "outputs": [
        {
          "output_type": "execute_result",
          "data": {
            "text/plain": [
              "{'text': ['I rented I AM CURIOUS-YELLOW from my video store because of all the controversy that surrounded it when it was first released in 1967. I also heard that at first it was seized by U.S. customs if it ever tried to enter this country, therefore being a fan of films considered \"controversial\" I really had to see this for myself.<br /><br />The plot is centered around a young Swedish drama student named Lena who wants to learn everything she can about life. In particular she wants to focus her attentions to making some sort of documentary on what the average Swede thought about certain political issues such as the Vietnam War and race issues in the United States. In between asking politicians and ordinary denizens of Stockholm about their opinions on politics, she has sex with her drama teacher, classmates, and married men.<br /><br />What kills me about I AM CURIOUS-YELLOW is that 40 years ago, this was considered pornographic. Really, the sex and nudity scenes are few and far between, even then it\\'s not shot like some cheaply made porno. While my countrymen mind find it shocking, in reality sex and nudity are a major staple in Swedish cinema. Even Ingmar Bergman, arguably their answer to good old boy John Ford, had sex scenes in his films.<br /><br />I do commend the filmmakers for the fact that any sex shown in the film is shown for artistic purposes rather than just to shock people and make money to be shown in pornographic theaters in America. I AM CURIOUS-YELLOW is a good film for anyone wanting to study the meat and potatoes (no pun intended) of Swedish cinema. But really, this film doesn\\'t have much of a plot.',\n",
              "  '\"I Am Curious: Yellow\" is a risible and pretentious steaming pile. It doesn\\'t matter what one\\'s political views are because this film can hardly be taken seriously on any level. As for the claim that frontal male nudity is an automatic NC-17, that isn\\'t true. I\\'ve seen R-rated films with male nudity. Granted, they only offer some fleeting views, but where are the R-rated films with gaping vulvas and flapping labia? Nowhere, because they don\\'t exist. The same goes for those crappy cable shows: schlongs swinging in the breeze but not a clitoris in sight. And those pretentious indie movies like The Brown Bunny, in which we\\'re treated to the site of Vincent Gallo\\'s throbbing johnson, but not a trace of pink visible on Chloe Sevigny. Before crying (or implying) \"double-standard\" in matters of nudity, the mentally obtuse should take into account one unavoidably obvious anatomical difference between men and women: there are no genitals on display when actresses appears nude, and the same cannot be said for a man. In fact, you generally won\\'t see female genitals in an American film in anything short of porn or explicit erotica. This alleged double-standard is less a double standard than an admittedly depressing ability to come to terms culturally with the insides of women\\'s bodies.'],\n",
              " 'label': [0, 0]}"
            ]
          },
          "metadata": {},
          "execution_count": 7
        }
      ],
      "source": [
        "dataset[\"train\"][:2]"
      ]
    },
    {
      "cell_type": "markdown",
      "metadata": {
        "id": "5UoMzhBOeGxe"
      },
      "source": [
        "## Pretreatment **(1 point)**\n",
        "\n",
        "Code the `pretreatment` function which clean the input text. Look at the dataset and deduce which treatment is needed."
      ]
    },
    {
      "cell_type": "code",
      "execution_count": 8,
      "metadata": {
        "id": "Cw3lht4AZHQB"
      },
      "outputs": [],
      "source": [
        "from string import punctuation\n",
        "\n",
        "\n",
        "def pretreatment(text: str) -> str:\n",
        "\t\"\"\"Clean IMDB text entries.\n",
        "    Args:\n",
        "        text: an input string.\n",
        "    Returns:\n",
        "        The cleaned text.\n",
        "    \"\"\"\n",
        "\t# Your code here\n",
        "\tlower = text.lower()\n",
        "\treturn lower.translate(str.maketrans('', '', punctuation))"
      ]
    },
    {
      "cell_type": "code",
      "execution_count": 9,
      "metadata": {
        "id": "AnxsNRj1b4ef",
        "colab": {
          "base_uri": "https://localhost:8080/"
        },
        "outputId": "6024a7fe-5215-4336-9240-e17142933116"
      },
      "outputs": [
        {
          "output_type": "stream",
          "name": "stderr",
          "text": [
            "WARNING:datasets.arrow_dataset:Loading cached processed dataset at /root/.cache/huggingface/datasets/imdb/plain_text/1.0.0/2fdd8b9bcadd6e7055e742a706876ba43f19faee861df134affd7a3f60fc38a1/cache-c114ae7ed685fd67.arrow\n",
            "WARNING:datasets.arrow_dataset:Loading cached processed dataset at /root/.cache/huggingface/datasets/imdb/plain_text/1.0.0/2fdd8b9bcadd6e7055e742a706876ba43f19faee861df134affd7a3f60fc38a1/cache-8a0abe44e0435fb5.arrow\n"
          ]
        }
      ],
      "source": [
        "# This applies the pretreatment function to all\n",
        "clean_dataset = dataset.map(lambda x: {\"text\": pretreatment(x[\"text\"]), \"label\": x[\"label\"]})"
      ]
    },
    {
      "cell_type": "markdown",
      "metadata": {
        "id": "cITYcafjvZ4V"
      },
      "source": [
        "Let's see what the text now look like."
      ]
    },
    {
      "cell_type": "code",
      "execution_count": 10,
      "metadata": {
        "id": "ss9fNfoWUAz_",
        "colab": {
          "base_uri": "https://localhost:8080/"
        },
        "outputId": "aa3b8150-c799-40d6-8726-d2ed3270a22a"
      },
      "outputs": [
        {
          "output_type": "execute_result",
          "data": {
            "text/plain": [
              "['i rented i am curiousyellow from my video store because of all the controversy that surrounded it when it was first released in 1967 i also heard that at first it was seized by us customs if it ever tried to enter this country therefore being a fan of films considered controversial i really had to see this for myselfbr br the plot is centered around a young swedish drama student named lena who wants to learn everything she can about life in particular she wants to focus her attentions to making some sort of documentary on what the average swede thought about certain political issues such as the vietnam war and race issues in the united states in between asking politicians and ordinary denizens of stockholm about their opinions on politics she has sex with her drama teacher classmates and married menbr br what kills me about i am curiousyellow is that 40 years ago this was considered pornographic really the sex and nudity scenes are few and far between even then its not shot like some cheaply made porno while my countrymen mind find it shocking in reality sex and nudity are a major staple in swedish cinema even ingmar bergman arguably their answer to good old boy john ford had sex scenes in his filmsbr br i do commend the filmmakers for the fact that any sex shown in the film is shown for artistic purposes rather than just to shock people and make money to be shown in pornographic theaters in america i am curiousyellow is a good film for anyone wanting to study the meat and potatoes no pun intended of swedish cinema but really this film doesnt have much of a plot',\n",
              " 'i am curious yellow is a risible and pretentious steaming pile it doesnt matter what ones political views are because this film can hardly be taken seriously on any level as for the claim that frontal male nudity is an automatic nc17 that isnt true ive seen rrated films with male nudity granted they only offer some fleeting views but where are the rrated films with gaping vulvas and flapping labia nowhere because they dont exist the same goes for those crappy cable shows schlongs swinging in the breeze but not a clitoris in sight and those pretentious indie movies like the brown bunny in which were treated to the site of vincent gallos throbbing johnson but not a trace of pink visible on chloe sevigny before crying or implying doublestandard in matters of nudity the mentally obtuse should take into account one unavoidably obvious anatomical difference between men and women there are no genitals on display when actresses appears nude and the same cannot be said for a man in fact you generally wont see female genitals in an american film in anything short of porn or explicit erotica this alleged doublestandard is less a double standard than an admittedly depressing ability to come to terms culturally with the insides of womens bodies',\n",
              " 'if only to avoid making this type of film in the future this film is interesting as an experiment but tells no cogent storybr br one might feel virtuous for sitting thru it because it touches on so many important issues but it does so without any discernable motive the viewer comes away with no new perspectives unless one comes up with one while ones mind wanders as it will invariably do during this pointless filmbr br one might better spend ones time staring out a window at a tree growingbr br ']"
            ]
          },
          "metadata": {},
          "execution_count": 10
        }
      ],
      "source": [
        "clean_dataset[\"train\"][\"text\"][:3]"
      ]
    },
    {
      "cell_type": "markdown",
      "metadata": {
        "id": "4sAscTs3U2Sn"
      },
      "source": [
        "Let's take a quick look at the labels. Notice that the labels are ordered in the training set starting by the negative reviews (0), followed by the positive ones (1). Training neural networks on this kind of configuration tends to considerably affect their performances. So the dataset will have to be shuffled."
      ]
    },
    {
      "cell_type": "code",
      "execution_count": 11,
      "metadata": {
        "id": "lZedAEQpdstA",
        "colab": {
          "base_uri": "https://localhost:8080/"
        },
        "outputId": "3b6a1967-45fe-47e4-b2a2-fb9cd9d51429"
      },
      "outputs": [
        {
          "output_type": "execute_result",
          "data": {
            "text/plain": [
              "[0, 0, 0, 0, 0, 0, 0, 0, 0, 0, 1, 1, 1, 1, 1, 1, 1, 1, 1, 1]"
            ]
          },
          "metadata": {},
          "execution_count": 11
        }
      ],
      "source": [
        "clean_dataset[\"train\"][\"label\"][12490:12510]"
      ]
    },
    {
      "cell_type": "markdown",
      "metadata": {
        "id": "Hv3rt4ZieQbN"
      },
      "source": [
        "## Train/validation split **(1 point)**\n",
        "\n",
        "In our example, we consider the test split as production data. Which means, we need to treat it as if we never see it during the training process. To experiment on the model, we need to split the training set into a training and validation set. See [here](https://huggingface.co/course/chapter5/3?fw=pt#creating-a-validation-set) on how to do so with the `Datasets` library.\n",
        "\n",
        "Don't forget to **stratify** your split (we need to have the same proportion of class in both training and validation set)."
      ]
    },
    {
      "cell_type": "code",
      "execution_count": 12,
      "metadata": {
        "id": "5QIBkz-0YAO7",
        "colab": {
          "base_uri": "https://localhost:8080/"
        },
        "outputId": "dda3d540-2069-4926-bf2c-75c292016817"
      },
      "outputs": [
        {
          "output_type": "stream",
          "name": "stderr",
          "text": [
            "WARNING:datasets.builder:Found cached dataset imdb (/root/.cache/huggingface/datasets/imdb/plain_text/1.0.0/2fdd8b9bcadd6e7055e742a706876ba43f19faee861df134affd7a3f60fc38a1)\n",
            "WARNING:datasets.builder:Found cached dataset imdb (/root/.cache/huggingface/datasets/imdb/plain_text/1.0.0/2fdd8b9bcadd6e7055e742a706876ba43f19faee861df134affd7a3f60fc38a1)\n",
            "WARNING:datasets.arrow_dataset:Loading cached shuffled indices for dataset at /root/.cache/huggingface/datasets/imdb/plain_text/1.0.0/2fdd8b9bcadd6e7055e742a706876ba43f19faee861df134affd7a3f60fc38a1/cache-a3d310aeb09fb0e6.arrow\n",
            "WARNING:datasets.arrow_dataset:Loading cached shuffled indices for dataset at /root/.cache/huggingface/datasets/imdb/plain_text/1.0.0/2fdd8b9bcadd6e7055e742a706876ba43f19faee861df134affd7a3f60fc38a1/cache-284c73fe82de3f7b.arrow\n",
            "WARNING:datasets.arrow_dataset:Loading cached shuffled indices for dataset at /root/.cache/huggingface/datasets/imdb/plain_text/1.0.0/2fdd8b9bcadd6e7055e742a706876ba43f19faee861df134affd7a3f60fc38a1/cache-e40fae6c4d24fd0d.arrow\n"
          ]
        }
      ],
      "source": [
        "from datasets import DatasetDict\n",
        "clean_dataset = DatasetDict({\n",
        "    'train': load_dataset('imdb', split='train[:40%]+train[50%:90%]'),\n",
        "    'validation': load_dataset('imdb', split='train[40%:50%]+train[90%:]'),\n",
        "    'test': clean_dataset['test']\n",
        "}).shuffle(seed=42)"
      ]
    },
    {
      "cell_type": "code",
      "execution_count": 13,
      "metadata": {
        "id": "h3gqwi1hXhlj",
        "colab": {
          "base_uri": "https://localhost:8080/"
        },
        "outputId": "e4eb4804-3336-4783-ecb0-f054e46ce6ef"
      },
      "outputs": [
        {
          "output_type": "execute_result",
          "data": {
            "text/plain": [
              "[1, 1, 1, 1, 1, 1, 1, 1, 0, 0]"
            ]
          },
          "metadata": {},
          "execution_count": 13
        }
      ],
      "source": [
        "clean_dataset['train']['label'][:10]"
      ]
    },
    {
      "cell_type": "code",
      "execution_count": 14,
      "metadata": {
        "id": "K5L5UYHlWTaJ"
      },
      "outputs": [],
      "source": [
        "# from sklearn.model_selection import train_test_split\n",
        "# X_train,X_val,Y_train,Y_val = train_test_split(clean_dataset[\"train\"][\"text\"],clean_dataset[\"train\"][\"label\"],test_size=0.2,shuffle=True)"
      ]
    },
    {
      "cell_type": "code",
      "execution_count": 15,
      "metadata": {
        "id": "TJPgOxLiWTaK"
      },
      "outputs": [],
      "source": [
        "# sum(Y_train)"
      ]
    },
    {
      "cell_type": "code",
      "execution_count": 16,
      "metadata": {
        "id": "F58TBVUbVfWb",
        "colab": {
          "base_uri": "https://localhost:8080/"
        },
        "outputId": "a8bfee8e-fd61-4419-ec67-fcca9e58164a"
      },
      "outputs": [
        {
          "output_type": "execute_result",
          "data": {
            "text/plain": [
              "DatasetDict({\n",
              "    train: Dataset({\n",
              "        features: ['text', 'label'],\n",
              "        num_rows: 20000\n",
              "    })\n",
              "    validation: Dataset({\n",
              "        features: ['text', 'label'],\n",
              "        num_rows: 5000\n",
              "    })\n",
              "    test: Dataset({\n",
              "        features: ['text', 'label'],\n",
              "        num_rows: 25000\n",
              "    })\n",
              "})"
            ]
          },
          "metadata": {},
          "execution_count": 16
        }
      ],
      "source": [
        "clean_dataset"
      ]
    },
    {
      "cell_type": "code",
      "execution_count": 17,
      "metadata": {
        "id": "w97hMnYEeexj"
      },
      "outputs": [],
      "source": [
        "# Check here that the dataset is stratified."
      ]
    },
    {
      "cell_type": "markdown",
      "metadata": {
        "id": "0t40J_xte1dz"
      },
      "source": [
        "## Categorical encoding of the vocabulary **(2 points)**\n",
        "\n",
        "We can't feed word to a neural network. A usual solution is to turn words into categorical data by using one-hot encoding. To avoid an explosion in vocabulary size, we will only keep words which appear more than a certain amount of time.\n",
        "\n",
        "The `Vocabulary` class below will do that for us."
      ]
    },
    {
      "cell_type": "code",
      "execution_count": 18,
      "metadata": {
        "id": "T2P9A4j8aarj"
      },
      "outputs": [],
      "source": [
        "UNK_TOKEN = \"<UNK>\"\n",
        "PAD_TOKEN = \"<PAD>\"\n",
        "\n",
        "\n",
        "class Vocabulary:\n",
        "\t\"\"\"Vocabulary manager on a collection.\n",
        "    \"\"\"\n",
        "\n",
        "\tdef __init__(self) -> None:\n",
        "\t\t\"\"\"No parameters to provide.\n",
        "        \"\"\"\n",
        "\t\t# Index to word mapping.\n",
        "\t\tself.index2word = [PAD_TOKEN, UNK_TOKEN]\n",
        "\t\t# Word to index mapping.\n",
        "\t\tself.word2index = {value: key for key, value in enumerate(self.index2word)}\n",
        "\t\t# Word counter.\n",
        "\t\tself.word2count = defaultdict(int)\n",
        "\n",
        "\tdef add_word(self, word: str) -> None:\n",
        "\t\t\"\"\"Increments the count of a word to the vocabulary.\n",
        "        Args:\n",
        "            word: the word.\n",
        "        \"\"\"\n",
        "\t\tself.word2count[word] += 1\n",
        "\t\tif not word in self.word2index:\n",
        "\t\t\tself.word2index[word] = len(self.index2word)\n",
        "\t\t\tself.index2word.append(word)\n",
        "\n",
        "\tdef add_text(self, text: str, separator: str = \" \") -> None:\n",
        "\t\t\"\"\"Add the words given in a text to our vocabulary.\n",
        "        Args:\n",
        "            text: a sequence of words separated by a given separator.\n",
        "            separator: the separator used to split our text (default is \" \").\n",
        "        \"\"\"\n",
        "\t\tfor word in text.split(separator):\n",
        "\t\t\tself.add_word(word)\n",
        "\n",
        "\tdef get_index(self, word: str) -> int:\n",
        "\t\t\"\"\"Returns the index of a given word in our vocabulary.\n",
        "        If the word is not in the vocabulary, returns the index for UNK_TOKEN.\n",
        "        Args:\n",
        "            word: a string.\n",
        "        Returns:\n",
        "            The corresponding index or the index for UNK_TOKEN.\n",
        "        \"\"\"\n",
        "\t\treturn (\n",
        "\t\t\tself.word2index[word]\n",
        "\t\t\tif word in self.word2index\n",
        "\t\t\telse self.word2index[UNK_TOKEN]\n",
        "\t\t)\n",
        "\n",
        "\tdef get_word(self, index: int) -> str:\n",
        "\t\t\"\"\"Returns the word at a given index in our vocabulary.\n",
        "        Args:\n",
        "            index: the word position in our vocabulary.\n",
        "        Returns:\n",
        "            The word corresponding to the given index.\n",
        "        \"\"\"\n",
        "\t\treturn self.index2word[index]\n",
        "\n",
        "\tdef get_word_count(self, word: str) -> int:\n",
        "\t\t\"\"\"Returns the number of occurences for a given word.\n",
        "        Raise a \n",
        "        Args:\n",
        "            The word.\n",
        "        Returns:\n",
        "            Its number of measured occurences.\n",
        "        \"\"\"\n",
        "\t\treturn self.word2count[word]\n",
        "\n",
        "\tdef get_vocabulary(self) -> List[str]:\n",
        "\t\t\"\"\"Returns a copy of the whole vocabulary list.\n",
        "        Returns:\n",
        "            A list of words.\n",
        "        \"\"\"\n",
        "\t\treturn deepcopy(self.index2word)\n",
        "\n",
        "\tdef __len__(self) -> int:\n",
        "\t\t\"\"\"len() function.\n",
        "        Returns:\n",
        "            The number of words in the vocabulary.\n",
        "        \"\"\"\n",
        "\t\treturn len(self.index2word)\n",
        "\n",
        "\tdef trim_vocabulary(self, min_occurences: int = 5) -> None:\n",
        "\t\t\"\"\"Trim the vocabulary based on the number of occurrences of each words.\n",
        "        Note that whole counts of deleted words are added to the UNK_TOKEN counts.\n",
        "        Args:\n",
        "            min_occurences: the minimum number of occurences for a word to be kept.\n",
        "        \"\"\"\n",
        "\t\tto_delete = {\n",
        "\t\t\tword for word, count in self.word2count.items() if count < min_occurences\n",
        "\t\t}\n",
        "\t\tnew_word2count = defaultdict(int)\n",
        "\t\tfor word, count in self.word2count.items():\n",
        "\t\t\tif word not in to_delete:\n",
        "\t\t\t\tnew_word2count[word] = count\n",
        "\t\t\telse:\n",
        "\t\t\t\tnew_word2count[UNK_TOKEN] += count\n",
        "\t\tnew_index2word = [word for word in self.index2word if word not in to_delete]\n",
        "\t\tnew_word2index = {word: index for index, word in enumerate(new_index2word)}\n",
        "\n",
        "\t\tself.word2count = new_word2count\n",
        "\t\tself.index2word = new_index2word\n",
        "\t\tself.word2index = new_word2index"
      ]
    },
    {
      "cell_type": "markdown",
      "metadata": {
        "id": "A4rckxAgWTaQ"
      },
      "source": [
        "**(1 point)** Get the vocabulary on both the training and validation set using the `Vocabulary` class. Remember, we don't use the test set here as we consider it as proxy production data. The trim it down as you see fit (around 20K words in the vocabulary is a good value)."
      ]
    },
    {
      "cell_type": "code",
      "execution_count": 19,
      "metadata": {
        "id": "W8eqcMYzfLJr",
        "colab": {
          "base_uri": "https://localhost:8080/"
        },
        "outputId": "f435b551-a905-4282-c0f2-840ab11354f4"
      },
      "outputs": [
        {
          "output_type": "execute_result",
          "data": {
            "text/plain": [
              "281160"
            ]
          },
          "metadata": {},
          "execution_count": 19
        }
      ],
      "source": [
        "vocabulary = Vocabulary()\n",
        "for rev in clean_dataset['train']['text']:\n",
        "  vocabulary.add_text(rev)\n",
        "for rev in clean_dataset['validation']['text']:\n",
        "  vocabulary.add_text(rev)\n",
        "# Your code...\n",
        "vocabulary.__len__()"
      ]
    },
    {
      "cell_type": "code",
      "execution_count": 20,
      "metadata": {
        "id": "ykGZb4-kaI8G",
        "colab": {
          "base_uri": "https://localhost:8080/"
        },
        "outputId": "9a8b62f3-91f0-4682-8f78-c530b2587e95"
      },
      "outputs": [
        {
          "output_type": "execute_result",
          "data": {
            "text/plain": [
              "20865"
            ]
          },
          "metadata": {},
          "execution_count": 20
        }
      ],
      "source": [
        "vocabulary.trim_vocabulary(15)\n",
        "vocabulary.__len__()"
      ]
    },
    {
      "cell_type": "markdown",
      "metadata": {
        "id": "QGLAUDPRWTaS"
      },
      "source": [
        "**(1 point)** Fill the encoding and decoding functions. The encoding function takes a text as input and returns a list IDs corresponding to the index of each word in the vocabulary. The decoding function reverse the process, turning a list of IDs into a text. Make sure the encoding function returns a numpy array."
      ]
    },
    {
      "cell_type": "code",
      "execution_count": 21,
      "metadata": {
        "id": "6Mj4AMqYk6xt"
      },
      "outputs": [],
      "source": [
        "# Encoding and decoding function\n",
        "\n",
        "def encode_text(text: str) -> np.ndarray:\n",
        "  \"\"\"Function that encodes the text.\n",
        "  Args:\n",
        "\ttext: the text to encode\n",
        "  Returns:\n",
        "  Encoded Text.\n",
        "  \"\"\"\n",
        "  tokens = text.split()\n",
        "  return np.array(list(map(lambda word: vocabulary.get_index(word), tokens)))\n",
        "\n",
        "def decode_text(encoded_text: np.ndarray) -> str:\n",
        "  \"\"\"Function that decodes the text.\n",
        "  Args:\n",
        "\tencoded_text: the text to decode\n",
        "  Returns:\n",
        "  Decoded Text.\n",
        "  \"\"\"\n",
        "  tokens = list(map(lambda index: vocabulary.get_word(index), encoded_text))\n",
        "  return \" \".join(tokens)"
      ]
    },
    {
      "cell_type": "markdown",
      "metadata": {
        "id": "WPUej2whwaXw"
      },
      "source": [
        "To make sure everything went well, we compare a text before and after encoding and then decoding it. You should see rare words / typos replaced by the `<UNK>` token."
      ]
    },
    {
      "cell_type": "code",
      "execution_count": 22,
      "metadata": {
        "id": "wdq011plYUHG",
        "colab": {
          "base_uri": "https://localhost:8080/",
          "height": 301,
          "referenced_widgets": [
            "d729e7823da04ff58ed3d75d654e220d",
            "9a8999a52a2245e78a4856551e9ef148",
            "b425d4d7ce774b7e81fea2eb640dc4d0",
            "96929118d09149ff93096dc68c856379",
            "0e12a60a8aa24a0181b2e8a726af425b",
            "9e791d6716a04ee699f5b049475cf88c",
            "7f747c9f4ab149adbfbbe2f003639bfa",
            "287a5db6eea149debc269a9566980d13",
            "0a51129148c041328eac6aba423575ac",
            "6c0b1879b3b646d49a652431fcdab0c1",
            "f9724d702ee84938aabf7ec99aa0b1ce",
            "e9f38a203a3c46bebe00bd801725fbf1",
            "4b783d4fc8454b1280b890de6c610248",
            "b538782a20c6495686c78f92a422ca01",
            "b5b5955cfe274a6b99481b8d2de3761d",
            "c9db61e1d285443cae874031d0e5a1f1",
            "f45c987e32fc452db5d37ed62600717a",
            "8397a4b0c4c444dcbff134a0943017f9",
            "da5c153ac30b425ba4e10a3c8ef193cc",
            "6104b6e383e048d7a525e4859f2e9622",
            "0e523c04e7d9444eb1db68e3f1beec62",
            "b6322670a6b041248f7a31b5e44dddf2",
            "906cd152247541c49a3f810abc47d502",
            "776a8ae4e8064009b77a09f67021d442",
            "c6e723e847c843428b4a42a06c6bdf61",
            "49481c2204664cef903201a5a238778b",
            "8e00c95b3a644f5493facf218a3be128",
            "f442ab7229b7442798505ec4fd8a6800",
            "5d95373b915f4f66ab0987d4d35d34ec",
            "648bca0031894443aaa08b4b693ddfdd",
            "a2d33af54e044165859e514b45d38a6b",
            "89489f0812964143a871085a6e27f261",
            "c6831136d485456e9b3e48264304bf87"
          ]
        },
        "outputId": "b19b5a06-13a4-4576-c8d9-026092f7b7aa"
      },
      "outputs": [
        {
          "output_type": "display_data",
          "data": {
            "text/plain": [
              "  0%|          | 0/20000 [00:00<?, ?ex/s]"
            ],
            "application/vnd.jupyter.widget-view+json": {
              "version_major": 2,
              "version_minor": 0,
              "model_id": "d729e7823da04ff58ed3d75d654e220d"
            }
          },
          "metadata": {}
        },
        {
          "output_type": "display_data",
          "data": {
            "text/plain": [
              "  0%|          | 0/5000 [00:00<?, ?ex/s]"
            ],
            "application/vnd.jupyter.widget-view+json": {
              "version_major": 2,
              "version_minor": 0,
              "model_id": "e9f38a203a3c46bebe00bd801725fbf1"
            }
          },
          "metadata": {}
        },
        {
          "output_type": "display_data",
          "data": {
            "text/plain": [
              "  0%|          | 0/25000 [00:00<?, ?ex/s]"
            ],
            "application/vnd.jupyter.widget-view+json": {
              "version_major": 2,
              "version_minor": 0,
              "model_id": "906cd152247541c49a3f810abc47d502"
            }
          },
          "metadata": {}
        }
      ],
      "source": [
        "# Apply the encoding function to the entire dataset.\n",
        "encoded_dataset = clean_dataset.map(lambda x: {\"text\": encode_text(x[\"text\"]), \"label\": x[\"label\"]})"
      ]
    },
    {
      "cell_type": "code",
      "execution_count": 23,
      "metadata": {
        "id": "NHrra3r4OlyQ",
        "colab": {
          "base_uri": "https://localhost:8080/"
        },
        "outputId": "5125539d-f40b-4e00-c0be-16fe0967954a"
      },
      "outputs": [
        {
          "output_type": "execute_result",
          "data": {
            "text/plain": [
              "int"
            ]
          },
          "metadata": {},
          "execution_count": 23
        }
      ],
      "source": [
        "type(encoded_dataset[\"train\"][\"text\"][0][0])"
      ]
    },
    {
      "cell_type": "code",
      "execution_count": 24,
      "metadata": {
        "id": "RT8UQgeWliQz",
        "colab": {
          "base_uri": "https://localhost:8080/"
        },
        "outputId": "6a2d2364-63f7-4755-b15b-2330b4ad7a99"
      },
      "outputs": [
        {
          "output_type": "execute_result",
          "data": {
            "text/plain": [
              "('When you are in a gloomy or depressed mood, go watch this film. It shows a lot of beauty and joy in a very simple everyday setting, and it is very encouraging, in particular from a feminist and a humanist perspective.<br /><br />When you know both the Turkish language and either the Danish or the German language, go watch the film in any case. Half of the dialog is Danish in the original, synchronized to German in the translated version, the other half Turkish, subtitled in Danish or German, respectively. When i watched it in Mannheim, Germany, the reaction of the Turkish-speaking audience proved that there must be a lot of humor in the Turkish dialog, which, deplorably, mostly escaped me, being only imperfectly rendered in the subtitles. Still, the film is interesting even if you lack knowledge of the Turkish.<br /><br />Esthetically, the movie is playing a lot on the theme of speed and slowness. On first sight, there is lots of corporeal movement fast as lightning, making it a quick, an agitated film. In particular, even though this is a Kung Fu movie, watch out for the running scenes, beautifully expressing a wealth of emotions. But there are quite a few very slow, emotionally intense scenes, too. And above all, the characters develop at a much slower pace than you would expect in a drama about the coming of age; still, there is some movement in the characters to: Closely watch the villain Omar, whose part and acting i liked very much.<br /><br />The contrast of speed and stillness nicely contributes to the depiction of human rage and dignity - shown at once, in the same characters, at the same time.',\n",
              " 'When you are in a gloomy or depressed mood, go watch this film. It shows a lot of beauty and joy in a very simple everyday setting, and it is very <UNK> in particular from a feminist and a <UNK> <UNK> /><br />When you know both the Turkish language and either the Danish or the German language, go watch the film in any case. Half of the dialog is Danish in the original, synchronized to German in the translated version, the other half <UNK> subtitled in Danish or German, respectively. When i watched it in <UNK> Germany, the reaction of the <UNK> audience proved that there must be a lot of humor in the Turkish dialog, which, <UNK> mostly escaped me, being only <UNK> rendered in the subtitles. Still, the film is interesting even if you lack knowledge of the <UNK> /><br <UNK> the movie is playing a lot on the theme of speed and <UNK> On first sight, there is lots of <UNK> movement fast as <UNK> making it a quick, an <UNK> film. In particular, even though this is a Kung Fu movie, watch out for the running scenes, beautifully expressing a wealth of emotions. But there are quite a few very slow, emotionally intense scenes, too. And above all, the characters develop at a much slower pace than you would expect in a drama about the coming of <UNK> still, there is some movement in the characters to: <UNK> watch the villain <UNK> whose part and acting i liked very much.<br /><br />The contrast of speed and <UNK> nicely contributes to the depiction of human rage and dignity - shown at once, in the same characters, at the same time.')"
            ]
          },
          "metadata": {},
          "execution_count": 24
        }
      ],
      "source": [
        "clean_dataset[\"train\"][\"text\"][0], decode_text(encoded_dataset[\"train\"][\"text\"][0])"
      ]
    },
    {
      "cell_type": "markdown",
      "metadata": {
        "id": "FVadYQD2nw52"
      },
      "source": [
        "## Batch preparation **(1 point)**\n",
        "\n",
        "To speed up learning, and take advantage of the GPU architecture, we provide data to the model by batches. Since all line in the same batch need to have the same length, we pad lines to the maximum length of each batch."
      ]
    },
    {
      "cell_type": "code",
      "execution_count": 25,
      "metadata": {
        "id": "dWV2pzgqa1cD"
      },
      "outputs": [],
      "source": [
        "def data_generator(X: np.ndarray, y: np.ndarray, batch_size: int = 32, pad_right: bool = False) -> Tuple[\n",
        "\tnp.ndarray, np.ndarray]:\n",
        "\t\"\"\"Generate randomly ordered batches of data+labels.\n",
        "    Args:\n",
        "        X: the input data.\n",
        "        y: the corresponding labels.\n",
        "        batch_size: the size of each batch [32].\n",
        "        pad_right: if true, the padding is done on the right [False].\n",
        "    \"\"\"\n",
        "\n",
        "\tX, y = shuffle(X, y)\n",
        "\tn_batches = int(np.ceil(len(y) / batch_size))\n",
        "\n",
        "\tfor i in range(n_batches):\n",
        "\n",
        "\t\tend = min((i + 1) * batch_size, len(y))\n",
        "\n",
        "\t\tX_batch = X[i * batch_size:end]\n",
        "\t\ty_batch = y[i * batch_size:end]\n",
        "\n",
        "\t\t# Padding to max ength size within the batch\n",
        "\t\tmax_len = np.max([len(x) for x in X_batch])\n",
        "\t\tfor j in range(len(X_batch)):\n",
        "\t\t\tx = X_batch[j]\n",
        "\t\t\tpad = [vocabulary.get_index(PAD_TOKEN)] * (max_len - len(x))\n",
        "\t\t\tX_batch[j] = x + pad if pad_right else pad + x\n",
        "\n",
        "\t\tX_batch = torch.from_numpy(np.array(X_batch)).long()\n",
        "\t\ty_batch = torch.from_numpy(np.array(y_batch)).long()\n",
        "\n",
        "\t\t# Yielding results, so every time the function is called, it starts again from here.\n",
        "\t\tyield X_batch, y_batch"
      ]
    },
    {
      "cell_type": "markdown",
      "metadata": {
        "id": "kK8ZcGK2WTac"
      },
      "source": [
        "Let's see what the batches look like."
      ]
    },
    {
      "cell_type": "code",
      "execution_count": 26,
      "metadata": {
        "id": "d1-D1ueJb6IR",
        "colab": {
          "base_uri": "https://localhost:8080/"
        },
        "outputId": "22a69f05-13e2-45de-bec4-b2aca56ad472"
      },
      "outputs": [
        {
          "output_type": "stream",
          "name": "stdout",
          "text": [
            "inputs tensor([[    0,     0,     0,  ...,    85,   351,  5715],\n",
            "        [    0,     0,     0,  ...,     1,     1, 11386],\n",
            "        [    0,     0,     0,  ...,     1,     1, 12261],\n",
            "        ...,\n",
            "        [    0,     0,     0,  ...,    18,  2331,     1],\n",
            "        [    0,     0,     0,  ...,  8115, 15254,     1],\n",
            "        [    0,     0,     0,  ...,     5,    35,  4602]]) shape: torch.Size([32, 505])\n",
            "labels tensor([1, 0, 1, 0, 1, 1, 1, 1, 1, 1, 1, 0, 1, 0, 0, 0, 1, 1, 0, 0, 0, 1, 0, 0,\n",
            "        0, 1, 1, 1, 1, 1, 0, 0]) shape: torch.Size([32])\n"
          ]
        }
      ],
      "source": [
        "for inputs, labels in data_generator(encoded_dataset[\"train\"][\"text\"], encoded_dataset[\"train\"][\"label\"]):\n",
        "\tprint(\"inputs\", inputs, \"shape:\", inputs.shape)\n",
        "\tprint(\"labels\", labels, \"shape:\", labels.shape)\n",
        "\tbreak"
      ]
    },
    {
      "cell_type": "markdown",
      "metadata": {
        "id": "idylIiC1WTao"
      },
      "source": [
        "**(1 point)** Question: On which side should we pad the data for our use case and why?"
      ]
    },
    {
      "cell_type": "markdown",
      "source": [
        "Le padding à gauche donne de meilleurs résultats empriquement."
      ],
      "metadata": {
        "id": "P57M0CC-Tmyx"
      }
    },
    {
      "cell_type": "markdown",
      "metadata": {
        "id": "t5uO-cAWodA0"
      },
      "source": [
        "## The model **(13 points)**\n",
        "\n",
        "We use a simple RNN with a configurable number of layers."
      ]
    },
    {
      "cell_type": "code",
      "execution_count": 27,
      "metadata": {
        "id": "xel73Svtcgrf",
        "colab": {
          "base_uri": "https://localhost:8080/"
        },
        "outputId": "0547483a-fb7d-4373-b2b9-0d038cd2eacb"
      },
      "outputs": [
        {
          "output_type": "execute_result",
          "data": {
            "text/plain": [
              "device(type='cuda', index=0)"
            ]
          },
          "metadata": {},
          "execution_count": 27
        }
      ],
      "source": [
        "# Before starting, let's set up the device. A GPU if available, else the CPU.\n",
        "device = torch.device(\"cuda:0\" if torch.cuda.is_available() else \"cpu\")\n",
        "device"
      ]
    },
    {
      "cell_type": "code",
      "execution_count": 28,
      "metadata": {
        "id": "yiNVffK_cnxM"
      },
      "outputs": [],
      "source": [
        "class RNN(nn.Module):\n",
        "\t\"\"\"A simple RNN module with word embeddings.\n",
        "    \"\"\"\n",
        "\n",
        "\tdef __init__(self, vocab_size: int, embed_size: int, hidden_size: int, n_layers: int, n_outputs: int) -> None:\n",
        "\t\t\"\"\"\n",
        "        Args:\n",
        "            vocab_size: vocabulary size.\n",
        "            embed_size: embedding dimensions.\n",
        "            hidden_size: hidden layer size.\n",
        "            n_layers: the number of layers.\n",
        "            n_outputs: the number of output classes.\n",
        "        \"\"\"\n",
        "\t\tsuper().__init__()\n",
        "\t\tself.vocab_size = vocab_size\n",
        "\t\tself.embed_size = embed_size\n",
        "\t\tself.hidden_size = hidden_size\n",
        "\t\tself.n_layers = n_layers\n",
        "\t\tself.n_outputs = n_outputs\n",
        "\n",
        "\t\t# The word embedding layer.\n",
        "\t\tself.embed = nn.Embedding(self.vocab_size, self.embed_size)\n",
        "\t\t# The RNN\n",
        "\t\tself.rnn = nn.RNN(\n",
        "\t\t\tinput_size=self.embed_size,\n",
        "\t\t\thidden_size=self.hidden_size,\n",
        "\t\t\tnum_layers=self.n_layers,\n",
        "\t\t\tbatch_first=True # Changes the order of dimension to put the batches first.\n",
        "\t\t)\n",
        "\t\t# A fully connected layer to project the RNN's output to only one output used for classification.\n",
        "\t\tself.fc = nn.Linear(self.hidden_size, self.n_outputs)\n",
        "\n",
        "\tdef forward(self, X: torch.Tensor) -> torch.Tensor:\n",
        "\t\t\"\"\"Function called when the model is called with data as input.\n",
        "        Args:\n",
        "            X: the input tensor of dimensions batch_size, sequence length, vocab size (actually just an int).\n",
        "        Returns:\n",
        "            The resulting tensor of dimension batch_size, sequence length, output dimensions.\n",
        "        \"\"\"\n",
        "\t\th0 = torch.zeros(self.n_layers, X.size(0), self.hidden_size).to(device)\n",
        "\n",
        "\t\tout = self.embed(X)\n",
        "\t\t# out contains the output layer of all words in the sequence.\n",
        "\t\t# First dim is batch, second the word in the sequence, third is the vector itself.\n",
        "\t\t# The second output value is the last vector of all intermediate layer.\n",
        "\t\t# Only use it if you want to access the intermediate layer values of a\n",
        "\t\t# multilayer model.\n",
        "\t\tout, hn = self.rnn(out, h0)\n",
        "\t\t# Getting the last value only.\n",
        "\t\tout = out[:, -1, :]\n",
        "\n",
        "\t\t# Linear projection.\n",
        "\t\tout = self.fc(out)\n",
        "\n",
        "\t\treturn out"
      ]
    },
    {
      "cell_type": "markdown",
      "metadata": {
        "id": "KyAl4NEDWTat"
      },
      "source": [
        "Note that we do not pass the output through a sigmoid function. This is because pyTorch implements some code optimization within the `BCEWithLogitsLoss` we'll see later."
      ]
    },
    {
      "cell_type": "code",
      "execution_count": 29,
      "metadata": {
        "id": "f_A6P4j3H7ba"
      },
      "outputs": [],
      "source": [
        "def my_accuracy(outputs: torch.Tensor, labels: torch.Tensor):\n",
        "\t\"\"\"Function for accuracy computing between outputs and inputs tensors from logits.\n",
        "\tArgs:\n",
        "\t\toutputs: the outputs from model inferrence.\n",
        "\t\tlabels: the labels for ground truth.\n",
        "\tReturns:\n",
        "\t\tThe accuracy.\n",
        "\t\"\"\"\n",
        "\toutputs = torch.sigmoid(outputs)\n",
        "\toutputs = torch.where(outputs > 0.5, 1, 0)\n",
        "\tacc = (torch.sum(outputs == labels).float()/labels.size()[0]).item()\n",
        "\treturn acc"
      ]
    },
    {
      "cell_type": "code",
      "execution_count": 30,
      "metadata": {
        "id": "Zw-lzgfveXB3"
      },
      "outputs": [],
      "source": [
        "def train(\n",
        "\t\tmodel: nn.Module,\n",
        "\t\tcriterion: Callable,\n",
        "\t\toptimizier: torch.optim.Optimizer,\n",
        "\t\tn_epochs: int,\n",
        "\t\ttrain_gen: Callable,\n",
        "\t\tvalid_gen: Callable,\n",
        ") -> Tuple[List[float], List[float]]:\n",
        "\t\"\"\"Train a model using a batch gradient descent.\n",
        "    Args:\n",
        "        model: a class inheriting from nn.Module.\n",
        "        criterion: a loss criterion.\n",
        "        optimizer: an optimizer (e.g. Adam, RMSprop, ...).\n",
        "        n_epochs: the number of training epochs.\n",
        "        train_gen: a callable function returing a batch (data, labels).\n",
        "        valid_gen: a callable function returing a batch (data, labels).\n",
        "\tReturns:\n",
        "\t\ttrain_losses: the mean losses from each epoch on training partition.\n",
        "\t\tvalidation_losses: the mean losses from each epoch on validation partition.\n",
        "\t\tbest_model: the best model from epoch with minimum validation_loss.\n",
        "    \"\"\"\n",
        "\ttrain_losses = np.zeros(n_epochs)\n",
        "\tvalid_losses = np.zeros(n_epochs)\n",
        "\tbest_val_loss = float('inf')\n",
        "\tbest_model = model\n",
        "\n",
        "\tfor epoch in range(n_epochs):\n",
        "\n",
        "\t\tt0 = datetime.now()\n",
        "\t\tmodel.train()\n",
        "\t\ttrain_loss = []\n",
        "\n",
        "\t\t# Training loop.\n",
        "\t\tfor inputs, labels in train_gen():\n",
        "\t\t\t# labels are of dimension (N,) we turn them into (N, 1).\n",
        "\t\t\tlabels = labels.view(-1, 1).float()\n",
        "\t\t\t# Put them on the GPU.\n",
        "\t\t\tinputs, labels = inputs.to(device), labels.to(device)\n",
        "\n",
        "\t\t\t# Reset the gradient.\n",
        "\t\t\toptimizer.zero_grad()\n",
        "\n",
        "\t\t\toutputs = model(inputs)\n",
        "\t\t\tloss = criterion(outputs, labels)\n",
        "\t\t\tloss.backward()\n",
        "\t\t\toptimizier.step()\n",
        "\t\t\t\n",
        "\t\t\ttrain_loss.append(loss.item())  # .item() detach the value from GPU.\n",
        "   \n",
        "\t\ttrain_losses[epoch] = np.mean(train_loss)\n",
        "\n",
        "\t\tmodel.eval()\n",
        "\t\tvalid_loss = []\n",
        "\t\t# Evaluation loop.\n",
        "\t\tfor inputs, labels in valid_gen():\n",
        "\t\t\tlabels = labels.view(-1, 1).float()\n",
        "\t\t\tinputs, labels = inputs.to(device), labels.to(device)\n",
        "\n",
        "\t\t\toutputs = model(inputs)\n",
        "\t\t\tloss = criterion(outputs, labels)\n",
        "\n",
        "\t\t\tvalid_loss.append(loss.item())\n",
        "\n",
        "\t\tvalid_losses[epoch] = np.mean(valid_loss)\n",
        "  \n",
        "\t\tif valid_losses[epoch] < best_val_loss:\n",
        "\t\t\tbest_val_loss = valid_losses[epoch]\n",
        "\t\t\tbest_model = model\n",
        "\t\tprint(\n",
        "\t\t\tf\"Epoch: {epoch}, training loss: {train_losses[epoch]}, validation loss: {valid_losses[epoch]} in {datetime.now() - t0}\")\n",
        "\treturn train_losses, valid_losses, best_model"
      ]
    },
    {
      "cell_type": "markdown",
      "metadata": {
        "id": "lCfXsLZUWTav"
      },
      "source": [
        "We setup the model, criterion (a binary cross entropy), and the optimizer (Adam).\n",
        "\n",
        "Note that `BCEWithLogitsLoss` use a mathematical trick to incorporate the sigmoid function in its computation. This trick makes the learning process go slightly faster and is the reason why we didn't put a sigmoid in the forward function of the model."
      ]
    },
    {
      "cell_type": "code",
      "execution_count": 31,
      "metadata": {
        "id": "K7Mpe44Dd85Z"
      },
      "outputs": [],
      "source": [
        "model = RNN(len(vocabulary), 32, 64, 2, 1).to(device)\n",
        "criterion = nn.BCEWithLogitsLoss()\n",
        "optimizer = torch.optim.Adam(model.parameters())"
      ]
    },
    {
      "cell_type": "markdown",
      "metadata": {
        "id": "eeJn4q3bWTaz"
      },
      "source": [
        "We get the 3 generators."
      ]
    },
    {
      "cell_type": "code",
      "execution_count": 32,
      "metadata": {
        "id": "srYPmX_aeLwD"
      },
      "outputs": [],
      "source": [
        "train_gen = lambda: data_generator(encoded_dataset[\"train\"][\"text\"], encoded_dataset[\"train\"][\"label\"])\n",
        "valid_gen = lambda: data_generator(encoded_dataset[\"validation\"][\"text\"], encoded_dataset[\"validation\"][\"label\"])\n",
        "test_gen = lambda: data_generator(encoded_dataset[\"test\"][\"text\"], encoded_dataset[\"test\"][\"label\"])"
      ]
    },
    {
      "cell_type": "markdown",
      "metadata": {
        "id": "PJhK3MUAWTa1"
      },
      "source": [
        "And train the model."
      ]
    },
    {
      "cell_type": "code",
      "execution_count": 33,
      "metadata": {
        "id": "WB98HqD3fk1G",
        "colab": {
          "base_uri": "https://localhost:8080/"
        },
        "outputId": "82e15b28-33fd-467f-e046-a21d9f5670a3"
      },
      "outputs": [
        {
          "output_type": "stream",
          "name": "stdout",
          "text": [
            "Epoch: 0, training loss: 0.6836745496749878, validation loss: 0.7308715244007719 in 0:00:07.585012\n",
            "Epoch: 1, training loss: 0.6770152880668641, validation loss: 0.6765399525879295 in 0:00:07.300243\n",
            "Epoch: 2, training loss: 0.6172892018795013, validation loss: 0.6445271739154864 in 0:00:07.352526\n",
            "Epoch: 3, training loss: 0.5947062493801117, validation loss: 0.8510020921944054 in 0:00:07.645209\n",
            "Epoch: 4, training loss: 0.6462422083377838, validation loss: 0.6368857234906239 in 0:00:07.256038\n",
            "Epoch: 5, training loss: 0.5918604472160339, validation loss: 0.6673318162845199 in 0:00:07.340277\n",
            "Epoch: 6, training loss: 0.5791006767749787, validation loss: 0.6297374529064081 in 0:00:07.312355\n",
            "Epoch: 7, training loss: 0.4931350224733353, validation loss: 0.5719112501402569 in 0:00:07.238294\n",
            "Epoch: 8, training loss: 0.4944063071966171, validation loss: 0.6340408813042245 in 0:00:07.941874\n",
            "Epoch: 9, training loss: 0.4704112206459045, validation loss: 0.5779074590866733 in 0:00:07.538208\n"
          ]
        }
      ],
      "source": [
        "train_losses, valid_losses, model = train(model, criterion, optimizer, 10, train_gen, valid_gen)"
      ]
    },
    {
      "cell_type": "markdown",
      "metadata": {
        "id": "KwZAUXrnWTa2"
      },
      "source": [
        "We can look at the training and validation loss."
      ]
    },
    {
      "cell_type": "code",
      "execution_count": 34,
      "metadata": {
        "id": "VATw05GYfwNm",
        "colab": {
          "base_uri": "https://localhost:8080/",
          "height": 282
        },
        "outputId": "d52a9743-4de3-4cee-9f27-c27c2aeff7a2"
      },
      "outputs": [
        {
          "output_type": "execute_result",
          "data": {
            "text/plain": [
              "<matplotlib.legend.Legend at 0x7f1eaca79b10>"
            ]
          },
          "metadata": {},
          "execution_count": 34
        },
        {
          "output_type": "display_data",
          "data": {
            "text/plain": [
              "<Figure size 432x288 with 1 Axes>"
            ],
            "image/png": "[encoded data removed]"
          },
          "metadata": {
            "needs_background": "light"
          }
        }
      ],
      "source": [
        "plt.plot(train_losses, label=\"Training loss\")\n",
        "plt.plot(valid_losses, label=\"Validation loss\")\n",
        "plt.legend()"
      ]
    },
    {
      "cell_type": "markdown",
      "metadata": {
        "id": "7SfRJZTBWTa4"
      },
      "source": [
        "For the assignment, code the following.\n",
        "* **(2 points)** The model validation loss should go down and then up. It means the model starts overfitting after a certain number of iterations. Modify the `train` function so it returns the model found with the best validation loss.\n",
        "* **(2 points)** Add an accuracy function and report the accuracy of the training and test set.\n",
        "* **(3 points)** Create an LSTM class which uses an LSTM instead of an RNN. Compare its results with the RNN.\n",
        "* **(2 point)** Implement a function which takes any text and return the model's prediction.\n",
        "    * The function should have a string as input and return a class (0 or 1) and its probability (score out of a [sigmoid](https://pytorch.org/docs/stable/generated/torch.sigmoid.html)).\n",
        "    * Don't forget to make the text go through the same pretreatment and encoding you used to train your model.\n",
        "* **(3 points)** Create a bidirectional LSTM (BiLSTM) class to classify your sentences. Report the accuracy on the training and test data.\n",
        "    * To combine the last output of both direction, you can concatenate, add, or max-pool them. Please document your choice.\n",
        "* **(1 point)** With your best classifier, look at two wrongly classified examples on the test set. Try explaining why the model was wrong.\n",
        "* **(Bonus)** Try finding better hyperparameters (dimensions, number of layers, ...). Document your experiments and results."
      ]
    },
    {
      "cell_type": "code",
      "source": [
        "def accuracy(model: nn.Module, generator):\n",
        "    \"\"\"Function that computes accuracy on a partition.\n",
        "    Args:\n",
        "        model: The model to evaluate.\n",
        "        generator: the generator from wich the dataset will be retrieved.\n",
        "    \"\"\"\n",
        "    model.eval()\n",
        "    acc = []\n",
        "    # Evaluation loop.\n",
        "    for inputs, labels in generator():\n",
        "        labels = labels.view(-1, 1).float()\n",
        "        inputs, labels = inputs.to(device), labels.to(device)\n",
        "\n",
        "        outputs = model(inputs)\n",
        "        acc.append(my_accuracy(outputs, labels))\n",
        "\n",
        "    print(np.mean(acc))"
      ],
      "metadata": {
        "id": "5H9_rh3f-zlE"
      },
      "execution_count": 35,
      "outputs": []
    },
    {
      "cell_type": "code",
      "source": [
        "accuracy(model, train_gen)\n",
        "accuracy(model, valid_gen)"
      ],
      "metadata": {
        "colab": {
          "base_uri": "https://localhost:8080/"
        },
        "id": "gY7V2EMV_dth",
        "outputId": "43b2c5c6-cf83-406b-89ab-ca7b1c297508"
      },
      "execution_count": 36,
      "outputs": [
        {
          "output_type": "stream",
          "name": "stdout",
          "text": [
            "0.83045\n",
            "0.7241242038216561\n"
          ]
        }
      ]
    },
    {
      "cell_type": "code",
      "execution_count": 37,
      "metadata": {
        "id": "e5FZbgwK-yoX"
      },
      "outputs": [],
      "source": [
        "class LSTM(nn.Module):\n",
        "\t\"\"\"A simple LSTM module with word embeddings.\n",
        "    \"\"\"\n",
        "\n",
        "\tdef __init__(self, vocab_size: int, embed_size: int, hidden_size: int, n_layers: int, n_outputs: int) -> None:\n",
        "\t\t\"\"\"\n",
        "        Args:\n",
        "            vocab_size: vocabulary size.\n",
        "            embed_size: embedding dimensions.\n",
        "            hidden_size: hidden layer size.\n",
        "            n_layers: the number of layers.\n",
        "            n_outputs: the number of output classes.\n",
        "        \"\"\"\n",
        "\t\tsuper().__init__()\n",
        "\t\tself.vocab_size = vocab_size\n",
        "\t\tself.embed_size = embed_size\n",
        "\t\tself.hidden_size = hidden_size\n",
        "\t\tself.n_layers = n_layers\n",
        "\t\tself.n_outputs = n_outputs\n",
        "\n",
        "\t\t# The word embedding layer.\n",
        "\t\tself.embed = nn.Embedding(self.vocab_size, self.embed_size)\n",
        "\t\t# The LSTM\n",
        "\t\tself.rnn = nn.LSTM(\n",
        "\t\t\tinput_size=self.embed_size,\n",
        "\t\t\thidden_size=self.hidden_size,\n",
        "\t\t\tnum_layers=self.n_layers,\n",
        "\t\t\tbatch_first=True, \n",
        "\t\t\tdropout=0.5  # Changes the order of dimension to put the batches first.\n",
        "\t\t)\n",
        "\t\t# A fully connected layer to project the LSTM's output to only one output used for classification.\n",
        "\t\tself.fc = nn.Linear(self.hidden_size, self.n_outputs)\n",
        "\n",
        "\tdef forward(self, X: torch.Tensor) -> torch.Tensor:\n",
        "\t\t\"\"\"Function called when the model is called with data as input.\n",
        "        Args:\n",
        "            X: the input tensor of dimensions batch_size, sequence length, vocab size (actually just an int).\n",
        "        Returns:\n",
        "            The resulting tensor of dimension batch_size, sequence length, output dimensions.\n",
        "        \"\"\"\n",
        "\t\th0 = torch.randn(self.n_layers, X.size(0), self.hidden_size).to(device)\n",
        "\t\tc0 = torch.randn(self.n_layers, X.size(0), self.hidden_size).to(device)\n",
        "\n",
        "\t\tout = self.embed(X)\n",
        "\t\t# out contains the output layer of all words in the sequence.\n",
        "\t\t# First dim is batch, second the word in the sequence, third is the vector itself.\n",
        "\t\t# The second output value is the last vector of all intermediate layer.\n",
        "\t\t# Only use it if you want to access the intermediate layer values of a\n",
        "\t\t# multilayer model.\n",
        "\t\tout, (hn, cn) = self.rnn(out, (h0, c0))\n",
        "\t\t# Getting the last value only.\n",
        "\t\tout = out[:, -1, :]\n",
        "\n",
        "\t\t# Linear projection.\n",
        "\t\tout = self.fc(out)\n",
        "\n",
        "\t\treturn out"
      ]
    },
    {
      "cell_type": "code",
      "execution_count": 38,
      "metadata": {
        "jupyter": {
          "outputs_hidden": false
        },
        "colab": {
          "base_uri": "https://localhost:8080/"
        },
        "id": "TjKXY8GQxDNr",
        "outputId": "926fdb82-b670-45b0-aab5-b4c402ebd954"
      },
      "outputs": [
        {
          "output_type": "stream",
          "name": "stdout",
          "text": [
            "Epoch: 0, training loss: 0.6638426062107086, validation loss: 0.6202050671455966 in 0:00:08.724231\n",
            "Epoch: 1, training loss: 0.5617684300899506, validation loss: 0.651501012835533 in 0:00:08.611176\n",
            "Epoch: 2, training loss: 0.48063948822021485, validation loss: 0.4750948640381455 in 0:00:08.883252\n",
            "Epoch: 3, training loss: 0.3762978415727615, validation loss: 0.456542427752428 in 0:00:08.650541\n",
            "Epoch: 4, training loss: 0.3520643731832504, validation loss: 0.4363508326042989 in 0:00:08.536450\n",
            "Epoch: 5, training loss: 0.26588470414876936, validation loss: 0.43797295346001913 in 0:00:08.664114\n",
            "Epoch: 6, training loss: 0.22849244464039803, validation loss: 0.44620299709450667 in 0:00:08.768955\n",
            "Epoch: 7, training loss: 0.2468565118789673, validation loss: 0.45099919626287593 in 0:00:08.596248\n",
            "Epoch: 8, training loss: 0.5104043982952833, validation loss: 0.5517156663214325 in 0:00:08.650374\n",
            "Epoch: 9, training loss: 0.2394741032600403, validation loss: 0.7095322296687752 in 0:00:08.784958\n"
          ]
        }
      ],
      "source": [
        "model = LSTM(len(vocabulary), 32, 64, 2, 1).to(device)\n",
        "optimizer = torch.optim.Adam(model.parameters())\n",
        "criterion = nn.BCEWithLogitsLoss()\n",
        "train_losses, valid_losses, model = train(model, criterion, optimizer, 10, train_gen, valid_gen)"
      ]
    },
    {
      "cell_type": "code",
      "source": [
        "plt.plot(train_losses, label=\"Training loss\")\n",
        "plt.plot(valid_losses, label=\"Validation loss\")\n",
        "plt.legend()"
      ],
      "metadata": {
        "colab": {
          "base_uri": "https://localhost:8080/",
          "height": 282
        },
        "id": "onf_SPDMB7qY",
        "outputId": "a2096ab9-0190-4714-98de-5acd77628c29"
      },
      "execution_count": 39,
      "outputs": [
        {
          "output_type": "execute_result",
          "data": {
            "text/plain": [
              "<matplotlib.legend.Legend at 0x7f1f45ce8990>"
            ]
          },
          "metadata": {},
          "execution_count": 39
        },
        {
          "output_type": "display_data",
          "data": {
            "text/plain": [
              "<Figure size 432x288 with 1 Axes>"
            ],
            "image/png": "[encoded data removed]"
          },
          "metadata": {
            "needs_background": "light"
          }
        }
      ]
    },
    {
      "cell_type": "code",
      "source": [
        "accuracy(model, train_gen)\n",
        "accuracy(model, valid_gen)"
      ],
      "metadata": {
        "colab": {
          "base_uri": "https://localhost:8080/"
        },
        "id": "_YbQSTmTmdYA",
        "outputId": "3d45ab93-5d26-491b-ac48-12b85146bb30"
      },
      "execution_count": 40,
      "outputs": [
        {
          "output_type": "stream",
          "name": "stdout",
          "text": [
            "0.893\n",
            "0.7890127388535032\n"
          ]
        }
      ]
    },
    {
      "cell_type": "markdown",
      "source": [
        "On peut voir qu'en 10 epochs la LSTM a plus d'accuracy sur le dataset de train et de test que le RNN."
      ],
      "metadata": {
        "id": "BPnAFz7jmh_Q"
      }
    },
    {
      "cell_type": "code",
      "execution_count": 41,
      "metadata": {
        "jupyter": {
          "outputs_hidden": false
        },
        "colab": {
          "base_uri": "https://localhost:8080/"
        },
        "id": "nIhRy7nixDNr",
        "outputId": "36ef7816-987d-4c4c-ae29-3e66f387e1a4"
      },
      "outputs": [
        {
          "output_type": "execute_result",
          "data": {
            "text/plain": [
              "(1, 0.9648454785346985)"
            ]
          },
          "metadata": {},
          "execution_count": 41
        }
      ],
      "source": [
        "def predict(model: nn.Module, input_text: str, vocabulary: Vocabulary):\n",
        "\t\"\"\"Function used to predict on a custom text.\n",
        "\tArgs: \n",
        "\t\tmodel: the model to use for prediction.\n",
        "\t\tinput_text: the text to classify.\n",
        "\t\tvocabulary: the class for vocabulary operations.\n",
        "\tReturn:\n",
        "\t\tThe class predicted with its probability.\n",
        "\t\"\"\"\n",
        "\ttreated_text: np.ndarray = np.array([encode_text(pretreatment(input_text))])\n",
        "\tX = torch.from_numpy(treated_text).long().to(device)\n",
        "\tmodel.eval()\n",
        "\tnb = model(X)\n",
        "\tnb = torch.sigmoid(nb)\n",
        "\toutput = torch.where(nb > 0.5, 1, 0)\n",
        "\treturn output.item(), nb.item()\n",
        "\n",
        "\n",
        "predict(model, \"this is the best movie ever !\", vocabulary)"
      ]
    },
    {
      "cell_type": "code",
      "source": [
        "class BiLSTM(nn.Module):\n",
        "    \"\"\"A simple BiLSTM module with word embeddings.\n",
        "    \"\"\"\n",
        "\n",
        "    def __init__(self, vocab_size: int, embed_size: int, hidden_size: int, n_layers: int, n_outputs: int) -> None:\n",
        "        \"\"\"\n",
        "        Args:\n",
        "            vocab_size: vocabulary size.\n",
        "            embed_size: embedding dimensions.\n",
        "            hidden_size: hidden layer size.\n",
        "            n_layers: the number of layers.\n",
        "            n_outputs: the number of output classes.\n",
        "        \"\"\"\n",
        "        super().__init__()\n",
        "        self.vocab_size = vocab_size\n",
        "        self.embed_size = embed_size\n",
        "        self.hidden_size = hidden_size\n",
        "        self.n_layers = n_layers\n",
        "        self.n_outputs = n_outputs\n",
        "\n",
        "        # The word embedding layer.\n",
        "        self.embed = nn.Embedding(self.vocab_size, self.embed_size)\n",
        "        # The BiLSTM\n",
        "        self.rnn = nn.LSTM(\n",
        "            input_size=self.embed_size,\n",
        "            hidden_size=self.hidden_size,\n",
        "            num_layers=self.n_layers,\n",
        "            batch_first=True, \n",
        "            dropout=0.5,\n",
        "            bidirectional=True  # Changes the order of dimension to put the batches first.\n",
        "        )\n",
        "        # A fully connected layer to project the BiLSTM's output to only one output used for classification.\n",
        "        self.fc = nn.Linear(self.hidden_size * 2, self.n_outputs)\n",
        "\n",
        "    def forward(self, X: torch.Tensor) -> torch.Tensor:\n",
        "        \"\"\"Function called when the model is called with data as input.\n",
        "        Args:\n",
        "            X: the input tensor of dimensions batch_size, sequence length, vocab size (actually just an int).\n",
        "        Returns:\n",
        "            The resulting tensor of dimension batch_size, sequence length, output dimensions.\n",
        "        \"\"\"\n",
        "        h0 = torch.randn(self.n_layers * 2, X.size(0), self.hidden_size).to(device)\n",
        "        c0 = torch.randn(self.n_layers * 2, X.size(0), self.hidden_size).to(device)\n",
        "\n",
        "        out = self.embed(X)\n",
        "        # out contains the output layer of all words in the sequence.\n",
        "        # First dim is batch, second the word in the sequence, third is the vector itself.\n",
        "        # The second output value is the last vector of all intermediate layer.\n",
        "        # Only use it if you want to access the intermediate layer values of a\n",
        "        # multilayer model.\n",
        "        out, (hn, cn) = self.rnn(out, (h0, c0))\n",
        "        # Getting the last value only.\n",
        "        out = out[:, -1, :]\n",
        "\n",
        "        # Linear projection.\n",
        "        out = self.fc(out)\n",
        "\n",
        "        return out"
      ],
      "metadata": {
        "id": "-Tx6ncpZDTk0"
      },
      "execution_count": 42,
      "outputs": []
    },
    {
      "cell_type": "code",
      "source": [
        "model = BiLSTM(len(vocabulary), 32, 64, 2, 1).to(device)\n",
        "optimizer = torch.optim.Adam(model.parameters())\n",
        "criterion = nn.BCEWithLogitsLoss()\n",
        "train_losses, valid_losses, model = train(model, criterion, optimizer, 10, train_gen, valid_gen)"
      ],
      "metadata": {
        "colab": {
          "base_uri": "https://localhost:8080/"
        },
        "id": "Mjpc3IrLoOfP",
        "outputId": "a6173a1f-f7a1-4fc3-a09c-536eedb49a20"
      },
      "execution_count": 43,
      "outputs": [
        {
          "output_type": "stream",
          "name": "stdout",
          "text": [
            "Epoch: 0, training loss: 0.6573516902923584, validation loss: 0.594894402346034 in 0:00:13.711257\n",
            "Epoch: 1, training loss: 0.604647757768631, validation loss: 0.5970571942769798 in 0:00:14.644248\n",
            "Epoch: 2, training loss: 0.5090308856487274, validation loss: 0.47858701133803955 in 0:00:13.543268\n",
            "Epoch: 3, training loss: 0.44785207629203794, validation loss: 0.43830978120588193 in 0:00:13.434736\n",
            "Epoch: 4, training loss: 0.3738656736135483, validation loss: 0.5019956010921746 in 0:00:13.478547\n",
            "Epoch: 5, training loss: 0.29933415021896365, validation loss: 0.3981145841490691 in 0:00:13.346268\n",
            "Epoch: 6, training loss: 0.25491171024441717, validation loss: 0.3997357176367644 in 0:00:13.666420\n",
            "Epoch: 7, training loss: 0.26310275042057035, validation loss: 0.38833217768912104 in 0:00:13.380217\n",
            "Epoch: 8, training loss: 0.1889203165858984, validation loss: 0.40067801197433167 in 0:00:13.425590\n",
            "Epoch: 9, training loss: 0.16190930408537388, validation loss: 0.40485413907582213 in 0:00:13.543662\n"
          ]
        }
      ]
    },
    {
      "cell_type": "code",
      "source": [
        "plt.plot(train_losses, label=\"Training loss\")\n",
        "plt.plot(valid_losses, label=\"Validation loss\")\n",
        "plt.legend()"
      ],
      "metadata": {
        "colab": {
          "base_uri": "https://localhost:8080/",
          "height": 282
        },
        "id": "vDkuuomWoTd5",
        "outputId": "7d41cebf-1d19-4922-eee7-acdcdea5b3a2"
      },
      "execution_count": 44,
      "outputs": [
        {
          "output_type": "execute_result",
          "data": {
            "text/plain": [
              "<matplotlib.legend.Legend at 0x7f1eac375f90>"
            ]
          },
          "metadata": {},
          "execution_count": 44
        },
        {
          "output_type": "display_data",
          "data": {
            "text/plain": [
              "<Figure size 432x288 with 1 Axes>"
            ],
            "image/png": "[encoded data removed]"
          },
          "metadata": {
            "needs_background": "light"
          }
        }
      ]
    },
    {
      "cell_type": "code",
      "source": [
        "accuracy(model, train_gen)\n",
        "accuracy(model, valid_gen)"
      ],
      "metadata": {
        "colab": {
          "base_uri": "https://localhost:8080/"
        },
        "id": "70hgpgHcrLW0",
        "outputId": "1221c3b9-2c06-441e-bdc0-c04bb0d9cd78"
      },
      "execution_count": 45,
      "outputs": [
        {
          "output_type": "stream",
          "name": "stdout",
          "text": [
            "0.95845\n",
            "0.8501194267515924\n"
          ]
        }
      ]
    },
    {
      "cell_type": "markdown",
      "source": [
        "Le module LSTM de pytorch concatène déjà les outputs de chaque direction."
      ],
      "metadata": {
        "id": "rN0nJxA8xRKG"
      }
    },
    {
      "cell_type": "markdown",
      "source": [
        "BONUS:\n",
        "\n",
        "*   RNN: ajout d'une couche cachée.\n",
        "*   LSTM: ajout d'un dropout 0.5 sur la deuxième couche cachée du LSTM\n",
        "*   BiLSTM: ajout d'un dropout 0.5 sur la deuxième couche cachée du LSTM"
      ],
      "metadata": {
        "id": "_HX6tHCM4EzX"
      }
    },
    {
      "cell_type": "code",
      "source": [],
      "metadata": {
        "id": "RiwX4nZ47LBH"
      },
      "execution_count": 45,
      "outputs": []
    }
  ],
  "metadata": {
    "accelerator": "GPU",
    "colab": {
      "collapsed_sections": [
        "FzAHrPfReDqu",
        "5UoMzhBOeGxe",
        "Hv3rt4ZieQbN",
        "0t40J_xte1dz",
        "FVadYQD2nw52"
      ],
      "provenance": []
    },
    "gpuClass": "standard",
    "kernelspec": {
      "display_name": "Python 3 (ipykernel)",
      "language": "python",
      "name": "python3"
    },
    "language_info": {
      "codemirror_mode": {
        "name": "ipython",
        "version": 3
      },
      "file_extension": ".py",
      "mimetype": "text/x-python",
      "name": "python",
      "nbconvert_exporter": "python",
      "pygments_lexer": "ipython3",
      "version": "3.8.10"
    },
    "widgets": {
      "application/vnd.jupyter.widget-state+json": {
        "3bb0643a04aa4e239b605431170d8024": {
          "model_module": "@jupyter-widgets/controls",
          "model_name": "HBoxModel",
          "model_module_version": "1.5.0",
          "state": {
            "_dom_classes": [],
            "_model_module": "@jupyter-widgets/controls",
            "_model_module_version": "1.5.0",
            "_model_name": "HBoxModel",
            "_view_count": null,
            "_view_module": "@jupyter-widgets/controls",
            "_view_module_version": "1.5.0",
            "_view_name": "HBoxView",
            "box_style": "",
            "children": [
              "IPY_MODEL_1f53e254c3884d2e9f5d33d500bd0763",
              "IPY_MODEL_bd56041529274af1a4ab34d65acc21d9",
              "IPY_MODEL_aca99c161cca441eabeeeeb6c964620f"
            ],
            "layout": "IPY_MODEL_f9b0bfdeab56441e8e2be184d5c289bf"
          }
        },
        "1f53e254c3884d2e9f5d33d500bd0763": {
          "model_module": "@jupyter-widgets/controls",
          "model_name": "HTMLModel",
          "model_module_version": "1.5.0",
          "state": {
            "_dom_classes": [],
            "_model_module": "@jupyter-widgets/controls",
            "_model_module_version": "1.5.0",
            "_model_name": "HTMLModel",
            "_view_count": null,
            "_view_module": "@jupyter-widgets/controls",
            "_view_module_version": "1.5.0",
            "_view_name": "HTMLView",
            "description": "",
            "description_tooltip": null,
            "layout": "IPY_MODEL_984fc319a0b5450ea67007fb24075ca7",
            "placeholder": "​",
            "style": "IPY_MODEL_ff67c03a1e2b4f12bfd9334288b38dac",
            "value": "100%"
          }
        },
        "bd56041529274af1a4ab34d65acc21d9": {
          "model_module": "@jupyter-widgets/controls",
          "model_name": "FloatProgressModel",
          "model_module_version": "1.5.0",
          "state": {
            "_dom_classes": [],
            "_model_module": "@jupyter-widgets/controls",
            "_model_module_version": "1.5.0",
            "_model_name": "FloatProgressModel",
            "_view_count": null,
            "_view_module": "@jupyter-widgets/controls",
            "_view_module_version": "1.5.0",
            "_view_name": "ProgressView",
            "bar_style": "success",
            "description": "",
            "description_tooltip": null,
            "layout": "IPY_MODEL_0a7f2beedd54470cb38b180f733ec9d0",
            "max": 3,
            "min": 0,
            "orientation": "horizontal",
            "style": "IPY_MODEL_98bb56a9e0784e08b88c651d84417994",
            "value": 3
          }
        },
        "aca99c161cca441eabeeeeb6c964620f": {
          "model_module": "@jupyter-widgets/controls",
          "model_name": "HTMLModel",
          "model_module_version": "1.5.0",
          "state": {
            "_dom_classes": [],
            "_model_module": "@jupyter-widgets/controls",
            "_model_module_version": "1.5.0",
            "_model_name": "HTMLModel",
            "_view_count": null,
            "_view_module": "@jupyter-widgets/controls",
            "_view_module_version": "1.5.0",
            "_view_name": "HTMLView",
            "description": "",
            "description_tooltip": null,
            "layout": "IPY_MODEL_43b874c3e8dd47ecb94ec21c403bfb9a",
            "placeholder": "​",
            "style": "IPY_MODEL_03d1c01017164f88a028ee798244b563",
            "value": " 3/3 [00:00&lt;00:00, 35.18it/s]"
          }
        },
        "f9b0bfdeab56441e8e2be184d5c289bf": {
          "model_module": "@jupyter-widgets/base",
          "model_name": "LayoutModel",
          "model_module_version": "1.2.0",
          "state": {
            "_model_module": "@jupyter-widgets/base",
            "_model_module_version": "1.2.0",
            "_model_name": "LayoutModel",
            "_view_count": null,
            "_view_module": "@jupyter-widgets/base",
            "_view_module_version": "1.2.0",
            "_view_name": "LayoutView",
            "align_content": null,
            "align_items": null,
            "align_self": null,
            "border": null,
            "bottom": null,
            "display": null,
            "flex": null,
            "flex_flow": null,
            "grid_area": null,
            "grid_auto_columns": null,
            "grid_auto_flow": null,
            "grid_auto_rows": null,
            "grid_column": null,
            "grid_gap": null,
            "grid_row": null,
            "grid_template_areas": null,
            "grid_template_columns": null,
            "grid_template_rows": null,
            "height": null,
            "justify_content": null,
            "justify_items": null,
            "left": null,
            "margin": null,
            "max_height": null,
            "max_width": null,
            "min_height": null,
            "min_width": null,
            "object_fit": null,
            "object_position": null,
            "order": null,
            "overflow": null,
            "overflow_x": null,
            "overflow_y": null,
            "padding": null,
            "right": null,
            "top": null,
            "visibility": null,
            "width": null
          }
        },
        "984fc319a0b5450ea67007fb24075ca7": {
          "model_module": "@jupyter-widgets/base",
          "model_name": "LayoutModel",
          "model_module_version": "1.2.0",
          "state": {
            "_model_module": "@jupyter-widgets/base",
            "_model_module_version": "1.2.0",
            "_model_name": "LayoutModel",
            "_view_count": null,
            "_view_module": "@jupyter-widgets/base",
            "_view_module_version": "1.2.0",
            "_view_name": "LayoutView",
            "align_content": null,
            "align_items": null,
            "align_self": null,
            "border": null,
            "bottom": null,
            "display": null,
            "flex": null,
            "flex_flow": null,
            "grid_area": null,
            "grid_auto_columns": null,
            "grid_auto_flow": null,
            "grid_auto_rows": null,
            "grid_column": null,
            "grid_gap": null,
            "grid_row": null,
            "grid_template_areas": null,
            "grid_template_columns": null,
            "grid_template_rows": null,
            "height": null,
            "justify_content": null,
            "justify_items": null,
            "left": null,
            "margin": null,
            "max_height": null,
            "max_width": null,
            "min_height": null,
            "min_width": null,
            "object_fit": null,
            "object_position": null,
            "order": null,
            "overflow": null,
            "overflow_x": null,
            "overflow_y": null,
            "padding": null,
            "right": null,
            "top": null,
            "visibility": null,
            "width": null
          }
        },
        "ff67c03a1e2b4f12bfd9334288b38dac": {
          "model_module": "@jupyter-widgets/controls",
          "model_name": "DescriptionStyleModel",
          "model_module_version": "1.5.0",
          "state": {
            "_model_module": "@jupyter-widgets/controls",
            "_model_module_version": "1.5.0",
            "_model_name": "DescriptionStyleModel",
            "_view_count": null,
            "_view_module": "@jupyter-widgets/base",
            "_view_module_version": "1.2.0",
            "_view_name": "StyleView",
            "description_width": ""
          }
        },
        "0a7f2beedd54470cb38b180f733ec9d0": {
          "model_module": "@jupyter-widgets/base",
          "model_name": "LayoutModel",
          "model_module_version": "1.2.0",
          "state": {
            "_model_module": "@jupyter-widgets/base",
            "_model_module_version": "1.2.0",
            "_model_name": "LayoutModel",
            "_view_count": null,
            "_view_module": "@jupyter-widgets/base",
            "_view_module_version": "1.2.0",
            "_view_name": "LayoutView",
            "align_content": null,
            "align_items": null,
            "align_self": null,
            "border": null,
            "bottom": null,
            "display": null,
            "flex": null,
            "flex_flow": null,
            "grid_area": null,
            "grid_auto_columns": null,
            "grid_auto_flow": null,
            "grid_auto_rows": null,
            "grid_column": null,
            "grid_gap": null,
            "grid_row": null,
            "grid_template_areas": null,
            "grid_template_columns": null,
            "grid_template_rows": null,
            "height": null,
            "justify_content": null,
            "justify_items": null,
            "left": null,
            "margin": null,
            "max_height": null,
            "max_width": null,
            "min_height": null,
            "min_width": null,
            "object_fit": null,
            "object_position": null,
            "order": null,
            "overflow": null,
            "overflow_x": null,
            "overflow_y": null,
            "padding": null,
            "right": null,
            "top": null,
            "visibility": null,
            "width": null
          }
        },
        "98bb56a9e0784e08b88c651d84417994": {
          "model_module": "@jupyter-widgets/controls",
          "model_name": "ProgressStyleModel",
          "model_module_version": "1.5.0",
          "state": {
            "_model_module": "@jupyter-widgets/controls",
            "_model_module_version": "1.5.0",
            "_model_name": "ProgressStyleModel",
            "_view_count": null,
            "_view_module": "@jupyter-widgets/base",
            "_view_module_version": "1.2.0",
            "_view_name": "StyleView",
            "bar_color": null,
            "description_width": ""
          }
        },
        "43b874c3e8dd47ecb94ec21c403bfb9a": {
          "model_module": "@jupyter-widgets/base",
          "model_name": "LayoutModel",
          "model_module_version": "1.2.0",
          "state": {
            "_model_module": "@jupyter-widgets/base",
            "_model_module_version": "1.2.0",
            "_model_name": "LayoutModel",
            "_view_count": null,
            "_view_module": "@jupyter-widgets/base",
            "_view_module_version": "1.2.0",
            "_view_name": "LayoutView",
            "align_content": null,
            "align_items": null,
            "align_self": null,
            "border": null,
            "bottom": null,
            "display": null,
            "flex": null,
            "flex_flow": null,
            "grid_area": null,
            "grid_auto_columns": null,
            "grid_auto_flow": null,
            "grid_auto_rows": null,
            "grid_column": null,
            "grid_gap": null,
            "grid_row": null,
            "grid_template_areas": null,
            "grid_template_columns": null,
            "grid_template_rows": null,
            "height": null,
            "justify_content": null,
            "justify_items": null,
            "left": null,
            "margin": null,
            "max_height": null,
            "max_width": null,
            "min_height": null,
            "min_width": null,
            "object_fit": null,
            "object_position": null,
            "order": null,
            "overflow": null,
            "overflow_x": null,
            "overflow_y": null,
            "padding": null,
            "right": null,
            "top": null,
            "visibility": null,
            "width": null
          }
        },
        "03d1c01017164f88a028ee798244b563": {
          "model_module": "@jupyter-widgets/controls",
          "model_name": "DescriptionStyleModel",
          "model_module_version": "1.5.0",
          "state": {
            "_model_module": "@jupyter-widgets/controls",
            "_model_module_version": "1.5.0",
            "_model_name": "DescriptionStyleModel",
            "_view_count": null,
            "_view_module": "@jupyter-widgets/base",
            "_view_module_version": "1.2.0",
            "_view_name": "StyleView",
            "description_width": ""
          }
        },
        "d729e7823da04ff58ed3d75d654e220d": {
          "model_module": "@jupyter-widgets/controls",
          "model_name": "HBoxModel",
          "model_module_version": "1.5.0",
          "state": {
            "_dom_classes": [],
            "_model_module": "@jupyter-widgets/controls",
            "_model_module_version": "1.5.0",
            "_model_name": "HBoxModel",
            "_view_count": null,
            "_view_module": "@jupyter-widgets/controls",
            "_view_module_version": "1.5.0",
            "_view_name": "HBoxView",
            "box_style": "",
            "children": [
              "IPY_MODEL_9a8999a52a2245e78a4856551e9ef148",
              "IPY_MODEL_b425d4d7ce774b7e81fea2eb640dc4d0",
              "IPY_MODEL_96929118d09149ff93096dc68c856379"
            ],
            "layout": "IPY_MODEL_0e12a60a8aa24a0181b2e8a726af425b"
          }
        },
        "9a8999a52a2245e78a4856551e9ef148": {
          "model_module": "@jupyter-widgets/controls",
          "model_name": "HTMLModel",
          "model_module_version": "1.5.0",
          "state": {
            "_dom_classes": [],
            "_model_module": "@jupyter-widgets/controls",
            "_model_module_version": "1.5.0",
            "_model_name": "HTMLModel",
            "_view_count": null,
            "_view_module": "@jupyter-widgets/controls",
            "_view_module_version": "1.5.0",
            "_view_name": "HTMLView",
            "description": "",
            "description_tooltip": null,
            "layout": "IPY_MODEL_9e791d6716a04ee699f5b049475cf88c",
            "placeholder": "​",
            "style": "IPY_MODEL_7f747c9f4ab149adbfbbe2f003639bfa",
            "value": "100%"
          }
        },
        "b425d4d7ce774b7e81fea2eb640dc4d0": {
          "model_module": "@jupyter-widgets/controls",
          "model_name": "FloatProgressModel",
          "model_module_version": "1.5.0",
          "state": {
            "_dom_classes": [],
            "_model_module": "@jupyter-widgets/controls",
            "_model_module_version": "1.5.0",
            "_model_name": "FloatProgressModel",
            "_view_count": null,
            "_view_module": "@jupyter-widgets/controls",
            "_view_module_version": "1.5.0",
            "_view_name": "ProgressView",
            "bar_style": "success",
            "description": "",
            "description_tooltip": null,
            "layout": "IPY_MODEL_287a5db6eea149debc269a9566980d13",
            "max": 20000,
            "min": 0,
            "orientation": "horizontal",
            "style": "IPY_MODEL_0a51129148c041328eac6aba423575ac",
            "value": 20000
          }
        },
        "96929118d09149ff93096dc68c856379": {
          "model_module": "@jupyter-widgets/controls",
          "model_name": "HTMLModel",
          "model_module_version": "1.5.0",
          "state": {
            "_dom_classes": [],
            "_model_module": "@jupyter-widgets/controls",
            "_model_module_version": "1.5.0",
            "_model_name": "HTMLModel",
            "_view_count": null,
            "_view_module": "@jupyter-widgets/controls",
            "_view_module_version": "1.5.0",
            "_view_name": "HTMLView",
            "description": "",
            "description_tooltip": null,
            "layout": "IPY_MODEL_6c0b1879b3b646d49a652431fcdab0c1",
            "placeholder": "​",
            "style": "IPY_MODEL_f9724d702ee84938aabf7ec99aa0b1ce",
            "value": " 20000/20000 [00:11&lt;00:00, 4141.95ex/s]"
          }
        },
        "0e12a60a8aa24a0181b2e8a726af425b": {
          "model_module": "@jupyter-widgets/base",
          "model_name": "LayoutModel",
          "model_module_version": "1.2.0",
          "state": {
            "_model_module": "@jupyter-widgets/base",
            "_model_module_version": "1.2.0",
            "_model_name": "LayoutModel",
            "_view_count": null,
            "_view_module": "@jupyter-widgets/base",
            "_view_module_version": "1.2.0",
            "_view_name": "LayoutView",
            "align_content": null,
            "align_items": null,
            "align_self": null,
            "border": null,
            "bottom": null,
            "display": null,
            "flex": null,
            "flex_flow": null,
            "grid_area": null,
            "grid_auto_columns": null,
            "grid_auto_flow": null,
            "grid_auto_rows": null,
            "grid_column": null,
            "grid_gap": null,
            "grid_row": null,
            "grid_template_areas": null,
            "grid_template_columns": null,
            "grid_template_rows": null,
            "height": null,
            "justify_content": null,
            "justify_items": null,
            "left": null,
            "margin": null,
            "max_height": null,
            "max_width": null,
            "min_height": null,
            "min_width": null,
            "object_fit": null,
            "object_position": null,
            "order": null,
            "overflow": null,
            "overflow_x": null,
            "overflow_y": null,
            "padding": null,
            "right": null,
            "top": null,
            "visibility": null,
            "width": null
          }
        },
        "9e791d6716a04ee699f5b049475cf88c": {
          "model_module": "@jupyter-widgets/base",
          "model_name": "LayoutModel",
          "model_module_version": "1.2.0",
          "state": {
            "_model_module": "@jupyter-widgets/base",
            "_model_module_version": "1.2.0",
            "_model_name": "LayoutModel",
            "_view_count": null,
            "_view_module": "@jupyter-widgets/base",
            "_view_module_version": "1.2.0",
            "_view_name": "LayoutView",
            "align_content": null,
            "align_items": null,
            "align_self": null,
            "border": null,
            "bottom": null,
            "display": null,
            "flex": null,
            "flex_flow": null,
            "grid_area": null,
            "grid_auto_columns": null,
            "grid_auto_flow": null,
            "grid_auto_rows": null,
            "grid_column": null,
            "grid_gap": null,
            "grid_row": null,
            "grid_template_areas": null,
            "grid_template_columns": null,
            "grid_template_rows": null,
            "height": null,
            "justify_content": null,
            "justify_items": null,
            "left": null,
            "margin": null,
            "max_height": null,
            "max_width": null,
            "min_height": null,
            "min_width": null,
            "object_fit": null,
            "object_position": null,
            "order": null,
            "overflow": null,
            "overflow_x": null,
            "overflow_y": null,
            "padding": null,
            "right": null,
            "top": null,
            "visibility": null,
            "width": null
          }
        },
        "7f747c9f4ab149adbfbbe2f003639bfa": {
          "model_module": "@jupyter-widgets/controls",
          "model_name": "DescriptionStyleModel",
          "model_module_version": "1.5.0",
          "state": {
            "_model_module": "@jupyter-widgets/controls",
            "_model_module_version": "1.5.0",
            "_model_name": "DescriptionStyleModel",
            "_view_count": null,
            "_view_module": "@jupyter-widgets/base",
            "_view_module_version": "1.2.0",
            "_view_name": "StyleView",
            "description_width": ""
          }
        },
        "287a5db6eea149debc269a9566980d13": {
          "model_module": "@jupyter-widgets/base",
          "model_name": "LayoutModel",
          "model_module_version": "1.2.0",
          "state": {
            "_model_module": "@jupyter-widgets/base",
            "_model_module_version": "1.2.0",
            "_model_name": "LayoutModel",
            "_view_count": null,
            "_view_module": "@jupyter-widgets/base",
            "_view_module_version": "1.2.0",
            "_view_name": "LayoutView",
            "align_content": null,
            "align_items": null,
            "align_self": null,
            "border": null,
            "bottom": null,
            "display": null,
            "flex": null,
            "flex_flow": null,
            "grid_area": null,
            "grid_auto_columns": null,
            "grid_auto_flow": null,
            "grid_auto_rows": null,
            "grid_column": null,
            "grid_gap": null,
            "grid_row": null,
            "grid_template_areas": null,
            "grid_template_columns": null,
            "grid_template_rows": null,
            "height": null,
            "justify_content": null,
            "justify_items": null,
            "left": null,
            "margin": null,
            "max_height": null,
            "max_width": null,
            "min_height": null,
            "min_width": null,
            "object_fit": null,
            "object_position": null,
            "order": null,
            "overflow": null,
            "overflow_x": null,
            "overflow_y": null,
            "padding": null,
            "right": null,
            "top": null,
            "visibility": null,
            "width": null
          }
        },
        "0a51129148c041328eac6aba423575ac": {
          "model_module": "@jupyter-widgets/controls",
          "model_name": "ProgressStyleModel",
          "model_module_version": "1.5.0",
          "state": {
            "_model_module": "@jupyter-widgets/controls",
            "_model_module_version": "1.5.0",
            "_model_name": "ProgressStyleModel",
            "_view_count": null,
            "_view_module": "@jupyter-widgets/base",
            "_view_module_version": "1.2.0",
            "_view_name": "StyleView",
            "bar_color": null,
            "description_width": ""
          }
        },
        "6c0b1879b3b646d49a652431fcdab0c1": {
          "model_module": "@jupyter-widgets/base",
          "model_name": "LayoutModel",
          "model_module_version": "1.2.0",
          "state": {
            "_model_module": "@jupyter-widgets/base",
            "_model_module_version": "1.2.0",
            "_model_name": "LayoutModel",
            "_view_count": null,
            "_view_module": "@jupyter-widgets/base",
            "_view_module_version": "1.2.0",
            "_view_name": "LayoutView",
            "align_content": null,
            "align_items": null,
            "align_self": null,
            "border": null,
            "bottom": null,
            "display": null,
            "flex": null,
            "flex_flow": null,
            "grid_area": null,
            "grid_auto_columns": null,
            "grid_auto_flow": null,
            "grid_auto_rows": null,
            "grid_column": null,
            "grid_gap": null,
            "grid_row": null,
            "grid_template_areas": null,
            "grid_template_columns": null,
            "grid_template_rows": null,
            "height": null,
            "justify_content": null,
            "justify_items": null,
            "left": null,
            "margin": null,
            "max_height": null,
            "max_width": null,
            "min_height": null,
            "min_width": null,
            "object_fit": null,
            "object_position": null,
            "order": null,
            "overflow": null,
            "overflow_x": null,
            "overflow_y": null,
            "padding": null,
            "right": null,
            "top": null,
            "visibility": null,
            "width": null
          }
        },
        "f9724d702ee84938aabf7ec99aa0b1ce": {
          "model_module": "@jupyter-widgets/controls",
          "model_name": "DescriptionStyleModel",
          "model_module_version": "1.5.0",
          "state": {
            "_model_module": "@jupyter-widgets/controls",
            "_model_module_version": "1.5.0",
            "_model_name": "DescriptionStyleModel",
            "_view_count": null,
            "_view_module": "@jupyter-widgets/base",
            "_view_module_version": "1.2.0",
            "_view_name": "StyleView",
            "description_width": ""
          }
        },
        "e9f38a203a3c46bebe00bd801725fbf1": {
          "model_module": "@jupyter-widgets/controls",
          "model_name": "HBoxModel",
          "model_module_version": "1.5.0",
          "state": {
            "_dom_classes": [],
            "_model_module": "@jupyter-widgets/controls",
            "_model_module_version": "1.5.0",
            "_model_name": "HBoxModel",
            "_view_count": null,
            "_view_module": "@jupyter-widgets/controls",
            "_view_module_version": "1.5.0",
            "_view_name": "HBoxView",
            "box_style": "",
            "children": [
              "IPY_MODEL_4b783d4fc8454b1280b890de6c610248",
              "IPY_MODEL_b538782a20c6495686c78f92a422ca01",
              "IPY_MODEL_b5b5955cfe274a6b99481b8d2de3761d"
            ],
            "layout": "IPY_MODEL_c9db61e1d285443cae874031d0e5a1f1"
          }
        },
        "4b783d4fc8454b1280b890de6c610248": {
          "model_module": "@jupyter-widgets/controls",
          "model_name": "HTMLModel",
          "model_module_version": "1.5.0",
          "state": {
            "_dom_classes": [],
            "_model_module": "@jupyter-widgets/controls",
            "_model_module_version": "1.5.0",
            "_model_name": "HTMLModel",
            "_view_count": null,
            "_view_module": "@jupyter-widgets/controls",
            "_view_module_version": "1.5.0",
            "_view_name": "HTMLView",
            "description": "",
            "description_tooltip": null,
            "layout": "IPY_MODEL_f45c987e32fc452db5d37ed62600717a",
            "placeholder": "​",
            "style": "IPY_MODEL_8397a4b0c4c444dcbff134a0943017f9",
            "value": "100%"
          }
        },
        "b538782a20c6495686c78f92a422ca01": {
          "model_module": "@jupyter-widgets/controls",
          "model_name": "FloatProgressModel",
          "model_module_version": "1.5.0",
          "state": {
            "_dom_classes": [],
            "_model_module": "@jupyter-widgets/controls",
            "_model_module_version": "1.5.0",
            "_model_name": "FloatProgressModel",
            "_view_count": null,
            "_view_module": "@jupyter-widgets/controls",
            "_view_module_version": "1.5.0",
            "_view_name": "ProgressView",
            "bar_style": "success",
            "description": "",
            "description_tooltip": null,
            "layout": "IPY_MODEL_da5c153ac30b425ba4e10a3c8ef193cc",
            "max": 5000,
            "min": 0,
            "orientation": "horizontal",
            "style": "IPY_MODEL_6104b6e383e048d7a525e4859f2e9622",
            "value": 5000
          }
        },
        "b5b5955cfe274a6b99481b8d2de3761d": {
          "model_module": "@jupyter-widgets/controls",
          "model_name": "HTMLModel",
          "model_module_version": "1.5.0",
          "state": {
            "_dom_classes": [],
            "_model_module": "@jupyter-widgets/controls",
            "_model_module_version": "1.5.0",
            "_model_name": "HTMLModel",
            "_view_count": null,
            "_view_module": "@jupyter-widgets/controls",
            "_view_module_version": "1.5.0",
            "_view_name": "HTMLView",
            "description": "",
            "description_tooltip": null,
            "layout": "IPY_MODEL_0e523c04e7d9444eb1db68e3f1beec62",
            "placeholder": "​",
            "style": "IPY_MODEL_b6322670a6b041248f7a31b5e44dddf2",
            "value": " 5000/5000 [00:01&lt;00:00, 4377.52ex/s]"
          }
        },
        "c9db61e1d285443cae874031d0e5a1f1": {
          "model_module": "@jupyter-widgets/base",
          "model_name": "LayoutModel",
          "model_module_version": "1.2.0",
          "state": {
            "_model_module": "@jupyter-widgets/base",
            "_model_module_version": "1.2.0",
            "_model_name": "LayoutModel",
            "_view_count": null,
            "_view_module": "@jupyter-widgets/base",
            "_view_module_version": "1.2.0",
            "_view_name": "LayoutView",
            "align_content": null,
            "align_items": null,
            "align_self": null,
            "border": null,
            "bottom": null,
            "display": null,
            "flex": null,
            "flex_flow": null,
            "grid_area": null,
            "grid_auto_columns": null,
            "grid_auto_flow": null,
            "grid_auto_rows": null,
            "grid_column": null,
            "grid_gap": null,
            "grid_row": null,
            "grid_template_areas": null,
            "grid_template_columns": null,
            "grid_template_rows": null,
            "height": null,
            "justify_content": null,
            "justify_items": null,
            "left": null,
            "margin": null,
            "max_height": null,
            "max_width": null,
            "min_height": null,
            "min_width": null,
            "object_fit": null,
            "object_position": null,
            "order": null,
            "overflow": null,
            "overflow_x": null,
            "overflow_y": null,
            "padding": null,
            "right": null,
            "top": null,
            "visibility": null,
            "width": null
          }
        },
        "f45c987e32fc452db5d37ed62600717a": {
          "model_module": "@jupyter-widgets/base",
          "model_name": "LayoutModel",
          "model_module_version": "1.2.0",
          "state": {
            "_model_module": "@jupyter-widgets/base",
            "_model_module_version": "1.2.0",
            "_model_name": "LayoutModel",
            "_view_count": null,
            "_view_module": "@jupyter-widgets/base",
            "_view_module_version": "1.2.0",
            "_view_name": "LayoutView",
            "align_content": null,
            "align_items": null,
            "align_self": null,
            "border": null,
            "bottom": null,
            "display": null,
            "flex": null,
            "flex_flow": null,
            "grid_area": null,
            "grid_auto_columns": null,
            "grid_auto_flow": null,
            "grid_auto_rows": null,
            "grid_column": null,
            "grid_gap": null,
            "grid_row": null,
            "grid_template_areas": null,
            "grid_template_columns": null,
            "grid_template_rows": null,
            "height": null,
            "justify_content": null,
            "justify_items": null,
            "left": null,
            "margin": null,
            "max_height": null,
            "max_width": null,
            "min_height": null,
            "min_width": null,
            "object_fit": null,
            "object_position": null,
            "order": null,
            "overflow": null,
            "overflow_x": null,
            "overflow_y": null,
            "padding": null,
            "right": null,
            "top": null,
            "visibility": null,
            "width": null
          }
        },
        "8397a4b0c4c444dcbff134a0943017f9": {
          "model_module": "@jupyter-widgets/controls",
          "model_name": "DescriptionStyleModel",
          "model_module_version": "1.5.0",
          "state": {
            "_model_module": "@jupyter-widgets/controls",
            "_model_module_version": "1.5.0",
            "_model_name": "DescriptionStyleModel",
            "_view_count": null,
            "_view_module": "@jupyter-widgets/base",
            "_view_module_version": "1.2.0",
            "_view_name": "StyleView",
            "description_width": ""
          }
        },
        "da5c153ac30b425ba4e10a3c8ef193cc": {
          "model_module": "@jupyter-widgets/base",
          "model_name": "LayoutModel",
          "model_module_version": "1.2.0",
          "state": {
            "_model_module": "@jupyter-widgets/base",
            "_model_module_version": "1.2.0",
            "_model_name": "LayoutModel",
            "_view_count": null,
            "_view_module": "@jupyter-widgets/base",
            "_view_module_version": "1.2.0",
            "_view_name": "LayoutView",
            "align_content": null,
            "align_items": null,
            "align_self": null,
            "border": null,
            "bottom": null,
            "display": null,
            "flex": null,
            "flex_flow": null,
            "grid_area": null,
            "grid_auto_columns": null,
            "grid_auto_flow": null,
            "grid_auto_rows": null,
            "grid_column": null,
            "grid_gap": null,
            "grid_row": null,
            "grid_template_areas": null,
            "grid_template_columns": null,
            "grid_template_rows": null,
            "height": null,
            "justify_content": null,
            "justify_items": null,
            "left": null,
            "margin": null,
            "max_height": null,
            "max_width": null,
            "min_height": null,
            "min_width": null,
            "object_fit": null,
            "object_position": null,
            "order": null,
            "overflow": null,
            "overflow_x": null,
            "overflow_y": null,
            "padding": null,
            "right": null,
            "top": null,
            "visibility": null,
            "width": null
          }
        },
        "6104b6e383e048d7a525e4859f2e9622": {
          "model_module": "@jupyter-widgets/controls",
          "model_name": "ProgressStyleModel",
          "model_module_version": "1.5.0",
          "state": {
            "_model_module": "@jupyter-widgets/controls",
            "_model_module_version": "1.5.0",
            "_model_name": "ProgressStyleModel",
            "_view_count": null,
            "_view_module": "@jupyter-widgets/base",
            "_view_module_version": "1.2.0",
            "_view_name": "StyleView",
            "bar_color": null,
            "description_width": ""
          }
        },
        "0e523c04e7d9444eb1db68e3f1beec62": {
          "model_module": "@jupyter-widgets/base",
          "model_name": "LayoutModel",
          "model_module_version": "1.2.0",
          "state": {
            "_model_module": "@jupyter-widgets/base",
            "_model_module_version": "1.2.0",
            "_model_name": "LayoutModel",
            "_view_count": null,
            "_view_module": "@jupyter-widgets/base",
            "_view_module_version": "1.2.0",
            "_view_name": "LayoutView",
            "align_content": null,
            "align_items": null,
            "align_self": null,
            "border": null,
            "bottom": null,
            "display": null,
            "flex": null,
            "flex_flow": null,
            "grid_area": null,
            "grid_auto_columns": null,
            "grid_auto_flow": null,
            "grid_auto_rows": null,
            "grid_column": null,
            "grid_gap": null,
            "grid_row": null,
            "grid_template_areas": null,
            "grid_template_columns": null,
            "grid_template_rows": null,
            "height": null,
            "justify_content": null,
            "justify_items": null,
            "left": null,
            "margin": null,
            "max_height": null,
            "max_width": null,
            "min_height": null,
            "min_width": null,
            "object_fit": null,
            "object_position": null,
            "order": null,
            "overflow": null,
            "overflow_x": null,
            "overflow_y": null,
            "padding": null,
            "right": null,
            "top": null,
            "visibility": null,
            "width": null
          }
        },
        "b6322670a6b041248f7a31b5e44dddf2": {
          "model_module": "@jupyter-widgets/controls",
          "model_name": "DescriptionStyleModel",
          "model_module_version": "1.5.0",
          "state": {
            "_model_module": "@jupyter-widgets/controls",
            "_model_module_version": "1.5.0",
            "_model_name": "DescriptionStyleModel",
            "_view_count": null,
            "_view_module": "@jupyter-widgets/base",
            "_view_module_version": "1.2.0",
            "_view_name": "StyleView",
            "description_width": ""
          }
        },
        "906cd152247541c49a3f810abc47d502": {
          "model_module": "@jupyter-widgets/controls",
          "model_name": "HBoxModel",
          "model_module_version": "1.5.0",
          "state": {
            "_dom_classes": [],
            "_model_module": "@jupyter-widgets/controls",
            "_model_module_version": "1.5.0",
            "_model_name": "HBoxModel",
            "_view_count": null,
            "_view_module": "@jupyter-widgets/controls",
            "_view_module_version": "1.5.0",
            "_view_name": "HBoxView",
            "box_style": "",
            "children": [
              "IPY_MODEL_776a8ae4e8064009b77a09f67021d442",
              "IPY_MODEL_c6e723e847c843428b4a42a06c6bdf61",
              "IPY_MODEL_49481c2204664cef903201a5a238778b"
            ],
            "layout": "IPY_MODEL_8e00c95b3a644f5493facf218a3be128"
          }
        },
        "776a8ae4e8064009b77a09f67021d442": {
          "model_module": "@jupyter-widgets/controls",
          "model_name": "HTMLModel",
          "model_module_version": "1.5.0",
          "state": {
            "_dom_classes": [],
            "_model_module": "@jupyter-widgets/controls",
            "_model_module_version": "1.5.0",
            "_model_name": "HTMLModel",
            "_view_count": null,
            "_view_module": "@jupyter-widgets/controls",
            "_view_module_version": "1.5.0",
            "_view_name": "HTMLView",
            "description": "",
            "description_tooltip": null,
            "layout": "IPY_MODEL_f442ab7229b7442798505ec4fd8a6800",
            "placeholder": "​",
            "style": "IPY_MODEL_5d95373b915f4f66ab0987d4d35d34ec",
            "value": "100%"
          }
        },
        "c6e723e847c843428b4a42a06c6bdf61": {
          "model_module": "@jupyter-widgets/controls",
          "model_name": "FloatProgressModel",
          "model_module_version": "1.5.0",
          "state": {
            "_dom_classes": [],
            "_model_module": "@jupyter-widgets/controls",
            "_model_module_version": "1.5.0",
            "_model_name": "FloatProgressModel",
            "_view_count": null,
            "_view_module": "@jupyter-widgets/controls",
            "_view_module_version": "1.5.0",
            "_view_name": "ProgressView",
            "bar_style": "success",
            "description": "",
            "description_tooltip": null,
            "layout": "IPY_MODEL_648bca0031894443aaa08b4b693ddfdd",
            "max": 25000,
            "min": 0,
            "orientation": "horizontal",
            "style": "IPY_MODEL_a2d33af54e044165859e514b45d38a6b",
            "value": 25000
          }
        },
        "49481c2204664cef903201a5a238778b": {
          "model_module": "@jupyter-widgets/controls",
          "model_name": "HTMLModel",
          "model_module_version": "1.5.0",
          "state": {
            "_dom_classes": [],
            "_model_module": "@jupyter-widgets/controls",
            "_model_module_version": "1.5.0",
            "_model_name": "HTMLModel",
            "_view_count": null,
            "_view_module": "@jupyter-widgets/controls",
            "_view_module_version": "1.5.0",
            "_view_name": "HTMLView",
            "description": "",
            "description_tooltip": null,
            "layout": "IPY_MODEL_89489f0812964143a871085a6e27f261",
            "placeholder": "​",
            "style": "IPY_MODEL_c6831136d485456e9b3e48264304bf87",
            "value": " 25000/25000 [00:05&lt;00:00, 4379.87ex/s]"
          }
        },
        "8e00c95b3a644f5493facf218a3be128": {
          "model_module": "@jupyter-widgets/base",
          "model_name": "LayoutModel",
          "model_module_version": "1.2.0",
          "state": {
            "_model_module": "@jupyter-widgets/base",
            "_model_module_version": "1.2.0",
            "_model_name": "LayoutModel",
            "_view_count": null,
            "_view_module": "@jupyter-widgets/base",
            "_view_module_version": "1.2.0",
            "_view_name": "LayoutView",
            "align_content": null,
            "align_items": null,
            "align_self": null,
            "border": null,
            "bottom": null,
            "display": null,
            "flex": null,
            "flex_flow": null,
            "grid_area": null,
            "grid_auto_columns": null,
            "grid_auto_flow": null,
            "grid_auto_rows": null,
            "grid_column": null,
            "grid_gap": null,
            "grid_row": null,
            "grid_template_areas": null,
            "grid_template_columns": null,
            "grid_template_rows": null,
            "height": null,
            "justify_content": null,
            "justify_items": null,
            "left": null,
            "margin": null,
            "max_height": null,
            "max_width": null,
            "min_height": null,
            "min_width": null,
            "object_fit": null,
            "object_position": null,
            "order": null,
            "overflow": null,
            "overflow_x": null,
            "overflow_y": null,
            "padding": null,
            "right": null,
            "top": null,
            "visibility": null,
            "width": null
          }
        },
        "f442ab7229b7442798505ec4fd8a6800": {
          "model_module": "@jupyter-widgets/base",
          "model_name": "LayoutModel",
          "model_module_version": "1.2.0",
          "state": {
            "_model_module": "@jupyter-widgets/base",
            "_model_module_version": "1.2.0",
            "_model_name": "LayoutModel",
            "_view_count": null,
            "_view_module": "@jupyter-widgets/base",
            "_view_module_version": "1.2.0",
            "_view_name": "LayoutView",
            "align_content": null,
            "align_items": null,
            "align_self": null,
            "border": null,
            "bottom": null,
            "display": null,
            "flex": null,
            "flex_flow": null,
            "grid_area": null,
            "grid_auto_columns": null,
            "grid_auto_flow": null,
            "grid_auto_rows": null,
            "grid_column": null,
            "grid_gap": null,
            "grid_row": null,
            "grid_template_areas": null,
            "grid_template_columns": null,
            "grid_template_rows": null,
            "height": null,
            "justify_content": null,
            "justify_items": null,
            "left": null,
            "margin": null,
            "max_height": null,
            "max_width": null,
            "min_height": null,
            "min_width": null,
            "object_fit": null,
            "object_position": null,
            "order": null,
            "overflow": null,
            "overflow_x": null,
            "overflow_y": null,
            "padding": null,
            "right": null,
            "top": null,
            "visibility": null,
            "width": null
          }
        },
        "5d95373b915f4f66ab0987d4d35d34ec": {
          "model_module": "@jupyter-widgets/controls",
          "model_name": "DescriptionStyleModel",
          "model_module_version": "1.5.0",
          "state": {
            "_model_module": "@jupyter-widgets/controls",
            "_model_module_version": "1.5.0",
            "_model_name": "DescriptionStyleModel",
            "_view_count": null,
            "_view_module": "@jupyter-widgets/base",
            "_view_module_version": "1.2.0",
            "_view_name": "StyleView",
            "description_width": ""
          }
        },
        "648bca0031894443aaa08b4b693ddfdd": {
          "model_module": "@jupyter-widgets/base",
          "model_name": "LayoutModel",
          "model_module_version": "1.2.0",
          "state": {
            "_model_module": "@jupyter-widgets/base",
            "_model_module_version": "1.2.0",
            "_model_name": "LayoutModel",
            "_view_count": null,
            "_view_module": "@jupyter-widgets/base",
            "_view_module_version": "1.2.0",
            "_view_name": "LayoutView",
            "align_content": null,
            "align_items": null,
            "align_self": null,
            "border": null,
            "bottom": null,
            "display": null,
            "flex": null,
            "flex_flow": null,
            "grid_area": null,
            "grid_auto_columns": null,
            "grid_auto_flow": null,
            "grid_auto_rows": null,
            "grid_column": null,
            "grid_gap": null,
            "grid_row": null,
            "grid_template_areas": null,
            "grid_template_columns": null,
            "grid_template_rows": null,
            "height": null,
            "justify_content": null,
            "justify_items": null,
            "left": null,
            "margin": null,
            "max_height": null,
            "max_width": null,
            "min_height": null,
            "min_width": null,
            "object_fit": null,
            "object_position": null,
            "order": null,
            "overflow": null,
            "overflow_x": null,
            "overflow_y": null,
            "padding": null,
            "right": null,
            "top": null,
            "visibility": null,
            "width": null
          }
        },
        "a2d33af54e044165859e514b45d38a6b": {
          "model_module": "@jupyter-widgets/controls",
          "model_name": "ProgressStyleModel",
          "model_module_version": "1.5.0",
          "state": {
            "_model_module": "@jupyter-widgets/controls",
            "_model_module_version": "1.5.0",
            "_model_name": "ProgressStyleModel",
            "_view_count": null,
            "_view_module": "@jupyter-widgets/base",
            "_view_module_version": "1.2.0",
            "_view_name": "StyleView",
            "bar_color": null,
            "description_width": ""
          }
        },
        "89489f0812964143a871085a6e27f261": {
          "model_module": "@jupyter-widgets/base",
          "model_name": "LayoutModel",
          "model_module_version": "1.2.0",
          "state": {
            "_model_module": "@jupyter-widgets/base",
            "_model_module_version": "1.2.0",
            "_model_name": "LayoutModel",
            "_view_count": null,
            "_view_module": "@jupyter-widgets/base",
            "_view_module_version": "1.2.0",
            "_view_name": "LayoutView",
            "align_content": null,
            "align_items": null,
            "align_self": null,
            "border": null,
            "bottom": null,
            "display": null,
            "flex": null,
            "flex_flow": null,
            "grid_area": null,
            "grid_auto_columns": null,
            "grid_auto_flow": null,
            "grid_auto_rows": null,
            "grid_column": null,
            "grid_gap": null,
            "grid_row": null,
            "grid_template_areas": null,
            "grid_template_columns": null,
            "grid_template_rows": null,
            "height": null,
            "justify_content": null,
            "justify_items": null,
            "left": null,
            "margin": null,
            "max_height": null,
            "max_width": null,
            "min_height": null,
            "min_width": null,
            "object_fit": null,
            "object_position": null,
            "order": null,
            "overflow": null,
            "overflow_x": null,
            "overflow_y": null,
            "padding": null,
            "right": null,
            "top": null,
            "visibility": null,
            "width": null
          }
        },
        "c6831136d485456e9b3e48264304bf87": {
          "model_module": "@jupyter-widgets/controls",
          "model_name": "DescriptionStyleModel",
          "model_module_version": "1.5.0",
          "state": {
            "_model_module": "@jupyter-widgets/controls",
            "_model_module_version": "1.5.0",
            "_model_name": "DescriptionStyleModel",
            "_view_count": null,
            "_view_module": "@jupyter-widgets/base",
            "_view_module_version": "1.2.0",
            "_view_name": "StyleView",
            "description_width": ""
          }
        }
      }
    }
  },
  "nbformat": 4,
  "nbformat_minor": 0
}