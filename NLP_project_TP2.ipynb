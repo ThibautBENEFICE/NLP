{
 "nbformat": 4,
 "nbformat_minor": 0,
 "metadata": {
  "colab": {
   "provenance": []
  },
  "kernelspec": {
   "name": "python3",
   "display_name": "Python 3"
  },
  "language_info": {
   "name": "python"
  }
 },
 "cells": [
  {
   "cell_type": "code",
   "source": [
    "!pip install fastText\n",
    "!pip install datasets"
   ],
   "metadata": {
    "colab": {
     "base_uri": "https://localhost:8080/"
    },
    "id": "DzGZTNFpYu8i",
    "outputId": "6f078b4e-b571-4dec-a0ef-48aa93f0d37b",
    "pycharm": {
     "name": "#%%\n"
    }
   },
   "execution_count": null,
   "outputs": []
  },
  {
   "cell_type": "code",
   "execution_count": 10,
   "metadata": {
    "colab": {
     "base_uri": "https://localhost:8080/"
    },
    "id": "ZCnT59IYYcrq",
    "outputId": "550c615f-c312-4c11-d4c1-4c2ae0575c0c",
    "pycharm": {
     "name": "#%%\n"
    }
   },
   "outputs": [
    {
     "name": "stderr",
     "output_type": "stream",
     "text": [
      "Reusing dataset imdb (/home/victor/.cache/huggingface/datasets/imdb/plain_text/1.0.0/2fdd8b9bcadd6e7055e742a706876ba43f19faee861df134affd7a3f60fc38a1)\n"
     ]
    }
   ],
   "source": [
    "import fasttext\n",
    "from datasets import load_dataset\n",
    "\n",
    "dataset_train = load_dataset('imdb', split='train')"
   ]
  },
  {
   "cell_type": "code",
   "execution_count": 11,
   "outputs": [],
   "source": [
    "import random\n",
    "random.seed(42)"
   ],
   "metadata": {
    "collapsed": false,
    "pycharm": {
     "name": "#%%\n"
    }
   }
  },
  {
   "cell_type": "code",
   "source": [
    "from string import punctuation\n",
    "\n",
    "\n",
    "def to_lower(review):\n",
    "\treturn str.lower(review)\n",
    "\n",
    "\n",
    "def no_punct(review):\n",
    "\treturn review.translate(str.maketrans('', '', punctuation))\n",
    "\n",
    "\n",
    "def to_fasttext(review, label):\n",
    "\n",
    "\tlabel_str = 'positive'\n",
    "\tif label == 0:\n",
    "\t\tlabel_str = 'negative'\n",
    "\treturn '__label__' + label_str + \" \" + review\n",
    "\n",
    "\n",
    "def pretreatment(dataset):\n",
    "\tlabels = dataset['label']\n",
    "\treviews = dataset['text']\n",
    "\tcorrected_review_list = []\n",
    "\tfor i in range(len(reviews)):\n",
    "\t\tlower = to_lower(reviews[i])\n",
    "\t\tno_punc = no_punct(lower)\n",
    "\t\tcorrected_review = to_fasttext(no_punc, labels[i])\n",
    "\t\tcorrected_review_list.append(corrected_review)\n",
    "\treturn corrected_review_list\n",
    "\n",
    "\n",
    "X_treated = pretreatment(dataset_train)\n",
    "random.shuffle(X_treated)\n",
    "with open(\"X_train.txt\", mode=\"w\") as file:\n",
    "\tfile.write(\"\\n\".join(X_treated))"
   ],
   "metadata": {
    "colab": {
     "base_uri": "https://localhost:8080/",
     "height": 331
    },
    "id": "cViOv7nrcRyZ",
    "outputId": "baac6807-cb1d-4a75-f4c3-98e42e56de05",
    "pycharm": {
     "name": "#%%\n"
    }
   },
   "execution_count": 19,
   "outputs": []
  },
  {
   "cell_type": "code",
   "execution_count": 20,
   "outputs": [
    {
     "name": "stderr",
     "output_type": "stream",
     "text": [
      "Read 5M words\n",
      "Number of words:  121891\n",
      "Number of labels: 2\n",
      "Progress: 100.0% words/sec/thread: 1605105 lr:  0.000000 avg.loss:  0.401958 ETA:   0h 0m 0s\n"
     ]
    }
   ],
   "source": [
    "model = fasttext.train_supervised(input=\"X_train.txt\")"
   ],
   "metadata": {
    "collapsed": false,
    "pycharm": {
     "name": "#%%\n"
    }
   }
  },
  {
   "cell_type": "code",
   "execution_count": 21,
   "outputs": [
    {
     "name": "stderr",
     "output_type": "stream",
     "text": [
      "Reusing dataset imdb (/home/victor/.cache/huggingface/datasets/imdb/plain_text/1.0.0/2fdd8b9bcadd6e7055e742a706876ba43f19faee861df134affd7a3f60fc38a1)\n"
     ]
    },
    {
     "data": {
      "text/plain": "['__label__positive the pickle was the most underrated film of the decade despite my best efforts at home it is still seen as a bad movie i say to hell with everyone on this every one doesnt understand that it is in part a comedy with a dramatic twist at the end danny aiello plays a burnt out director with perfection and conveys a sad depressed man the scene when he is trying to record a last message is quite good the interludes of stones movie are absolutely funny this is harry stone and today i become a man in all a fine and sadly misunderstood movie plus a great cameo by little richard hilarious i hope that more people see this movie because 202 people is not enough for a consensusbr br silence dogood',\n '__label__positive i really liked this movie i watched it last night on the public broadcasting system the part i liked about it was the fact that they dealt with issues of today not in the future or the past they basically had some terrorists take a van or two and rent them out to be car bombs i think what the movie could have showed was people in different countries at the same time it did show the fact that england or any other country isnt prepared for an attack on the magnitude that they showed i have never heard of any of the actors or actresses in the movie so i cant really say if they are normally their parts after the movie they had this panel of experts talking about if something like that could happen here in the us it was a thoughtprovoking discussion',\n '__label__negative br br to make this short and sweet i hope this movie will not be considered the seminal work for the generasian of american film making the acting was subpar relying on stereotypes raised voices and exaggerated eyebuggery to convey its message chris chan park does not delve very deep into the any of his characters allowing them to remain caricatures of angryfrustrateddistantuncommunicative asians these depictions do not make characters mysteriously appealing it makes them confusing and unsympathetic i like to think that us asians are more complex than thatbr br i came out of the movie unconvinced unconvinced that these characters had a life long bloodbrother like connection with each other to go to the lengths they did to help their buddy out unconvinced that the main character had anything beyond a superficial attraction to his girlfriend unconvinced that hard working immigrant parents wouldnt pay for their sons college education unconvinced that all of the characters were even necessary ie janet who is put to bed in the back of the car and quickly forgottenbr br the story line which i actually think had potential was not allowed to come into its own for two reasons 1 flat characters for whom i had no sympathyaffinity 2 the plot is overshadowed by meaningless nonsequitur scenes such as the seancedonut shop sequence with amy hill which was simply ridiculous and unnecessarybr br i commend park for his efforts as im sure it took a lot of hard work to even produce the film and ill even give him the benefit of the doubt this time around as a rookie directorscreenwriter but i sincerely hope that next time around hell go a little deeper just because the film is one of the first of its kind about the korean american experience doesnt mean its automatically good',\n '__label__negative this movie wasted my time i saw only part of it and i was crying about the wasted time that i could of spent doing something productive and useful towards this earth for everyone that has watched this movie more than once i am blaming them for global warming as the the amount of black balloons that got entered into the earth from this piece of crap were not needed and if they came from a different movie i would have forgiven them robin williams lowered his standards to actually participate for more than 10 seconds in this film and tim robbins how he went from this film to the shawhsank redemption i have no idea please do not watch this movie for the safety of the earth stop releasing black balloons into the earth from a film that they should have never funded or released please burn all copies before anyone else has to watch this crap',\n '__label__positive i was very impressed with the latest production from mick molloy as a fan of his i was used to a different kind of humour than displayed here he wisely opted with a more subtle broad style of comedy in crackerjack rather than his usual low brow inyourface ramblings it is at times inconsistent and uneven but a decent script works past that and makes for some entertaining viewing directed by paul moloney who has directed almost every australian tv series imaginable crackerjack tells the story of jack simpson a bloke that belongs to his local bowls club for the sole reason of parking when the club hits financial trouble he is forced to bowl competitively in an attempt to raise the funds to save the club from becoming a poker machine haven a familiar and successful formula that is handled well there is no denying that the film owes its success to the great casting of molloy he seemed to have a great rapport with samuel johnson and excellent chemistry with judith lucy and while the character is probably not a far stretch from his own personality you cant help but wonder why he hadnt tried his arm at film earlier to smooth out the inexperienced cast the delightful frank wilson and bill hunter support and often steal their scenes they are two fine actors and the pair cruise through their roles with ease had it not been for the huge success of my big fat greek wedding crackerjack would have made it to number 1 at the australian box office but when you consider what he film is about and who is involved even making it to number 2 was an outstanding effort all in all a witty feelgood movie great cast great crew and a great soundtrack combine to make one of the better australian films of 2002 710']"
     },
     "execution_count": 21,
     "metadata": {},
     "output_type": "execute_result"
    }
   ],
   "source": [
    "dataset_test = load_dataset(\"imdb\", split=\"test\")\n",
    "X_test_treated = pretreatment(dataset_test)\n",
    "random.shuffle(X_test_treated)\n",
    "X_test_treated[:5]"
   ],
   "metadata": {
    "collapsed": false,
    "pycharm": {
     "name": "#%%\n"
    }
   }
  },
  {
   "cell_type": "code",
   "execution_count": 22,
   "outputs": [
    {
     "data": {
      "text/plain": "(25000, 0.87552, 0.87552)"
     },
     "execution_count": 22,
     "metadata": {},
     "output_type": "execute_result"
    }
   ],
   "source": [
    "with open(\"X_test.txt\", mode=\"w\") as file:\n",
    "\tfile.write(\"\\n\".join(X_test_treated))\n",
    "model.test(\"X_test.txt\")\n"
   ],
   "metadata": {
    "collapsed": false,
    "pycharm": {
     "name": "#%%\n"
    }
   }
  },
  {
   "cell_type": "code",
   "execution_count": 16,
   "outputs": [
    {
     "data": {
      "text/plain": "(25000, 0.90168, 0.90168)"
     },
     "execution_count": 16,
     "metadata": {},
     "output_type": "execute_result"
    }
   ],
   "source": [
    "model.test(\"X_train.txt\")"
   ],
   "metadata": {
    "collapsed": false,
    "pycharm": {
     "name": "#%%\n"
    }
   }
  },
  {
   "cell_type": "code",
   "execution_count": null,
   "outputs": [],
   "source": [
    "fasttext.version"
   ],
   "metadata": {
    "collapsed": false,
    "pycharm": {
     "name": "#%%\n"
    }
   }
  },
  {
   "cell_type": "code",
   "execution_count": null,
   "outputs": [],
   "source": [
    "!pip ver"
   ],
   "metadata": {
    "collapsed": false,
    "pycharm": {
     "name": "#%%\n"
    }
   }
  }
 ]
}