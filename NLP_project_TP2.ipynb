{
 "nbformat": 4,
 "nbformat_minor": 0,
 "metadata": {
  "colab": {
   "provenance": []
  },
  "kernelspec": {
   "name": "python3",
   "display_name": "Python 3"
  },
  "language_info": {
   "name": "python"
  }
 },
 "cells": [
  {
   "cell_type": "code",
   "source": [
    "!git clone https: // github.com / facebookresearch / fastText.git\n",
    "!pip install fastText\n",
    "!pip install datasets"
   ],
   "metadata": {
    "colab": {
     "base_uri": "https://localhost:8080/"
    },
    "id": "DzGZTNFpYu8i",
    "outputId": "6f078b4e-b571-4dec-a0ef-48aa93f0d37b",
    "pycharm": {
     "name": "#%%\n"
    }
   },
   "execution_count": 10,
   "outputs": [
    {
     "output_type": "stream",
     "name": "stdout",
     "text": [
      "fatal: destination path 'fastText' already exists and is not an empty directory.\n",
      "Looking in indexes: https://pypi.org/simple, https://us-python.pkg.dev/colab-wheels/public/simple/\n",
      "Requirement already satisfied: fastText in /usr/local/lib/python3.7/dist-packages (0.9.2)\n",
      "Requirement already satisfied: pybind11>=2.2 in /usr/local/lib/python3.7/dist-packages (from fastText) (2.10.0)\n",
      "Requirement already satisfied: setuptools>=0.7.0 in /usr/local/lib/python3.7/dist-packages (from fastText) (57.4.0)\n",
      "Requirement already satisfied: numpy in /usr/local/lib/python3.7/dist-packages (from fastText) (1.21.6)\n",
      "Looking in indexes: https://pypi.org/simple, https://us-python.pkg.dev/colab-wheels/public/simple/\n",
      "Collecting datasets\n",
      "  Downloading datasets-2.4.0-py3-none-any.whl (365 kB)\n",
      "\u001B[K     |████████████████████████████████| 365 kB 4.1 MB/s \n",
      "\u001B[?25hCollecting multiprocess\n",
      "  Downloading multiprocess-0.70.13-py37-none-any.whl (115 kB)\n",
      "\u001B[K     |████████████████████████████████| 115 kB 59.2 MB/s \n",
      "\u001B[?25hRequirement already satisfied: pyarrow>=6.0.0 in /usr/local/lib/python3.7/dist-packages (from datasets) (6.0.1)\n",
      "Requirement already satisfied: importlib-metadata in /usr/local/lib/python3.7/dist-packages (from datasets) (4.12.0)\n",
      "Requirement already satisfied: numpy>=1.17 in /usr/local/lib/python3.7/dist-packages (from datasets) (1.21.6)\n",
      "Requirement already satisfied: dill<0.3.6 in /usr/local/lib/python3.7/dist-packages (from datasets) (0.3.5.1)\n",
      "Requirement already satisfied: aiohttp in /usr/local/lib/python3.7/dist-packages (from datasets) (3.8.1)\n",
      "Requirement already satisfied: packaging in /usr/local/lib/python3.7/dist-packages (from datasets) (21.3)\n",
      "Requirement already satisfied: fsspec[http]>=2021.11.1 in /usr/local/lib/python3.7/dist-packages (from datasets) (2022.8.2)\n",
      "Collecting responses<0.19\n",
      "  Downloading responses-0.18.0-py3-none-any.whl (38 kB)\n",
      "Requirement already satisfied: tqdm>=4.62.1 in /usr/local/lib/python3.7/dist-packages (from datasets) (4.64.1)\n",
      "Collecting xxhash\n",
      "  Downloading xxhash-3.0.0-cp37-cp37m-manylinux_2_17_x86_64.manylinux2014_x86_64.whl (212 kB)\n",
      "\u001B[K     |████████████████████████████████| 212 kB 43.3 MB/s \n",
      "\u001B[?25hCollecting huggingface-hub<1.0.0,>=0.1.0\n",
      "  Downloading huggingface_hub-0.9.1-py3-none-any.whl (120 kB)\n",
      "\u001B[K     |████████████████████████████████| 120 kB 37.3 MB/s \n",
      "\u001B[?25hRequirement already satisfied: pandas in /usr/local/lib/python3.7/dist-packages (from datasets) (1.3.5)\n",
      "Requirement already satisfied: requests>=2.19.0 in /usr/local/lib/python3.7/dist-packages (from datasets) (2.23.0)\n",
      "Requirement already satisfied: charset-normalizer<3.0,>=2.0 in /usr/local/lib/python3.7/dist-packages (from aiohttp->datasets) (2.1.1)\n",
      "Requirement already satisfied: yarl<2.0,>=1.0 in /usr/local/lib/python3.7/dist-packages (from aiohttp->datasets) (1.8.1)\n",
      "Requirement already satisfied: typing-extensions>=3.7.4 in /usr/local/lib/python3.7/dist-packages (from aiohttp->datasets) (4.1.1)\n",
      "Requirement already satisfied: asynctest==0.13.0 in /usr/local/lib/python3.7/dist-packages (from aiohttp->datasets) (0.13.0)\n",
      "Requirement already satisfied: attrs>=17.3.0 in /usr/local/lib/python3.7/dist-packages (from aiohttp->datasets) (22.1.0)\n",
      "Requirement already satisfied: multidict<7.0,>=4.5 in /usr/local/lib/python3.7/dist-packages (from aiohttp->datasets) (6.0.2)\n",
      "Requirement already satisfied: frozenlist>=1.1.1 in /usr/local/lib/python3.7/dist-packages (from aiohttp->datasets) (1.3.1)\n",
      "Requirement already satisfied: aiosignal>=1.1.2 in /usr/local/lib/python3.7/dist-packages (from aiohttp->datasets) (1.2.0)\n",
      "Requirement already satisfied: async-timeout<5.0,>=4.0.0a3 in /usr/local/lib/python3.7/dist-packages (from aiohttp->datasets) (4.0.2)\n",
      "Requirement already satisfied: filelock in /usr/local/lib/python3.7/dist-packages (from huggingface-hub<1.0.0,>=0.1.0->datasets) (3.8.0)\n",
      "Requirement already satisfied: pyyaml>=5.1 in /usr/local/lib/python3.7/dist-packages (from huggingface-hub<1.0.0,>=0.1.0->datasets) (6.0)\n",
      "Requirement already satisfied: pyparsing!=3.0.5,>=2.0.2 in /usr/local/lib/python3.7/dist-packages (from packaging->datasets) (3.0.9)\n",
      "Requirement already satisfied: idna<3,>=2.5 in /usr/local/lib/python3.7/dist-packages (from requests>=2.19.0->datasets) (2.10)\n",
      "Requirement already satisfied: chardet<4,>=3.0.2 in /usr/local/lib/python3.7/dist-packages (from requests>=2.19.0->datasets) (3.0.4)\n",
      "Requirement already satisfied: urllib3!=1.25.0,!=1.25.1,<1.26,>=1.21.1 in /usr/local/lib/python3.7/dist-packages (from requests>=2.19.0->datasets) (1.24.3)\n",
      "Requirement already satisfied: certifi>=2017.4.17 in /usr/local/lib/python3.7/dist-packages (from requests>=2.19.0->datasets) (2022.6.15)\n",
      "Collecting urllib3!=1.25.0,!=1.25.1,<1.26,>=1.21.1\n",
      "  Downloading urllib3-1.25.11-py2.py3-none-any.whl (127 kB)\n",
      "\u001B[K     |████████████████████████████████| 127 kB 55.0 MB/s \n",
      "\u001B[?25hRequirement already satisfied: zipp>=0.5 in /usr/local/lib/python3.7/dist-packages (from importlib-metadata->datasets) (3.8.1)\n",
      "Requirement already satisfied: python-dateutil>=2.7.3 in /usr/local/lib/python3.7/dist-packages (from pandas->datasets) (2.8.2)\n",
      "Requirement already satisfied: pytz>=2017.3 in /usr/local/lib/python3.7/dist-packages (from pandas->datasets) (2022.2.1)\n",
      "Requirement already satisfied: six>=1.5 in /usr/local/lib/python3.7/dist-packages (from python-dateutil>=2.7.3->pandas->datasets) (1.15.0)\n",
      "Installing collected packages: urllib3, xxhash, responses, multiprocess, huggingface-hub, datasets\n",
      "  Attempting uninstall: urllib3\n",
      "    Found existing installation: urllib3 1.24.3\n",
      "    Uninstalling urllib3-1.24.3:\n",
      "      Successfully uninstalled urllib3-1.24.3\n",
      "Successfully installed datasets-2.4.0 huggingface-hub-0.9.1 multiprocess-0.70.13 responses-0.18.0 urllib3-1.25.11 xxhash-3.0.0\n"
     ]
    }
   ]
  },
  {
   "cell_type": "code",
   "execution_count": 1,
   "metadata": {
    "colab": {
     "base_uri": "https://localhost:8080/"
    },
    "id": "ZCnT59IYYcrq",
    "outputId": "550c615f-c312-4c11-d4c1-4c2ae0575c0c",
    "pycharm": {
     "name": "#%%\n"
    }
   },
   "outputs": [
    {
     "name": "stderr",
     "output_type": "stream",
     "text": [
      "Reusing dataset imdb (/home/victor/.cache/huggingface/datasets/imdb/plain_text/1.0.0/2fdd8b9bcadd6e7055e742a706876ba43f19faee861df134affd7a3f60fc38a1)\n"
     ]
    }
   ],
   "source": [
    "import fasttext\n",
    "from datasets import load_dataset\n",
    "\n",
    "dataset_train = load_dataset('imdb', split='train')"
   ]
  },
  {
   "cell_type": "code",
   "execution_count": 2,
   "outputs": [],
   "source": [
    "import random\n",
    "random.seed(42)"
   ],
   "metadata": {
    "collapsed": false,
    "pycharm": {
     "name": "#%%\n"
    }
   }
  },
  {
   "cell_type": "code",
   "source": [
    "from string import punctuation\n",
    "\n",
    "\n",
    "def to_lower(review):\n",
    "\treturn str.lower(review)\n",
    "\n",
    "\n",
    "def no_punct(review):\n",
    "\treturn review.translate(str.maketrans('', '', punctuation))\n",
    "\n",
    "\n",
    "def to_fasttext(review, label):\n",
    "\n",
    "\tlabel_str = 'positive'\n",
    "\tif label == 0:\n",
    "\t\tlabel_str = 'negative'\n",
    "\treturn '__label__' + label_str + \" \" + review\n",
    "\n",
    "\n",
    "def pretreatment(dataset):\n",
    "\tlabels = dataset['label']\n",
    "\treviews = dataset['text']\n",
    "\tcorrected_review_list = []\n",
    "\tfor i in range(len(reviews)):\n",
    "\t\tlower = to_lower(reviews[i])\n",
    "\t\tno_punc = no_punct(lower)\n",
    "\t\tcorrected_review = to_fasttext(no_punc, labels[i])\n",
    "\t\tcorrected_review_list.append(corrected_review)\n",
    "\treturn corrected_review_list\n",
    "\n",
    "\n",
    "X_treated = pretreatment(dataset_train)\n",
    "with open(\"X_train.txt\", mode=\"w\") as file:\n",
    "\tfile.write(\"\\n\".join(X_treated))\n"
   ],
   "metadata": {
    "colab": {
     "base_uri": "https://localhost:8080/",
     "height": 331
    },
    "id": "cViOv7nrcRyZ",
    "outputId": "baac6807-cb1d-4a75-f4c3-98e42e56de05",
    "pycharm": {
     "name": "#%%\n"
    }
   },
   "execution_count": 3,
   "outputs": []
  },
  {
   "cell_type": "code",
   "execution_count": 4,
   "outputs": [
    {
     "name": "stderr",
     "output_type": "stream",
     "text": [
      "Read 5M words\n",
      "Number of words:  121891\n",
      "Number of labels: 2\n",
      "Progress: 100.0% words/sec/thread: 2204108 lr:  0.000000 avg.loss:  0.380869 ETA:   0h 0m 0s\n"
     ]
    }
   ],
   "source": [
    "model = fasttext.train_supervised(input=\"X_train.txt\")"
   ],
   "metadata": {
    "collapsed": false,
    "pycharm": {
     "name": "#%%\n"
    }
   }
  },
  {
   "cell_type": "code",
   "execution_count": 9,
   "outputs": [
    {
     "name": "stderr",
     "output_type": "stream",
     "text": [
      "Reusing dataset imdb (/home/victor/.cache/huggingface/datasets/imdb/plain_text/1.0.0/2fdd8b9bcadd6e7055e742a706876ba43f19faee861df134affd7a3f60fc38a1)\n"
     ]
    },
    {
     "data": {
      "text/plain": "['__label__negative i love scifi and am willing to put up with a lot scifi moviestv are usually underfunded underappreciated and misunderstood i tried to like this i really did but it is to good tv scifi as babylon 5 is to star trek the original silly prosthetics cheap cardboard sets stilted dialogues cg that doesnt match the background and painfully onedimensional characters cannot be overcome with a scifi setting im sure there are those of you out there who think babylon 5 is good scifi tv its not its clichéd and uninspiring while us viewers might like emotion and character development scifi is a genre that does not take itself seriously cf star trek it may treat important issues yet not as a serious philosophy its really difficult to care about the characters here as they are not simply foolish just missing a spark of life their actions and reactions are wooden and predictable often painful to watch the makers of earth know its rubbish as they have to always say gene roddenberrys earth otherwise people would not continue watching roddenberrys ashes must be turning in their orbit as this dull cheap poorly edited watching it without advert breaks really brings this home trudging trabant of a show lumbers into space spoiler so kill off a main character and then bring him back as another actor jeeez dallas all over again',\n '__label__negative worth the entertainment value of a rental especially if you like action movies this one features the usual car chases fights with the great van damme kick style shooting battles with the 40 shell load shotgun and even terrorist style bombs all of this is entertaining and competently handled but there is nothing that really blows you away if youve seen your share beforebr br the plot is made interesting by the inclusion of a rabbit which is clever but hardly profound many of the characters are heavily stereotyped  the angry veterans the terrified illegal aliens the crooked cops the indifferent feds the bitchy tough lady station head the crooked politician the fat federale who looks like he was typecast as the mexican in a hollywood movie from the 1940s all passably acted but again nothing specialbr br i thought the main villains were pretty well done and fairly well acted by the end of the movie you certainly knew who the good guys were and werent there was an emotional lift as the really bad ones got their just deserts very simplistic but then you werent expecting hamlet right the only thing i found really annoying was the constant cuts to vds daughter during the last fight scenebr br not bad not good passable 4',\n '__label__negative its a totally average film with a few semialright action sequences that make the plot seem a little better and remind the viewer of the classic van dam films parts of the plot dont make sense and seem to be added in to use up time the end plot is that of a very basic type that doesnt leave the viewer guessing and any twists are obvious from the beginning the end scene with the flask backs dont make sense as they are added in and seem to have little relevance to the history of van dams character not really worth watching again bit disappointed in the end production even though it is apparent it was shot on a low budget certain shots and sections in the film are of poor directed quality',\n '__label__negative star rating  saturday night  friday night  friday morning  sunday night  monday morning br br former new orleans homicide cop jack robideaux jean claude van damme is reassigned to columbus a small but violent town in mexico to help the police there with their efforts to stop a major heroin smuggling operation into their town the culprits turn out to be exmilitary lead by former commander benjamin meyers stephen lord otherwise known as jase from east enders who is using a special method he learned in afghanistan to fight off his opponents but jack has a more personal reason for taking him down that draws the two men into an explosive final showdown where only one will walk away alivebr br after until death van damme appeared to be on a high showing he could make the best straight to video films in the action market while that was a far more drama oriented film with the shepherd he has returned to the highkicking no brainer action that first made him famous and has sadly produced his worst film since derailed its nowhere near as bad as that film but what i said still standsbr br a dull predictable film with very little in the way of any exciting action what little there is mainly consists of some limp fight scenes trying to look cool and trendy with some cheap slomosped up effects added to them that sadly instead make them look more desperate being a mexican set film director isaac florentine has tried to give the film a robert rodriguezdesperado sort of feel but this only adds to the desperationbr br vd gives a particularly uninspired performance and given hes never been a robert de niro sort of actor that cant be good as the villain lord shouldnt expect to leave the beeb anytime soon he gets little dialogue at the beginning as he struggles to muster an american accent but gets mysteriously better towards the end all the supporting cast are equally bland and do nothing to raise the films spirits at allbr br this is one shepherd thats strayed right from the flock ',\n '__label__negative first off let me say if you havent enjoyed a van damme movie since bloodsport you probably will not like this movie most of these movies may not have the best plots or best actors but i enjoy these kinds of movies for what they are this movie is much better than any of the movies the other action guys segal and dolph have thought about putting out the past few years van damme is good in the movie the movie is only worth watching to van damme fans it is not as good as wake of death which i highly recommend to anyone of likes van damme or in hell but in my opinion its worth watching it has the same type of feel to it as nowhere to run good fun stuff']"
     },
     "execution_count": 9,
     "metadata": {},
     "output_type": "execute_result"
    }
   ],
   "source": [
    "dataset_test = load_dataset(\"imdb\", split=\"test\")\n",
    "X_test_treated = pretreatment(dataset_test)\n",
    "X_test_treated[:5]"
   ],
   "metadata": {
    "collapsed": false,
    "pycharm": {
     "name": "#%%\n"
    }
   }
  },
  {
   "cell_type": "code",
   "execution_count": 6,
   "outputs": [
    {
     "data": {
      "text/plain": "(25000, 0.8678, 0.8678)"
     },
     "execution_count": 6,
     "metadata": {},
     "output_type": "execute_result"
    }
   ],
   "source": [
    "with open(\"X_test.txt\", mode=\"w\") as file:\n",
    "\tfile.write(\"\\n\".join(X_test_treated))\n",
    "model.test(\"X_test.txt\")\n"
   ],
   "metadata": {
    "collapsed": false,
    "pycharm": {
     "name": "#%%\n"
    }
   }
  },
  {
   "cell_type": "code",
   "execution_count": 7,
   "outputs": [
    {
     "data": {
      "text/plain": "(25000, 0.89524, 0.89524)"
     },
     "execution_count": 7,
     "metadata": {},
     "output_type": "execute_result"
    }
   ],
   "source": [
    "model.test(\"X_train.txt\")"
   ],
   "metadata": {
    "collapsed": false,
    "pycharm": {
     "name": "#%%\n"
    }
   }
  },
  {
   "cell_type": "code",
   "execution_count": 8,
   "outputs": [
    {
     "ename": "AttributeError",
     "evalue": "module 'fasttext' has no attribute '__version__'",
     "output_type": "error",
     "traceback": [
      "\u001B[0;31m---------------------------------------------------------------------------\u001B[0m",
      "\u001B[0;31mAttributeError\u001B[0m                            Traceback (most recent call last)",
      "Input \u001B[0;32mIn [8]\u001B[0m, in \u001B[0;36m<cell line: 1>\u001B[0;34m()\u001B[0m\n\u001B[0;32m----> 1\u001B[0m \u001B[43mfasttext\u001B[49m\u001B[38;5;241;43m.\u001B[39;49m\u001B[43m__version__\u001B[49m\n",
      "\u001B[0;31mAttributeError\u001B[0m: module 'fasttext' has no attribute '__version__'"
     ]
    }
   ],
   "source": [
    "fasttext.version"
   ],
   "metadata": {
    "collapsed": false,
    "pycharm": {
     "name": "#%%\n"
    }
   }
  },
  {
   "cell_type": "code",
   "execution_count": null,
   "outputs": [],
   "source": [
    "!pip ver"
   ],
   "metadata": {
    "collapsed": false,
    "pycharm": {
     "name": "#%%\n"
    }
   }
  }
 ]
}