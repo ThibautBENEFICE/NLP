{
 "nbformat": 4,
 "nbformat_minor": 0,
 "metadata": {
  "colab": {
   "provenance": []
  },
  "kernelspec": {
   "name": "python3",
   "display_name": "Python 3"
  },
  "language_info": {
   "name": "python"
  }
 },
 "cells": [
  {
   "cell_type": "code",
   "source": [
    "!pip install fastText\n",
    "!pip install datasets"
   ],
   "metadata": {
    "colab": {
     "base_uri": "https://localhost:8080/"
    },
    "id": "DzGZTNFpYu8i",
    "outputId": "6f078b4e-b571-4dec-a0ef-48aa93f0d37b",
    "pycharm": {
     "name": "#%%\n"
    }
   },
   "execution_count": 22,
   "outputs": [
    {
     "name": "stdout",
     "output_type": "stream",
     "text": [
      "Requirement already satisfied: fastText in /home/victor/Documents/venv_epita/lib/python3.10/site-packages (0.9.2)\r\n",
      "Requirement already satisfied: setuptools>=0.7.0 in /home/victor/Documents/venv_epita/lib/python3.10/site-packages (from fastText) (60.2.0)\r\n",
      "Requirement already satisfied: numpy in /home/victor/Documents/venv_epita/lib/python3.10/site-packages (from fastText) (1.23.3)\r\n",
      "Requirement already satisfied: pybind11>=2.2 in /home/victor/Documents/venv_epita/lib/python3.10/site-packages (from fastText) (2.10.0)\r\n",
      "\u001B[33mWARNING: You are using pip version 21.3.1; however, version 22.2.2 is available.\r\n",
      "You should consider upgrading via the '/home/victor/Documents/venv_epita/bin/python -m pip install --upgrade pip' command.\u001B[0m\r\n",
      "Requirement already satisfied: datasets in /home/victor/Documents/venv_epita/lib/python3.10/site-packages (2.4.0)\r\n",
      "Requirement already satisfied: pandas in /home/victor/Documents/venv_epita/lib/python3.10/site-packages (from datasets) (1.4.4)\r\n",
      "Requirement already satisfied: aiohttp in /home/victor/Documents/venv_epita/lib/python3.10/site-packages (from datasets) (3.8.1)\r\n",
      "Requirement already satisfied: xxhash in /home/victor/Documents/venv_epita/lib/python3.10/site-packages (from datasets) (3.0.0)\r\n",
      "Requirement already satisfied: dill<0.3.6 in /home/victor/Documents/venv_epita/lib/python3.10/site-packages (from datasets) (0.3.5.1)\r\n",
      "Requirement already satisfied: numpy>=1.17 in /home/victor/Documents/venv_epita/lib/python3.10/site-packages (from datasets) (1.23.3)\r\n",
      "Requirement already satisfied: pyarrow>=6.0.0 in /home/victor/Documents/venv_epita/lib/python3.10/site-packages (from datasets) (9.0.0)\r\n",
      "Requirement already satisfied: tqdm>=4.62.1 in /home/victor/Documents/venv_epita/lib/python3.10/site-packages (from datasets) (4.64.1)\r\n",
      "Requirement already satisfied: multiprocess in /home/victor/Documents/venv_epita/lib/python3.10/site-packages (from datasets) (0.70.13)\r\n",
      "Requirement already satisfied: fsspec[http]>=2021.11.1 in /home/victor/Documents/venv_epita/lib/python3.10/site-packages (from datasets) (2022.8.2)\r\n",
      "Requirement already satisfied: packaging in /home/victor/Documents/venv_epita/lib/python3.10/site-packages (from datasets) (21.3)\r\n",
      "Requirement already satisfied: responses<0.19 in /home/victor/Documents/venv_epita/lib/python3.10/site-packages (from datasets) (0.18.0)\r\n",
      "Requirement already satisfied: huggingface-hub<1.0.0,>=0.1.0 in /home/victor/Documents/venv_epita/lib/python3.10/site-packages (from datasets) (0.9.1)\r\n",
      "Requirement already satisfied: requests>=2.19.0 in /home/victor/Documents/venv_epita/lib/python3.10/site-packages (from datasets) (2.28.1)\r\n",
      "Requirement already satisfied: charset-normalizer<3.0,>=2.0 in /home/victor/Documents/venv_epita/lib/python3.10/site-packages (from aiohttp->datasets) (2.1.1)\r\n",
      "Requirement already satisfied: frozenlist>=1.1.1 in /home/victor/Documents/venv_epita/lib/python3.10/site-packages (from aiohttp->datasets) (1.3.1)\r\n",
      "Requirement already satisfied: multidict<7.0,>=4.5 in /home/victor/Documents/venv_epita/lib/python3.10/site-packages (from aiohttp->datasets) (6.0.2)\r\n",
      "Requirement already satisfied: attrs>=17.3.0 in /home/victor/Documents/venv_epita/lib/python3.10/site-packages (from aiohttp->datasets) (22.1.0)\r\n",
      "Requirement already satisfied: aiosignal>=1.1.2 in /home/victor/Documents/venv_epita/lib/python3.10/site-packages (from aiohttp->datasets) (1.2.0)\r\n",
      "Requirement already satisfied: yarl<2.0,>=1.0 in /home/victor/Documents/venv_epita/lib/python3.10/site-packages (from aiohttp->datasets) (1.8.1)\r\n",
      "Requirement already satisfied: async-timeout<5.0,>=4.0.0a3 in /home/victor/Documents/venv_epita/lib/python3.10/site-packages (from aiohttp->datasets) (4.0.2)\r\n",
      "Requirement already satisfied: pyyaml>=5.1 in /home/victor/Documents/venv_epita/lib/python3.10/site-packages (from huggingface-hub<1.0.0,>=0.1.0->datasets) (6.0)\r\n",
      "Requirement already satisfied: filelock in /home/victor/Documents/venv_epita/lib/python3.10/site-packages (from huggingface-hub<1.0.0,>=0.1.0->datasets) (3.8.0)\r\n",
      "Requirement already satisfied: typing-extensions>=3.7.4.3 in /home/victor/Documents/venv_epita/lib/python3.10/site-packages (from huggingface-hub<1.0.0,>=0.1.0->datasets) (4.3.0)\r\n",
      "Requirement already satisfied: pyparsing!=3.0.5,>=2.0.2 in /home/victor/Documents/venv_epita/lib/python3.10/site-packages (from packaging->datasets) (3.0.9)\r\n",
      "Requirement already satisfied: urllib3<1.27,>=1.21.1 in /home/victor/Documents/venv_epita/lib/python3.10/site-packages (from requests>=2.19.0->datasets) (1.26.12)\r\n",
      "Requirement already satisfied: idna<4,>=2.5 in /home/victor/Documents/venv_epita/lib/python3.10/site-packages (from requests>=2.19.0->datasets) (3.4)\r\n",
      "Requirement already satisfied: certifi>=2017.4.17 in /home/victor/Documents/venv_epita/lib/python3.10/site-packages (from requests>=2.19.0->datasets) (2022.9.14)\r\n",
      "Requirement already satisfied: pytz>=2020.1 in /home/victor/Documents/venv_epita/lib/python3.10/site-packages (from pandas->datasets) (2022.2.1)\r\n",
      "Requirement already satisfied: python-dateutil>=2.8.1 in /home/victor/Documents/venv_epita/lib/python3.10/site-packages (from pandas->datasets) (2.8.2)\r\n",
      "Requirement already satisfied: six>=1.5 in /home/victor/Documents/venv_epita/lib/python3.10/site-packages (from python-dateutil>=2.8.1->pandas->datasets) (1.16.0)\r\n",
      "\u001B[33mWARNING: You are using pip version 21.3.1; however, version 22.2.2 is available.\r\n",
      "You should consider upgrading via the '/home/victor/Documents/venv_epita/bin/python -m pip install --upgrade pip' command.\u001B[0m\r\n"
     ]
    }
   ]
  },
  {
   "cell_type": "code",
   "execution_count": 23,
   "metadata": {
    "colab": {
     "base_uri": "https://localhost:8080/"
    },
    "id": "ZCnT59IYYcrq",
    "outputId": "550c615f-c312-4c11-d4c1-4c2ae0575c0c",
    "pycharm": {
     "name": "#%%\n"
    }
   },
   "outputs": [
    {
     "name": "stderr",
     "output_type": "stream",
     "text": [
      "Reusing dataset imdb (/home/victor/.cache/huggingface/datasets/imdb/plain_text/1.0.0/2fdd8b9bcadd6e7055e742a706876ba43f19faee861df134affd7a3f60fc38a1)\n"
     ]
    }
   ],
   "source": [
    "import fasttext\n",
    "from datasets import load_dataset\n",
    "\n",
    "dataset_train = load_dataset('imdb', split='train')"
   ]
  },
  {
   "cell_type": "code",
   "execution_count": 24,
   "outputs": [],
   "source": [
    "import random\n",
    "random.seed(42)"
   ],
   "metadata": {
    "collapsed": false,
    "pycharm": {
     "name": "#%%\n"
    }
   }
  },
  {
   "cell_type": "code",
   "source": [
    "from string import punctuation\n",
    "\n",
    "\n",
    "def to_lower(review):\n",
    "\treturn str.lower(review)\n",
    "\n",
    "\n",
    "def no_punct(review):\n",
    "\treturn review.translate(str.maketrans('', '', punctuation))\n",
    "\n",
    "\n",
    "def to_fasttext(review, label):\n",
    "\n",
    "\tlabel_str = 'positive'\n",
    "\tif label == 0:\n",
    "\t\tlabel_str = 'negative'\n",
    "\treturn '__label__' + label_str + \" \" + review\n",
    "\n",
    "\n",
    "def pretreatment(dataset):\n",
    "\tlabels = dataset['label']\n",
    "\treviews = dataset['text']\n",
    "\tcorrected_review_list = []\n",
    "\tfor i in range(len(reviews)):\n",
    "\t\tlower = to_lower(reviews[i])\n",
    "\t\tno_punc = no_punct(lower)\n",
    "\t\tcorrected_review = to_fasttext(no_punc, labels[i])\n",
    "\t\tcorrected_review_list.append(corrected_review)\n",
    "\treturn corrected_review_list\n",
    "\n",
    "def write_into_file(file_path: str, data: list):\n",
    "\twith open(file_path, mode=\"w\") as file:\n",
    "\t\tfile.write(\"\\n\".join(data))\n",
    "\n",
    "\n",
    "\n",
    "X_train_treated = pretreatment(dataset_train)\n",
    "random.shuffle(X_train_treated)\n",
    "write_into_file(\"X_train.txt\", X_train_treated)"
   ],
   "metadata": {
    "colab": {
     "base_uri": "https://localhost:8080/",
     "height": 331
    },
    "id": "cViOv7nrcRyZ",
    "outputId": "baac6807-cb1d-4a75-f4c3-98e42e56de05"
   },
   "execution_count": 25,
   "outputs": []
  },
  {
   "cell_type": "code",
   "execution_count": 26,
   "outputs": [
    {
     "name": "stderr",
     "output_type": "stream",
     "text": [
      "Read 5M words\n",
      "Number of words:  121891\n",
      "Number of labels: 2\n",
      "Progress: 100.0% words/sec/thread: 2843174 lr:  0.000000 avg.loss:  0.400672 ETA:   0h 0m 0s\n"
     ]
    }
   ],
   "source": [
    "model = fasttext.train_supervised(input=\"X_train.txt\")"
   ],
   "metadata": {
    "collapsed": false,
    "pycharm": {
     "name": "#%%\n"
    }
   }
  },
  {
   "cell_type": "code",
   "execution_count": 27,
   "outputs": [
    {
     "name": "stderr",
     "output_type": "stream",
     "text": [
      "Reusing dataset imdb (/home/victor/.cache/huggingface/datasets/imdb/plain_text/1.0.0/2fdd8b9bcadd6e7055e742a706876ba43f19faee861df134affd7a3f60fc38a1)\n"
     ]
    },
    {
     "data": {
      "text/plain": "['__label__positive young elijah wood and joseph mazzello are outstanding in this excellent film about two boys who have promised to take care of their mother and how they cope when their new stepfather begins beating the younger boy the supporting cast around the boys is topnotch as well the script really gets inside the mind and heart of an imaginative child its hard to believe wood could grow up to look anything like tom hanks but thats nothing new in hollywood thats honestly my only criticism of the film',\n '__label__positive this is one of the best sequels around and a very good movie too even there were some mistakes but still i enjoyed it this time charles is not just fighting one or two muggers but a whole army of them death wish 3 has a lot great action scenes and i enjoyed it every single second of it director michael winner knows how to direct a good action movie like this and jimmy page providing the music with producers golan and globus still doing there thing and charles bronson is still acting good for paul kersey this movie also made it look like that michael try to end the death wish series and i cant blame him and i love the gun that charles uses death wish 3 is one of the great movies of 1985 and cant get any better than thisbr br i gives this 910',\n '__label__negative thats what me and my friends kept asking each other throughout this entire flick we couldnt believe how stupid it was i think somebody shot this on their camcorder at home and snuck it into the movie store and put it on the shelf as a joke to see if anybody would ever pick it up well i guess the joke is on usbr br i guess i should have come to this website first and read all of the reviews it has gotten every single one says this movie is horrible stupid and on and on and boy are they right although it did provide some pretty good laughs me and my friends were pretty drunk because it is so stupid we just cant believe somebody was dumb enough to make such a crappy movie i swear this had to be made in the 70s before they had good technology for movies and stuff because every scene looks really crappy but when i looked on here it said it was made in 2001 what it sure doesnt look like a movie that would be made today but i guess thats what you get when you use a camcorder and shoot home movies using strobe lights and really fake looking lasers and use real life people from your home town instead of actors or even aspiring actors btwsome of those chicks or were they drag queens we couldnt tell were so fugly even my drunk horny college buddies wouldnt touch them with a 50foot polebr br so theres absolutely no appeal to this movie at all bad acting bad writing bad directing bad special effects bad bad bad dont waste your time or money on this one youll be completely disappointed',\n '__label__negative mame is a disgrace to many thingsto lucille ball to a story which has been told better many times over and to the musical genre altogether ms ball does not understand her character at all and she seems to be heavily sedated bea arthur is good but it is not enough the production is very shoddy and cheap looking the songs are subpar and nearly every joke misfires also lucy couldnt dance well so the music had to be slowed down to a funerial pace avoid at all costs but do see the delightful auntie mame',\n '__label__negative the tender hook or who killed the australian film industry case no 278 this sorry excuse for a period drama takes a cast and idea with potential \\x96 rose byrne pia miranda hugo weaving in a jazzera gangster drama \\x96 and turns it into a sloppily paced and executed soporific mcheath weaving is a boxing promoter and gangster and functioning illiterate for no apparent reason hes given to singing bob dylan and leonard cohen songs before bouts how postmodern how stupid anyway theres a boxer art matthew le nevez who becomes mcheaths latest protégé over his unfortunately aboriginal stablemate alby luke carrollbr br mcheaths flapper moll iris byrne makes the googoo eyes at him sexual tension squelches under the surface miranda plays daisy a friend of iriss these flower girls stick together who keeps turning up in scenes unannounced they practice dancing together and talk about hooking up with guys in the 1920s i stopped counting anachronisms after that theres a subplot involving japanese beer and a backstory of broome pearl fishermen i dont know what it was all about for some reason that is not exactly at all explained byrne puts cocaine in arts lemonade mcheath thinks hes a drunk and sacks him byrne plots and schemes to help him out again shes a big one for the plotting and scheming most of which causes trouble mcheaths two gunsels portly ronnie john batchelor and russian donnie tyler coppin debate bumping off mcheath when he realises their part in one of iriss schemes but ronnie wimps out when he sees mcheath crying a lot of practically incoherent scenes get in the road of the film finally endingbr br director jonathan ogilvie spends a lot of time working with cinematographer geoffrey simpson creating some pretty images but utterly fails to generate a sense of style which might have compensated for and decorated the wispy pathetically underpowered script unfortunately ogilvies sense of film grammar the lack of structuring of the scenes and exposition is stunningly incompetent in an early scene daisy suddenly appears in the car with the protagonists how she got there and indeed who she is seems to have slipped ogilvies mind there are many more examples of this sloppiness where he chases poetic sparseness he achieves only wan irritation he gains awkward performances from actors who are normally reliable badly miscasting weaving and leaning on byrnes ability to project a kind of haunted dolllike humanity whilst saddling her with an incomprehensible characterbr br it might not matter so much if the story had more substantial characters and stronger plotting preferably not stolen from a dozen old noir films and festooned with witlessly sprinkled popculture quotes but it doesnt its boring']"
     },
     "execution_count": 27,
     "metadata": {},
     "output_type": "execute_result"
    }
   ],
   "source": [
    "dataset_test = load_dataset(\"imdb\", split=\"test\")\n",
    "X_test_treated = pretreatment(dataset_test)\n",
    "random.shuffle(X_test_treated)\n",
    "X_test_treated[:5]"
   ],
   "metadata": {
    "collapsed": false,
    "pycharm": {
     "name": "#%%\n"
    }
   }
  },
  {
   "cell_type": "code",
   "execution_count": 28,
   "outputs": [
    {
     "data": {
      "text/plain": "(25000, 0.8768, 0.8768)"
     },
     "execution_count": 28,
     "metadata": {},
     "output_type": "execute_result"
    }
   ],
   "source": [
    "write_into_file(\"X_test.txt\",X_test_treated)\n",
    "model.test(\"X_test.txt\")\n"
   ],
   "metadata": {
    "collapsed": false
   }
  },
  {
   "cell_type": "code",
   "execution_count": 29,
   "outputs": [
    {
     "data": {
      "text/plain": "(25000, 0.90144, 0.90144)"
     },
     "execution_count": 29,
     "metadata": {},
     "output_type": "execute_result"
    }
   ],
   "source": [
    "model.test(\"X_train.txt\")"
   ],
   "metadata": {
    "collapsed": false,
    "pycharm": {
     "name": "#%%\n"
    }
   }
  },
  {
   "cell_type": "code",
   "execution_count": 30,
   "outputs": [],
   "source": [
    "from sklearn.model_selection import train_test_split\n",
    "X_train, X_vallidation = train_test_split(X_train_treated)\n",
    "write_into_file(\"X_train.txt\",X_train)\n",
    "write_into_file(\"X_val.txt\", X_vallidation)"
   ],
   "metadata": {
    "collapsed": false
   }
  },
  {
   "cell_type": "code",
   "execution_count": 31,
   "outputs": [
    {
     "name": "stdout",
     "output_type": "stream",
     "text": [
      "ERROR: unknown command \"ver\"\r\n"
     ]
    }
   ],
   "source": [],
   "metadata": {
    "collapsed": false
   }
  }
 ]
}
