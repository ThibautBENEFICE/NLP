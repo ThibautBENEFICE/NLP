{
 "cells": [
  {
   "cell_type": "code",
   "execution_count": 3,
   "metadata": {
    "collapsed": true
   },
   "outputs": [
    {
     "name": "stderr",
     "output_type": "stream",
     "text": [
      "/home/victor/Documents/travail_epita/venv_epita/lib/python3.10/site-packages/beir/util.py:2: TqdmExperimentalWarning: Using `tqdm.autonotebook.tqdm` in notebook mode. Use `tqdm.tqdm` instead to force console mode (e.g. in jupyter console)\n",
      "  from tqdm.autonotebook import tqdm\n"
     ]
    }
   ],
   "source": [
    "from beir import util\n",
    "from beir.datasets.data_loader import GenericDataLoader\n"
   ]
  },
  {
   "cell_type": "code",
   "execution_count": 4,
   "outputs": [
    {
     "data": {
      "text/plain": "  0%|          | 0/4635922 [00:00<?, ?it/s]",
      "application/vnd.jupyter.widget-view+json": {
       "version_major": 2,
       "version_minor": 0,
       "model_id": "60689750ad804b75819626e496894a07"
      }
     },
     "metadata": {},
     "output_type": "display_data"
    }
   ],
   "source": [
    "url=\"https://public.ukp.informatik.tu-darmstadt.de/thakur/BEIR/datasets/dbpedia-entity.zip\"\n",
    "data_path = util.download_and_unzip(url,\"./data\")\n",
    "corpus,queries,qrels = GenericDataLoader(data_folder=data_path).load(split=\"test\")"
   ],
   "metadata": {
    "collapsed": false
   }
  },
  {
   "cell_type": "code",
   "execution_count": 5,
   "outputs": [
    {
     "data": {
      "text/plain": "4635922"
     },
     "execution_count": 5,
     "metadata": {},
     "output_type": "execute_result"
    }
   ],
   "source": [
    "len(corpus)"
   ],
   "metadata": {
    "collapsed": false
   }
  },
  {
   "cell_type": "code",
   "execution_count": 6,
   "outputs": [
    {
     "data": {
      "text/plain": "{'INEX_LD-2009022': 'Szechwan dish food cuisine',\n 'INEX_LD-2009039': 'roman architecture',\n 'INEX_LD-2009053': 'finland car industry manufacturer saab sisu',\n 'INEX_LD-2009061': 'france second world war normandy',\n 'INEX_LD-2009062': 'social network group selection',\n 'INEX_LD-2009063': 'D-Day normandy invasion',\n 'INEX_LD-2009074': 'web ranking scoring algorithm',\n 'INEX_LD-2009115': 'virtual museums',\n 'INEX_LD-2010004': 'Indian food',\n 'INEX_LD-2010014': 'composer museum',\n 'INEX_LD-2010019': 'gallo roman architecture in paris',\n 'INEX_LD-2010020': 'electricity source in France',\n 'INEX_LD-2010037': 'social network API',\n 'INEX_LD-2010043': 'List of films from the surrealist category',\n 'INEX_LD-2010057': 'Einstein Relativity theory',\n 'INEX_LD-2010069': 'summer flowers',\n 'INEX_LD-2010100': 'house concrete wood',\n 'INEX_LD-2010106': 'organic food advantages disadvantages',\n 'INEX_LD-20120111': 'vietnam war movie',\n 'INEX_LD-20120121': 'vietnam food recipes',\n 'INEX_LD-20120122': 'vietnamese food blog',\n 'INEX_LD-20120131': 'vietnam travel national park',\n 'INEX_LD-20120211': 'guitar chord tuning',\n 'INEX_LD-20120221': 'guitar classical flamenco',\n 'INEX_LD-20120231': 'guitar origin Russia',\n 'INEX_LD-20120232': 'guitar origin blues',\n 'INEX_LD-20120311': 'tango culture movies',\n 'INEX_LD-20120312': 'tango culture countries',\n 'INEX_LD-20120321': 'tango music  composers',\n 'INEX_LD-20120331': 'tango dance styles',\n 'INEX_LD-20120332': 'tango dance history',\n 'INEX_LD-20120411': 'bicycle sport races',\n 'INEX_LD-20120412': 'bicycle sport disciplines',\n 'INEX_LD-20120421': 'bicycle holiday towns',\n 'INEX_LD-20120422': 'bicycle holiday nature',\n 'INEX_LD-20120431': 'bicycle benefits health',\n 'INEX_LD-20120511': 'female rock singers',\n 'INEX_LD-20120512': 'south korean girl groups',\n 'INEX_LD-20120521': 'electronic music genres',\n 'INEX_LD-20120522': 'digital music notation formats',\n 'INEX_LD-20120531': 'music conferences',\n 'INEX_LD-20120532': 'intellectual property rights lobby',\n 'INEX_LD-2012301': 'Niagara falls origin lake',\n 'INEX_LD-2012303': 'Valley fever fungal infection San Joaquin',\n 'INEX_LD-2012305': \"North Dakota's lowest river of another colour\",\n 'INEX_LD-2012309': 'residents small island city-state  Malay Peninsula Chinese',\n 'INEX_LD-2012311': 'John Lennon Yoko Ono album Starting Over',\n 'INEX_LD-2012313': 'John Turturro 1991 Coen Brothers film',\n 'INEX_LD-2012315': 'Baguio Quezon City  Manila official independence 1945',\n 'INEX_LD-2012317': 'daggeroso inclined to use a dagger novel Sons and Lovers',\n 'INEX_LD-2012318': 'Directed Bela Glen Glenda Bride Monster Plan 9 Outer Space',\n 'INEX_LD-2012319': '1994 short story collection Alice Munro is Open',\n 'INEX_LD-2012321': 'Asian port state-city Sir Stamford Raffles',\n 'INEX_LD-2012323': 'Large glaciers island nation Langjokull Hofsjokull Vatnajokull',\n 'INEX_LD-2012325': 'successor James G. Blaine studied law',\n 'INEX_LD-2012327': 'Beloved author African-American Nobel Prize Literature',\n 'INEX_LD-2012329': 'Sweden Iceland currency',\n 'INEX_LD-2012331': 'Seoul Korea river name ethnic group China',\n 'INEX_LD-2012333': 'Prime minister Canada nicknamed Silver-Tongued Laurier longest unbroken term',\n 'INEX_LD-2012335': 'U.S. president authorise nuclear weapons against Japan',\n 'INEX_LD-2012337': 'Texas city Baylor University tornado 1953',\n 'INEX_LD-2012339': 'Nelson Mandela John Dube',\n 'INEX_LD-2012341': '1997  Houston airport president',\n 'INEX_LD-2012345': 'Kennedy assassination governor of Texas seriously injured',\n 'INEX_LD-2012349': 'Alexander Nevsky Cathedral Bulgarian city liberation Turks',\n 'INEX_LD-2012353': 'country German language',\n 'INEX_LD-2012354': 'greatest guitarist',\n 'INEX_LD-2012355': 'England football player highest paid',\n 'INEX_LD-2012357': 'prima ballerina Bolshoi Theatre 1960',\n 'INEX_LD-2012359': 'Bob Ricker Executive Director the latest front group for the anti-gun movement',\n 'INEX_LD-2012361': 'most famous award winning actor singer',\n 'INEX_LD-2012365': \"mathematician computer scientist MIT's six inaugural MacVicar Faculty Fellows\",\n 'INEX_LD-2012367': 'invented telescope',\n 'INEX_LD-2012369': 'most famous civic-military airports',\n 'INEX_LD-2012371': 'most beautiful railway stations world cities located',\n 'INEX_LD-2012372': 'famous historical battlefields opponents fought',\n 'INEX_LD-2012373': 'birds cannot fly',\n 'INEX_LD-2012377': 'allegedly caused World War I',\n 'INEX_LD-2012381': 'movie directors directed a block buster',\n 'INEX_LD-2012383': 'famous computer scientists disappeared at sea',\n 'INEX_LD-2012385': 'famous politicians vegetarians',\n 'INEX_LD-2012387': 'famous river confluence dam constructed',\n 'INEX_LD-2012389': 'frequently visited sharks gulf Indian Ocean',\n 'INEX_LD-2012390': 'baseball player most homeruns national league',\n 'INEX_XER-106': \"Noble english person from the Hundred Years' War\",\n 'INEX_XER-108': 'State capitals of the United States of America',\n 'INEX_XER-109': 'National capitals situated on islands',\n 'INEX_XER-110': 'Nobel Prize in Literature winners who were also poets',\n 'INEX_XER-113': 'Formula 1 drivers that won the Monaco Grand Prix',\n 'INEX_XER-114': 'Formula one races in Europe',\n 'INEX_XER-115': \"Formula One World Constructors' Champions\",\n 'INEX_XER-116': 'Italian nobel prize winners',\n 'INEX_XER-117': 'Musicians who appeared in the Blues Brothers movies',\n 'INEX_XER-118': \"French car models in 1960's\",\n 'INEX_XER-119': 'Swiss cantons where they speak German',\n 'INEX_XER-121': 'US presidents since 1960',\n 'INEX_XER-122': 'Movies with eight or more Academy Awards',\n 'INEX_XER-123': 'FIFA world cup national team winners since 1974',\n 'INEX_XER-124': 'Novels that won the Booker Prize',\n 'INEX_XER-127': 'german female politicians',\n 'INEX_XER-128': 'Bond girls',\n 'INEX_XER-129': 'Science fiction book written in the 1980',\n 'INEX_XER-130': 'Star Trek Captains',\n 'INEX_XER-132': 'living nordic classical composers',\n 'INEX_XER-133': 'EU countries',\n 'INEX_XER-134': 'record-breaking sprinters in male 100-meter sprints',\n 'INEX_XER-135': 'professional baseball team in Japan',\n 'INEX_XER-136': 'Japanese players in Major League Baseball',\n 'INEX_XER-138': 'National Parks East Coast Canada US',\n 'INEX_XER-139': 'Films directed by Akira Kurosawa',\n 'INEX_XER-140': 'Airports in Germany',\n 'INEX_XER-141': 'Universities in Catalunya',\n 'INEX_XER-143': 'Hanseatic league in Germany in the Netherlands Circle',\n 'INEX_XER-144': 'chess world champions',\n 'INEX_XER-147': 'Chemical elements that are named after people',\n 'INEX_XER-60': 'olympic classes dinghy sailing',\n 'INEX_XER-62': 'Neil Gaiman novels',\n 'INEX_XER-63': 'Hugo awarded best novels',\n 'INEX_XER-64': 'Alan Moore graphic novels adapted to film',\n 'INEX_XER-65': 'Pacific navigators Australia explorers',\n 'INEX_XER-67': 'Ferris and observation wheels',\n 'INEX_XER-72': 'films shot in Venice',\n 'INEX_XER-74': 'circus mammals',\n 'INEX_XER-79': 'Works by Charles Rennie Mackintosh',\n 'INEX_XER-81': 'Movies about English hooligans',\n 'INEX_XER-86': 'List of countries in World War Two',\n 'INEX_XER-87': 'Axis powers of World War II',\n 'INEX_XER-88': \"Nordic authors who are known for children's literature\",\n 'INEX_XER-91': 'Paul Auster novels',\n 'INEX_XER-94': 'Hybrid cars sold in Europe',\n 'INEX_XER-95': 'Tom Hanks movies where he plays a leading role.',\n 'INEX_XER-96': 'Pure object-oriented programing languages',\n 'INEX_XER-98': 'Makers of lawn tennis rackets',\n 'INEX_XER-99': 'Computer systems that have a recursive acronym for the name',\n 'QALD2_te-1': 'Which German cities have more than 250000 inhabitants?',\n 'QALD2_te-100': 'Who produces Orangina?',\n 'QALD2_te-11': 'Who is the Formula 1 race driver with the most races?',\n 'QALD2_te-12': 'Give me all world heritage sites designated within the past five years.',\n 'QALD2_te-13': 'Who is the youngest player in the Premier League?',\n 'QALD2_te-14': 'Give me all members of Prodigy.',\n 'QALD2_te-17': 'Give me all cars that are produced in Germany.',\n 'QALD2_te-2': 'Who was the successor of John F. Kennedy?',\n 'QALD2_te-21': 'What is the capital of Canada?',\n 'QALD2_te-22': 'Who is the governor of Texas?',\n 'QALD2_te-24': 'Who was the father of Queen Elizabeth II?',\n 'QALD2_te-25': 'Which U.S. state has been admitted latest?',\n 'QALD2_te-27': 'Sean Parnell is the governor of which U.S. state?',\n 'QALD2_te-28': 'Give me all movies directed by Francis Ford Coppola.',\n 'QALD2_te-3': 'Who is the mayor of Berlin?',\n 'QALD2_te-31': 'Give me all current Methodist national leaders.',\n 'QALD2_te-33': 'Give me all Australian nonprofit organizations.',\n 'QALD2_te-35': 'Who developed Skype?',\n 'QALD2_te-39': 'Give me all companies in Munich.',\n 'QALD2_te-40': 'List all boardgames by GMT.',\n 'QALD2_te-42': 'Who is the husband of Amanda Palmer?',\n 'QALD2_te-43': 'Give me all breeds of the German Shepherd dog.',\n 'QALD2_te-44': 'Which cities does the Weser flow through?',\n 'QALD2_te-45': 'Which countries are connected by the Rhine?',\n 'QALD2_te-46': 'Which professional surfers were born on the Philippines?',\n 'QALD2_te-48': 'In which UK city are the headquarters of the MI6?',\n 'QALD2_te-49': 'Which other weapons did the designer of the Uzi develop?',\n 'QALD2_te-5': 'What is the second highest mountain on Earth?',\n 'QALD2_te-51': 'Give me all Frisian islands that belong to the Netherlands.',\n 'QALD2_te-53': 'What is the ruling party in Lisbon?',\n 'QALD2_te-55': 'Which Greek goddesses dwelt on Mount Olympus?',\n 'QALD2_te-57': 'Give me the Apollo 14 astronauts.',\n 'QALD2_te-58': 'What is the time zone of Salt Lake City?',\n 'QALD2_te-59': 'Which U.S. states are in the same timezone as Utah?',\n 'QALD2_te-6': 'Give me all professional skateboarders from Sweden.',\n 'QALD2_te-60': 'Give me a list of all lakes in Denmark.',\n 'QALD2_te-63': 'Give me all Argentine films.',\n 'QALD2_te-64': 'Give me all launch pads operated by NASA.',\n 'QALD2_te-65': 'Which instruments did John Lennon play?',\n 'QALD2_te-66': 'Which ships were called after Benjamin Franklin?',\n 'QALD2_te-67': 'Who are the parents of the wife of Juan Carlos I?',\n 'QALD2_te-72': 'In which U.S. state is Area 51 located?',\n 'QALD2_te-75': 'Which daughters of British earls died in the same place they were born in?',\n 'QALD2_te-76': 'List the children of Margaret Thatcher.',\n 'QALD2_te-77': 'Who was called Scarface?',\n 'QALD2_te-8': 'To which countries does the Himalayan mountain system extend?',\n 'QALD2_te-80': 'Give me all books by William Goldman with more than 300 pages.',\n 'QALD2_te-81': 'Which books by Kerouac were published by Viking Press?',\n 'QALD2_te-82': 'Give me a list of all American inventions.',\n 'QALD2_te-84': 'Who created the comic Captain America?',\n 'QALD2_te-88': 'Which films starring Clint Eastwood did he direct himself?',\n 'QALD2_te-89': 'In which city was the former Dutch queen Juliana buried?',\n 'QALD2_te-9': 'Give me a list of all trumpet players that were bandleaders.',\n 'QALD2_te-90': 'Where is the residence of the prime minister of Spain?',\n 'QALD2_te-91': 'Which U.S. State has the abbreviation MN?',\n 'QALD2_te-92': 'Show me all songs from Bruce Springsteen released between 1980 and 1990.',\n 'QALD2_te-93': 'Which movies did Sam Raimi direct after Army of Darkness?',\n 'QALD2_te-95': 'Who wrote the lyrics for the Polish national anthem?',\n 'QALD2_te-97': 'Who painted The Storm on the Sea of Galilee?',\n 'QALD2_te-98': 'Which country does the creator of Miffy come from?',\n 'QALD2_te-99': 'For which label did Elvis record his first album?',\n 'QALD2_tr-1': 'Give me all female Russian astronauts.',\n 'QALD2_tr-10': 'In which country does the Nile start?',\n 'QALD2_tr-11': 'Which countries have places with more than two caves?',\n 'QALD2_tr-13': 'Which classis does the Millepede belong to?',\n 'QALD2_tr-15': 'Who created Goofy?',\n 'QALD2_tr-16': 'Give me the capitals of all countries in Africa.',\n 'QALD2_tr-17': 'Give me all cities in New Jersey with more than 100000 inhabitants.',\n 'QALD2_tr-18': 'Which museum exhibits The Scream by Munch?',\n 'QALD2_tr-21': 'Which states border Illinois?',\n 'QALD2_tr-24': 'Which mountain is the highest after the Annapurna?',\n 'QALD2_tr-25': 'In which films directed by Garry Marshall was Julia Roberts starring?',\n 'QALD2_tr-26': 'Which bridges are of the same type as the Manhattan Bridge?',\n 'QALD2_tr-28': 'Which European countries have a constitutional monarchy?',\n 'QALD2_tr-29': 'Which awards did WikiLeaks win?',\n 'QALD2_tr-3': 'Who is the daughter of Bill Clinton married to?',\n 'QALD2_tr-30': 'Which state of the USA has the highest population density?',\n 'QALD2_tr-31': 'What is the currency of the Czech Republic?',\n 'QALD2_tr-32': 'Which countries in the European Union adopted the Euro?',\n 'QALD2_tr-34': 'Which countries have more than two official languages?',\n 'QALD2_tr-35': 'Who is the owner of Universal Studios?',\n 'QALD2_tr-36': 'Through which countries does the Yenisei river flow?',\n 'QALD2_tr-38': 'Which monarchs of the United Kingdom were married to a German?',\n 'QALD2_tr-4': 'Which river does the Brooklyn Bridge cross?',\n 'QALD2_tr-40': 'What is the highest mountain in Australia?',\n 'QALD2_tr-41': 'Give me all soccer clubs in Spain.',\n 'QALD2_tr-42': 'What are the official languages of the Philippines?',\n 'QALD2_tr-43': 'Who is the mayor of New York City?',\n 'QALD2_tr-45': 'Which telecommunications organizations are located in Belgium?',\n 'QALD2_tr-47': 'What is the highest place of Karakoram?',\n 'QALD2_tr-49': 'Give me all companies in the advertising industry.',\n 'QALD2_tr-50': 'What did Bruce Carver die from?',\n 'QALD2_tr-51': 'Give me all school types.',\n 'QALD2_tr-52': 'Which presidents were born in 1945?',\n 'QALD2_tr-53': 'Give me all presidents of the United States.',\n 'QALD2_tr-54': 'Who was the wife of U.S. president Lincoln?',\n 'QALD2_tr-55': 'Who developed the video game World of Warcraft?',\n 'QALD2_tr-57': 'List all episodes of the first season of the HBO television series The Sopranos!',\n 'QALD2_tr-58': 'Who produced the most films?',\n 'QALD2_tr-59': 'Give me all people with first name Jimmy.',\n 'QALD2_tr-6': 'Where did Abraham Lincoln die?',\n 'QALD2_tr-61': 'Which mountains are higher than the Nanga Parbat?',\n 'QALD2_tr-62': 'Who created Wikipedia?',\n 'QALD2_tr-64': 'Which software has been developed by organizations founded in California?',\n 'QALD2_tr-65': 'Which companies work in the aerospace industry as well as on nuclear reactor technology?',\n 'QALD2_tr-68': 'Which actors were born in Germany?',\n 'QALD2_tr-69': 'Which caves have more than 3 entrances?',\n 'QALD2_tr-70': 'Give me all films produced by Hal Roach.',\n 'QALD2_tr-71': 'Give me all video games published by Mean Hamster Software.',\n 'QALD2_tr-74': 'Which capitals in Europe were host cities of the summer olympic games?',\n 'QALD2_tr-75': 'Who has been the 5th president of the United States of America?',\n 'QALD2_tr-77': 'Which music albums contain the song Last Christmas?',\n 'QALD2_tr-78': 'Give me all books written by Danielle Steel.',\n 'QALD2_tr-79': 'Which airports are located in California, USA?',\n 'QALD2_tr-8': 'Which states of Germany are governed by the Social Democratic Party?',\n 'QALD2_tr-80': 'Give me all Canadian Grunge record labels.',\n 'QALD2_tr-81': 'Which country has the most official languages?',\n 'QALD2_tr-82': 'In which programming language is GIMP written?',\n 'QALD2_tr-83': 'Who produced films starring Natalie Portman?',\n 'QALD2_tr-84': 'Give me all movies with Tom Cruise.',\n 'QALD2_tr-85': 'In which films did Julia Roberts as well as Richard Gere play?',\n 'QALD2_tr-87': 'Who wrote the book The pillars of the Earth?',\n 'QALD2_tr-89': 'Give me all soccer clubs in the Premier League.',\n 'QALD2_tr-9': 'Which U.S. states possess gold minerals?',\n 'QALD2_tr-91': 'Which organizations were founded in 1950?',\n 'SemSearch_ES-1': '44 magnum hunting',\n 'SemSearch_ES-10': 'asheville north carolina',\n 'SemSearch_ES-100': 'YMCA Tampa',\n 'SemSearch_ES-101': 'ashley wagner',\n 'SemSearch_ES-102': 'beach flowers',\n 'SemSearch_ES-104': 'bourbonnais il',\n 'SemSearch_ES-106': 'chase masterson',\n 'SemSearch_ES-107': 'concord steel',\n 'SemSearch_ES-108': 'danielia cotton',\n 'SemSearch_ES-11': 'austin powers',\n 'SemSearch_ES-111': 'eagle rock, ca',\n 'SemSearch_ES-114': 'glenn frey',\n 'SemSearch_ES-115': 'goodwill of michigan',\n 'SemSearch_ES-118': 'iowa energy',\n 'SemSearch_ES-119': 'john elliott',\n 'SemSearch_ES-120': 'lawrence general hospital',\n 'SemSearch_ES-123': 'michael zimmerman',\n 'SemSearch_ES-124': 'motorola bluetooth hs850',\n 'SemSearch_ES-125': 'nokia e73',\n 'SemSearch_ES-127': 'palm tungsten e2 handheld',\n 'SemSearch_ES-128': 'philadelphia neufchatel cheese',\n 'SemSearch_ES-129': 'pizza populous detroit mi',\n 'SemSearch_ES-13': 'banana paper making',\n 'SemSearch_ES-130': 'plymouth police department',\n 'SemSearch_ES-132': 'sealy mattress co',\n 'SemSearch_ES-135': 'spring shoes canada',\n 'SemSearch_ES-136': 'sri lanka government gazette',\n 'SemSearch_ES-139': 'the big texan steak house',\n 'SemSearch_ES-14': 'ben franklin',\n 'SemSearch_ES-15': 'bradley center',\n 'SemSearch_ES-16': 'brooklyn bridge',\n 'SemSearch_ES-17': 'butte montana',\n 'SemSearch_ES-18': 'canasta cards',\n 'SemSearch_ES-19': 'carl lewis',\n 'SemSearch_ES-2': 'B. F. Skinner',\n 'SemSearch_ES-20': 'carolina',\n 'SemSearch_ES-21': 'charles darwin',\n 'SemSearch_ES-23': 'city of virginia beach',\n 'SemSearch_ES-24': 'coastal carolina',\n 'SemSearch_ES-25': 'david suchet',\n 'SemSearch_ES-26': 'disney orlando',\n 'SemSearch_ES-29': 'ellis college',\n 'SemSearch_ES-3': 'Bookwork',\n 'SemSearch_ES-30': 'eloan line of credit',\n 'SemSearch_ES-32': 'fitzgerald auto mall chambersburg pa',\n 'SemSearch_ES-33': 'harry potter',\n 'SemSearch_ES-36': 'imdb batman returns',\n 'SemSearch_ES-38': 'jack the ripper',\n 'SemSearch_ES-39': 'james caldwell high school',\n 'SemSearch_ES-4': 'NAACP Image Awards',\n 'SemSearch_ES-41': 'joan of arc',\n 'SemSearch_ES-45': 'keith urban',\n 'SemSearch_ES-47': 'king arthur',\n 'SemSearch_ES-49': 'laura bush',\n 'SemSearch_ES-5': 'Scott County',\n 'SemSearch_ES-50': 'laura steele bob and tom',\n 'SemSearch_ES-52': 'lincoln park',\n 'SemSearch_ES-56': 'mario bros',\n 'SemSearch_ES-58': 'mason ohio',\n 'SemSearch_ES-59': 'mercy hospital in des moines, ia',\n 'SemSearch_ES-6': 'air wisconsin',\n 'SemSearch_ES-60': 'michael douglas',\n 'SemSearch_ES-61': 'mr rourke fantasy island',\n 'SemSearch_ES-7': 'airsoft glock',\n 'SemSearch_ES-71': 'richmond virginia',\n 'SemSearch_ES-72': 'rock 103 memphis',\n 'SemSearch_ES-74': 'sacred heart u',\n 'SemSearch_ES-75': 'sagemont church houston tx',\n 'SemSearch_ES-76': 'san antonio',\n 'SemSearch_ES-77': 'savannah tech',\n 'SemSearch_ES-78': 'sharp pc',\n 'SemSearch_ES-80': 'sonny and cher',\n 'SemSearch_ES-82': 'st lucia',\n 'SemSearch_ES-83': 'st paul saints',\n 'SemSearch_ES-84': 'the dish danielle fishel',\n 'SemSearch_ES-85': 'the longest yard sale',\n 'SemSearch_ES-86': 'the morning call lehigh valley pa',\n 'SemSearch_ES-88': 'thomas jefferson',\n 'SemSearch_ES-89': 'university of north dakota',\n 'SemSearch_ES-9': 'american embassy nairobi',\n 'SemSearch_ES-90': 'university of phoenix',\n 'SemSearch_ES-91': 'westminster abbey',\n 'SemSearch_ES-95': 'MADRID',\n 'SemSearch_ES-96': 'New England Coffee',\n 'SemSearch_ES-97': 'PINK PANTHER 2',\n 'SemSearch_ES-98': 'University of Texas at Austin',\n 'SemSearch_LS-1': 'Apollo astronauts who walked on the Moon',\n 'SemSearch_LS-10': 'did nicole kidman have any siblings',\n 'SemSearch_LS-11': 'dioceses of the church of ireland',\n 'SemSearch_LS-12': 'first targets of the atomic bomb',\n 'SemSearch_LS-13': 'five great epics of Tamil literature',\n 'SemSearch_LS-14': 'gods who dwelt on Mount Olympus',\n 'SemSearch_LS-16': 'hijackers in the September 11 attacks',\n 'SemSearch_LS-18': 'john lennon, parents',\n 'SemSearch_LS-2': 'Arab states of the Persian Gulf',\n 'SemSearch_LS-20': 'kublai khan siblings',\n 'SemSearch_LS-21': 'lilly allen parents',\n 'SemSearch_LS-22': 'major leagues in the united states',\n 'SemSearch_LS-24': 'matt berry tv series',\n 'SemSearch_LS-25': 'members of u2?',\n 'SemSearch_LS-26': 'movies starring erykah badu',\n 'SemSearch_LS-29': 'nations where Portuguese is an official language',\n 'SemSearch_LS-3': 'astronauts who landed on the Moon',\n 'SemSearch_LS-30': \"orders (or 'choirs') of angels\",\n 'SemSearch_LS-31': 'permanent members of the UN Security Council',\n 'SemSearch_LS-32': 'presidents depicted on mount rushmore who died of shooting',\n 'SemSearch_LS-33': 'provinces and territories of Canada',\n 'SemSearch_LS-34': 'ratt albums',\n 'SemSearch_LS-35': 'republics of the former Yugoslavia',\n 'SemSearch_LS-36': 'revolutionaries of 1959 in Cuba',\n 'SemSearch_LS-37': 'standard axioms of set theory',\n 'SemSearch_LS-38': 'states that border oklahoma',\n 'SemSearch_LS-39': 'ten ancient Greek city-kingdoms of Cyprus',\n 'SemSearch_LS-4': 'Axis powers of World War II',\n 'SemSearch_LS-41': 'the four of the companions of the prophet',\n 'SemSearch_LS-42': 'twelve tribes or sons of Israel',\n 'SemSearch_LS-43': 'what books did paul of tarsus write?',\n 'SemSearch_LS-44': 'what languages do they speak in afghanistan',\n 'SemSearch_LS-46': 'where the British monarch is also head of state',\n 'SemSearch_LS-49': 'who invented the python programming language',\n 'SemSearch_LS-50': 'wonders of the ancient world',\n 'SemSearch_LS-6': 'boroughs of New York City',\n 'SemSearch_LS-7': 'Branches of the US military',\n 'SemSearch_LS-8': 'continents in the world',\n 'SemSearch_LS-9': 'degrees of Eastern Orthodox monasticism',\n 'TREC_Entity-1': 'Carriers that Blackberry makes phones for.',\n 'TREC_Entity-10': 'Campuses of Indiana University.',\n 'TREC_Entity-11': 'Donors to the Home Depot Foundation.',\n 'TREC_Entity-12': 'Airlines that Air Canada has code share flights with.',\n 'TREC_Entity-14': 'Authors awarded an Anthony Award at Bouchercon in 2007.',\n 'TREC_Entity-15': 'Universities that are members of the SEC conference for football.',\n 'TREC_Entity-16': 'Sponsors of the Mancuso quilt festivals.',\n 'TREC_Entity-18': 'Members of the band Jefferson Airplane.',\n 'TREC_Entity-19': 'Companies that John Hennessey serves on the board of.',\n 'TREC_Entity-2': 'Winners of the ACM Athena award.',\n 'TREC_Entity-20': 'Scotch whisky distilleries on the island of Islay.',\n 'TREC_Entity-4': 'Professional sports teams in Philadelphia.',\n 'TREC_Entity-5': 'Products of Medimmune, Inc.',\n 'TREC_Entity-6': 'Organizations that award Nobel prizes.',\n 'TREC_Entity-7': 'Airlines that currently use Boeing 747 planes.',\n 'TREC_Entity-9': 'Members of The Beaux Arts Trio.'}"
     },
     "execution_count": 6,
     "metadata": {},
     "output_type": "execute_result"
    }
   ],
   "source": [
    "queries"
   ],
   "metadata": {
    "collapsed": false
   }
  },
  {
   "cell_type": "code",
   "execution_count": 7,
   "outputs": [
    {
     "data": {
      "text/plain": "{'text': 'ASCII (/ˈæski/ ASS-kee), abbreviated from American Standard Code for Information Interchange, is a character-encoding scheme (the IANA prefers the name US-ASCII).  ASCII codes represent text in computers, communications equipment, and other devices that use text. Most modern character-encoding schemes are based on ASCII, though they support many additional characters.',\n 'title': 'ASCII'}"
     },
     "execution_count": 7,
     "metadata": {},
     "output_type": "execute_result"
    }
   ],
   "source": [
    "corpus[\"<dbpedia:ASCII>\"]"
   ],
   "metadata": {
    "collapsed": false
   }
  },
  {
   "cell_type": "code",
   "execution_count": null,
   "outputs": [],
   "source": [],
   "metadata": {
    "collapsed": false
   }
  }
 ],
 "metadata": {
  "kernelspec": {
   "display_name": "Python 3",
   "language": "python",
   "name": "python3"
  },
  "language_info": {
   "codemirror_mode": {
    "name": "ipython",
    "version": 2
   },
   "file_extension": ".py",
   "mimetype": "text/x-python",
   "name": "python",
   "nbconvert_exporter": "python",
   "pygments_lexer": "ipython2",
   "version": "2.7.6"
  }
 },
 "nbformat": 4,
 "nbformat_minor": 0
}
