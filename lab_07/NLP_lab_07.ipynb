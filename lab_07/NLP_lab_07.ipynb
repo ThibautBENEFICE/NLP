{
 "cells": [
  {
   "cell_type": "code",
   "execution_count": 1,
   "metadata": {
    "collapsed": true
   },
   "outputs": [
    {
     "name": "stderr",
     "output_type": "stream",
     "text": [
      "/home/victor/Documents/travail_epita/venv_epita/lib/python3.10/site-packages/beir/util.py:2: TqdmExperimentalWarning: Using `tqdm.autonotebook.tqdm` in notebook mode. Use `tqdm.tqdm` instead to force console mode (e.g. in jupyter console)\n",
      "  from tqdm.autonotebook import tqdm\n"
     ]
    }
   ],
   "source": [
    "from beir import util\n",
    "from beir.datasets.data_loader import GenericDataLoader\n"
   ]
  },
  {
   "cell_type": "code",
   "execution_count": null,
   "outputs": [],
   "source": [
    "from load_dataset import create_smaller_corpus, download_dataset\n",
    "\n",
    "is_clean_corpus = False\n",
    "number_trash = 100000\n",
    "corpus, queries, qrels = download_dataset(\"./data\")\n",
    "if is_clean_corpus:\n",
    "\tcorpus = create_smaller_corpus(corpus, queries, qrels, \"./data\", number_trash)\n"
   ],
   "metadata": {
    "collapsed": false
   }
  },
  {
   "cell_type": "code",
   "execution_count": 5,
   "outputs": [
    {
     "name": "stdout",
     "output_type": "stream",
     "text": [
      "size of corpus is 140724\n",
      "size of queries is 400\n",
      "size of qrels is 400\n"
     ]
    }
   ],
   "source": [
    "print(\"size of corpus is\", len(corpus))\n",
    "print(\"size of queries is\", len(queries))\n",
    "print(\"size of qrels is\", len(qrels))"
   ],
   "metadata": {
    "collapsed": false
   }
  },
  {
   "cell_type": "markdown",
   "source": [
    "We have 3 values.\n",
    "-Corpus is a dictionary representing the description of each DBPedia page, representing an event, a person, a culture of anything else. Each element element contains the title of a page and the text associated.\n",
    "-Queries represent a series of request by a user. It could be a question, a name, or a sentence describing what he looking for.\n",
    "-Qrels represent the possible answers that match with queries. Each values is marked between 0 and 2. The best they have the best the response is."
   ],
   "metadata": {
    "collapsed": false
   }
  },
  {
   "cell_type": "code",
   "execution_count": 13,
   "outputs": [],
   "source": [],
   "metadata": {
    "collapsed": false
   }
  }
 ],
 "metadata": {
  "kernelspec": {
   "display_name": "Python 3",
   "language": "python",
   "name": "python3"
  },
  "language_info": {
   "codemirror_mode": {
    "name": "ipython",
    "version": 2
   },
   "file_extension": ".py",
   "mimetype": "text/x-python",
   "name": "python",
   "nbconvert_exporter": "python",
   "pygments_lexer": "ipython2",
   "version": "2.7.6"
  }
 },
 "nbformat": 4,
 "nbformat_minor": 0
}
