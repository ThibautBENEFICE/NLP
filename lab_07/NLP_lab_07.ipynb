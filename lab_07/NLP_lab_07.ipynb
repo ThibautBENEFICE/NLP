{
  "cells": [
    {
      "cell_type": "code",
      "source": [
        "!pip install beir\n",
        "!pip install tensorflow-text\n",
        "!pip install hnswlib"
      ],
      "metadata": {
        "id": "NULVbALFEYWv"
      },
      "execution_count": null,
      "outputs": []
    },
    {
      "cell_type": "code",
      "execution_count": null,
      "outputs": [
        {
          "output_type": "stream",
          "name": "stderr",
          "text": [
            "/usr/local/lib/python3.7/dist-packages/beir/util.py:2: TqdmExperimentalWarning: Using `tqdm.autonotebook.tqdm` in notebook mode. Use `tqdm.tqdm` instead to force console mode (e.g. in jupyter console)\n",
            "  from tqdm.autonotebook import tqdm\n"
          ]
        }
      ],
      "source": [
        "import numpy as np\n",
        "import tqdm\n",
        "from beir import util\n",
        "import itertools\n",
        "import random\n",
        "import json\n",
        "import os\n",
        "from beir.retrieval import models\n",
        "from beir.datasets.data_loader import GenericDataLoader\n",
        "from beir.retrieval.evaluation import EvaluateRetrieval\n",
        "from beir.retrieval.search.dense import DenseRetrievalExactSearch as DRES\n",
        "import hnswlib"
      ],
      "metadata": {
        "id": "vTRhiOhAEJf9",
        "colab": {
          "base_uri": "https://localhost:8080/"
        },
        "outputId": "1c191c8d-f5ae-4f79-d2b3-7d3252fe53ac"
      }
    },
    {
      "cell_type": "code",
      "execution_count": null,
      "outputs": [
        {
          "output_type": "display_data",
          "data": {
            "text/plain": [
              "  0%|          | 0/140724 [00:00<?, ?it/s]"
            ],
            "application/vnd.jupyter.widget-view+json": {
              "version_major": 2,
              "version_minor": 0,
              "model_id": "1760bca014e945fd85cce540a0a8a0b5"
            }
          },
          "metadata": {}
        },
        {
          "output_type": "stream",
          "name": "stderr",
          "text": [
            "100%|██████████| 140724/140724 [00:00<00:00, 1136990.85it/s]\n"
          ]
        },
        {
          "output_type": "stream",
          "name": "stdout",
          "text": [
            "Saving corpus\n"
          ]
        },
        {
          "output_type": "stream",
          "name": "stderr",
          "text": [
            "100%|██████████| 140724/140724 [00:01<00:00, 72570.98it/s]\n"
          ]
        }
      ],
      "source": [
        "\n",
        "def download_dataset(folder_path: str):\n",
        "\turl = \"https://public.ukp.informatik.tu-darmstadt.de/thakur/BEIR/datasets/dbpedia-entity.zip\"\n",
        "\tdata_path = util.download_and_unzip(url, folder_path)\n",
        "\tcorpus, queries, qrels = GenericDataLoader(data_folder=data_path).load(split=\"test\")\n",
        "\treturn corpus, queries, qrels\n",
        "\n",
        "\n",
        "def create_smaller_corpus(corpus: dict, qrels: dict, folder_path: str, number_thrash: int):\n",
        "\tusefull_documents_title = list(\n",
        "\t\tdict.fromkeys(itertools.chain.from_iterable(map(lambda x: list(x.keys()), qrels.values()))))\n",
        "\tuseless_documents_title = list(set(corpus.keys()) - set(usefull_documents_title))\n",
        "\tfinal_corpus_titles = random.sample(useless_documents_title, number_thrash) + usefull_documents_title\n",
        "\tfinal_corpus_titles = list(filter(lambda x: x in corpus.keys(), final_corpus_titles))\n",
        "\tsimple_corpus = {k: corpus[k] for k in final_corpus_titles}\n",
        "\tlist_json = []\n",
        "\tfor el in tqdm.tqdm(simple_corpus):\n",
        "\t\tel_to_insert = simple_corpus[el]\n",
        "\t\tel_to_insert[\"_id\"] = el\n",
        "\t\tlist_json.append(el_to_insert)\n",
        "\tprint(\"Saving corpus\")\n",
        "\twith open(os.path.join(folder_path, \"dbpedia-entity\", \"corpus.jsonl\"), \"w\") as file:\n",
        "\t\tfor item in tqdm.tqdm(list_json):\n",
        "\t\t\tjson.dump(item,file)\n",
        "\t\t\tfile.write(\"\\n\")\n",
        "\treturn simple_corpus\n",
        "\n",
        "\n",
        "is_clean_corpus = True\n",
        "number_trash = 100000\n",
        "corpus, queries, qrels = download_dataset(\"./data\")\n",
        "if is_clean_corpus:\n",
        "\tcorpus = create_smaller_corpus(corpus, qrels, \"./data\", number_trash)\n"
      ],
      "metadata": {
        "colab": {
          "base_uri": "https://localhost:8080/",
          "height": 103,
          "referenced_widgets": [
            "1760bca014e945fd85cce540a0a8a0b5",
            "126a513c10624aaf9c5cb4f348f4da1c",
            "4d3981a8c0db4e5b8bbbbe0cfdc7c815",
            "f7e313c0319c4e2cbaaacf4c65e59bdd",
            "d8d675edbd4b49639f85882b20a6d0c7",
            "ac4d611e17c3466fa6d5ff4c97441bba",
            "e934416218d04d3fb6af10cc372a5556",
            "40ce03bf4bf645088605c293e6fee722",
            "f0fb05ff25a842179ddc0b1abd22db83",
            "42d5239389be4f12ae2ad19e69d1f7ae",
            "8df09653ef8c49f28c2aa02e22a87f1d"
          ]
        },
        "id": "7vjZcwCFEJgA",
        "outputId": "6f724f1c-dc93-4ed2-8e5f-0da3612bf8c7"
      }
    },
    {
      "cell_type": "code",
      "execution_count": null,
      "outputs": [
        {
          "output_type": "stream",
          "name": "stdout",
          "text": [
            "size of corpus is 140724\n",
            "size of queries is 400\n",
            "size of qrels is 400\n"
          ]
        }
      ],
      "source": [
        "print(\"size of corpus is\", len(corpus))\n",
        "\n",
        "print(\"size of queries is\", len(queries))\n",
        "print(\"size of qrels is\", len(qrels))"
      ],
      "metadata": {
        "colab": {
          "base_uri": "https://localhost:8080/"
        },
        "id": "jo2t6E28EJgC",
        "outputId": "5d10097d-60a9-432c-d086-ce1a4401b576"
      }
    },
    {
      "cell_type": "markdown",
      "source": [
        "We have 3 values.\n",
        "\n",
        "**-Corpus** is a dictionary representing the description of each DBPedia page, representing an event, a person, a culture of anything else. Each element element contains the title of a page and the text associated.\n",
        "\n",
        "**-Queries** represent a series of request by a user. It could be a question, a name, or a sentence describing what he looking for.\n",
        "\n",
        "**-Qrels** represent the possible answers that match with queries. Each values is marked between 0 and 2. The best they have the best the response is."
      ],
      "metadata": {
        "collapsed": false,
        "id": "WZiu0js8EJgF"
      }
    },
    {
      "cell_type": "code",
      "execution_count": null,
      "outputs": [
        {
          "output_type": "stream",
          "name": "stderr",
          "text": [
            "100%|██████████| 140724/140724 [00:00<00:00, 1096336.81it/s]\n"
          ]
        },
        {
          "output_type": "execute_result",
          "data": {
            "text/plain": [
              "['<dbpedia:Kreischa>',\n",
              " '<dbpedia:Distinguished_Service_Cross_(United_States)>',\n",
              " '<dbpedia:Ap_Lei_Chau_Bridge>',\n",
              " '<dbpedia:Avalon_(Stargate_SG-1)>',\n",
              " '<dbpedia:Yoshirō_Fujimura>',\n",
              " '<dbpedia:Sun_Tiantian>',\n",
              " '<dbpedia:Crenshaw_Christian_Center>',\n",
              " '<dbpedia:96th_Air_Division>',\n",
              " '<dbpedia:Ferdinánd_Pálffy>',\n",
              " '<dbpedia:Civil_Rights_Act_of_1991>']"
            ]
          },
          "metadata": {},
          "execution_count": 5
        }
      ],
      "source": [
        "list_id = [corpus[el][\"_id\"] for el in tqdm.tqdm(corpus)]\n",
        "list_id[:10]\n"
      ],
      "metadata": {
        "id": "FxYFMpCgEJgG",
        "colab": {
          "base_uri": "https://localhost:8080/"
        },
        "outputId": "cc1cea16-eea7-4e85-917a-7c1cd08232b6"
      }
    },
    {
      "cell_type": "code",
      "execution_count": null,
      "outputs": [
        {
          "output_type": "stream",
          "name": "stderr",
          "text": [
            "100%|██████████| 140724/140724 [00:00<00:00, 1044837.65it/s]\n"
          ]
        },
        {
          "output_type": "execute_result",
          "data": {
            "text/plain": [
              "['Kreischa is a municipality in the Sächsische Schweiz-Osterzgebirge district, Saxony, Germany. It directly borders the Saxon capital Dresden and consists of 14 districts.Kreischa was first mentioned in 1282 in the name Heinricus de Kryschowe. The name could be derived from an Old Slavic word meaning \"crooked\" or \"lame\".',\n",
              " 'The Distinguished Service Cross is the second highest military award that can be given to a member of the United States Army (and previously, the United States Army Air Forces), for extreme gallantry and risk of life in actual combat with an armed enemy force.  Actions that merit the Distinguished Service Cross must be of such a high degree that they are above those required for all other U.S. combat decorations but do not meet the criteria for the Medal of Honor.',\n",
              " 'Ap Lei Chau Bridge (traditional Chinese: 鴨脷洲大橋; simplified Chinese: 鸭脷洲大桥; pinyin: Yālìzhōu Dàqiáo; Cantonese Yale: ngaap3 lei6 jau1 daai6 kiu4) is a highway bridge in Hong Kong connecting the island of Ap Lei Chau (Aberdeen Island) to the community of Aberdeen on Hong Kong Island. The original bridge carried one lane of traffic in each direction. Construction of a twin bridge to its north was started in May 1991 and completed in July 1994, so that there are now two lanes in each direction.',\n",
              " '\"Avalon\" (Parts 1 and 2) are the Season 9 premiere episodes  of the science fiction television series Stargate SG-1.They marked the beginning of a \"new\" Stargate SG-1 that continued after the total closure and possible ending of the previous season. Despite seeing the departure of Richard Dean Anderson\\'s Jack O\\'Neill, it sees the introduction of Ben Browder as Lt. Colonel Cameron Mitchell, Beau Bridges as Major General Hank Landry, and Lexa Doig as Dr. Carolyn Lam.']"
            ]
          },
          "metadata": {},
          "execution_count": 6
        }
      ],
      "source": [
        "list_corpus = [corpus[el][\"text\"] for el in tqdm.tqdm(corpus)]\n",
        "list_corpus[:4]"
      ],
      "metadata": {
        "colab": {
          "base_uri": "https://localhost:8080/"
        },
        "id": "bCUqOWMvEJgH",
        "outputId": "c920c2f7-2488-4ac4-df7e-0e53f49e4f39"
      }
    },
    {
      "cell_type": "markdown",
      "source": [
        "We will use the msmarco-distilbert-base-v4, because it seen it is the model with the best score on the TREC-DL-2019."
      ],
      "metadata": {
        "collapsed": false,
        "id": "8f6mN15jEJgI"
      }
    },
    {
      "cell_type": "code",
      "execution_count": null,
      "outputs": [],
      "source": [
        "from sentence_transformers import SentenceTransformer\n",
        "from requests.auth import HTTPBasicAuth\n",
        "\n",
        "model_transformers = SentenceTransformer(\"msmarco-distilbert-base-v4\")"
      ],
      "metadata": {
        "id": "BrWsFcbGEJgJ"
      }
    },
    {
      "cell_type": "code",
      "execution_count": null,
      "outputs": [
        {
          "output_type": "execute_result",
          "data": {
            "text/plain": [
              "['Szechwan dish food cuisine',\n",
              " 'roman architecture',\n",
              " 'finland car industry manufacturer saab sisu',\n",
              " 'france second world war normandy',\n",
              " 'social network group selection',\n",
              " 'D-Day normandy invasion',\n",
              " 'web ranking scoring algorithm',\n",
              " 'virtual museums',\n",
              " 'Indian food',\n",
              " 'composer museum']"
            ]
          },
          "metadata": {},
          "execution_count": 8
        }
      ],
      "source": [
        "list_queries = [queries[el] for el in queries.keys()]\n",
        "list_queries[:10]"
      ],
      "metadata": {
        "id": "sSzpdFqgEJgL",
        "colab": {
          "base_uri": "https://localhost:8080/"
        },
        "outputId": "748b76ba-8981-40e7-9cc8-d4cc14bc4b3f"
      }
    },
    {
      "cell_type": "code",
      "execution_count": null,
      "outputs": [],
      "source": [
        "embedded_corpus = model_transformers.encode(list_corpus)"
      ],
      "metadata": {
        "id": "KncmbEfREJgM"
      }
    },
    {
      "cell_type": "code",
      "source": [
        "import torch\n",
        "list_ap_cos_sim = []\n",
        "for q in tqdm.tqdm(list_queries):\n",
        "  k=100\n",
        "  embedded_queries = model_transformers.encode(q)\n",
        "  cos_scores = util.cos_sim(embedded_queries, embedded_corpus)[0]\n",
        "  top_results = torch.topk(cos_scores, k=k)\n",
        "  id_results = []\n",
        "  for score, idx in zip(top_results[0], top_results[1]):\n",
        "    id_results.append(list_id[idx])\n",
        "  id_querie = [i for i in queries if queries[i] == q][0]\n",
        "  number_okay = 0\n",
        "  for qrel in qrels[id_querie]:\n",
        "    if qrel in id_results:\n",
        "      number_okay+=1\n",
        "  n = min(k,len(qrels[id_querie]))\n",
        "  ap = number_okay/n\n",
        "  list_ap_cos_sim.append(ap)\n",
        "\n"
      ],
      "metadata": {
        "id": "Q3BEiM_Rwh3B",
        "colab": {
          "base_uri": "https://localhost:8080/"
        },
        "outputId": "251cf9c1-240e-4231-fbbd-e7995cd070f7"
      },
      "execution_count": null,
      "outputs": [
        {
          "output_type": "stream",
          "name": "stderr",
          "text": [
            "100%|██████████| 400/400 [01:54<00:00,  3.49it/s]\n"
          ]
        }
      ]
    },
    {
      "cell_type": "markdown",
      "source": [
        "Nous calculons le MAP de la façon suivante. \n",
        "\n",
        "**1-** Nous calculons les 100 meilleurs prédictions du modèle pour un querie nommé q.\n",
        "\n",
        "**2-** Nous comptons le nombre d'occurrence présente dans la prédition qui sont également présentes dans qrels. (C'est à dire combien sont des vrai positif).\n",
        "\n",
        "**3-** Nous faisons la division du nombre de vrai positif par rapport au nombre attendu, pour avoir un score compris entre 0 et 1. 0 veut dire que le modèle à prédis que des articles n'ayant rien à voire avec la querie, 1 veut dire que le modèle à prédit toutes les articles intérréssantes. \n",
        "\n",
        "Une fois les prédictions faites pour chaques queries, nous calculons la moyennes.\n",
        "\n"
      ],
      "metadata": {
        "id": "p5efUC1gYLAr"
      }
    },
    {
      "cell_type": "code",
      "source": [
        "sum(list_ap_cos_sim)/len(list_ap_cos_sim)"
      ],
      "metadata": {
        "id": "V17KB46B9dl7",
        "colab": {
          "base_uri": "https://localhost:8080/"
        },
        "outputId": "9367ec77-f41d-4248-edd2-fb6fd4d921ec"
      },
      "execution_count": null,
      "outputs": [
        {
          "output_type": "execute_result",
          "data": {
            "text/plain": [
              "0.416559928295235"
            ]
          },
          "metadata": {},
          "execution_count": 11
        }
      ]
    },
    {
      "cell_type": "code",
      "source": [
        "index = hnswlib.Index(space='cosine',dim=768)\n",
        "index_path = \"./hnswlib_index\"\n",
        "if os.path.exists(index_path):\n",
        "    print(\"Loading index...\")\n",
        "    index.load_index(index_path)\n",
        "else:\n",
        "    ### Create the HNSWLIB index\n",
        "    print(\"Start creating HNSWLIB index\")\n",
        "    index.init_index(max_elements = len(embedded_corpus), ef_construction = 100, M = 48)\n",
        "\n",
        "\n",
        "    index.add_items(embedded_corpus, list(range(len(embedded_corpus))))\n",
        "\n",
        "    print(\"Saving index to:\", index_path)\n",
        "    index.save_index(index_path)"
      ],
      "metadata": {
        "id": "qtjGaURJQgLS",
        "colab": {
          "base_uri": "https://localhost:8080/"
        },
        "outputId": "af2a7481-4861-41f2-9559-6abe75d89e5a"
      },
      "execution_count": null,
      "outputs": [
        {
          "output_type": "stream",
          "name": "stdout",
          "text": [
            "Start creating HNSWLIB index\n",
            "Saving index to: ./hnswlib_index\n"
          ]
        }
      ]
    },
    {
      "cell_type": "markdown",
      "source": [
        "En prenant le modele hnswlib (car c'est celui que le redacteur de l'article nous conseille.) Nousa vons plusieurs paramètre sur lequelle  varier. \n",
        "ef_construction est un paramètre qui influe sur la qualité de la prédiction, mais également sur le temps. Plus l'indicateur augmente, plus la qualité et le temps augmentent. (Jusqu'à un certain point)."
      ],
      "metadata": {
        "id": "HkCoNo5hMdJB"
      }
    },
    {
      "cell_type": "code",
      "source": [
        "import torch\n",
        "list_ap = []\n",
        "for q in tqdm.tqdm(list_queries):\n",
        "  k=100\n",
        "  embedded_querie = model_transformers.encode(q)\n",
        "  knn_scores = index.knn_query(embedded_querie, k=k)\n",
        "  id_results = []\n",
        "  for idx in knn_scores[0][0]:\n",
        "    id_results.append(list_id[idx])\n",
        "  id_querie = [i for i in queries if queries[i] == q][0]\n",
        "  number_okay = 0\n",
        "  for qrel in qrels[id_querie]:\n",
        "    if qrel in id_results:\n",
        "      number_okay+=1\n",
        "  n = min(len(qrels[id_querie]),k)\n",
        "  ap = number_okay/n\n",
        "  list_ap.append(ap)"
      ],
      "metadata": {
        "id": "8lpEwFEhgIkj",
        "colab": {
          "base_uri": "https://localhost:8080/"
        },
        "outputId": "5fa96c3b-3b40-4004-d75a-acd75f921cbd"
      },
      "execution_count": null,
      "outputs": [
        {
          "output_type": "stream",
          "name": "stderr",
          "text": [
            "100%|██████████| 400/400 [00:03<00:00, 105.99it/s]\n"
          ]
        }
      ]
    },
    {
      "cell_type": "code",
      "source": [
        "sum(list_ap)/len(list_ap)"
      ],
      "metadata": {
        "colab": {
          "base_uri": "https://localhost:8080/"
        },
        "id": "Tz0rIjTK4KVG",
        "outputId": "9b8daae0-86cb-4f06-9914-63e86b34ebba"
      },
      "execution_count": null,
      "outputs": [
        {
          "output_type": "execute_result",
          "data": {
            "text/plain": [
              "0.41514155565144584"
            ]
          },
          "metadata": {},
          "execution_count": 39
        }
      ]
    },
    {
      "cell_type": "markdown",
      "source": [
        "Après plusieurs tests, nous avons fait varier les paramètres M et ef_construction, nous trouvons que le meilleur résultat que nous pouvons avoir est d'avoir un ef_construction égale au nombre de résultat retourné (100).\n",
        "La bibliothèque nous conseille un M situé au alentour de 48. Effectivement, c'est le meilleur ratio que nous pouvons avoir. "
      ],
      "metadata": {
        "id": "yww-deGTU0JX"
      }
    },
    {
      "cell_type": "markdown",
      "source": [
        "Le résultat de l'ANN est similaire au cosine similarity. Néanmoins, on constate une nette accélération, (environ 10 fois plus rapide). \n"
      ],
      "metadata": {
        "id": "XCWJeRewWYA1"
      }
    }
  ],
  "metadata": {
    "kernelspec": {
      "display_name": "Python 3",
      "language": "python",
      "name": "python3"
    },
    "language_info": {
      "codemirror_mode": {
        "name": "ipython",
        "version": 2
      },
      "file_extension": ".py",
      "mimetype": "text/x-python",
      "name": "python",
      "nbconvert_exporter": "python",
      "pygments_lexer": "ipython2",
      "version": "2.7.6"
    },
    "colab": {
      "provenance": []
    },
    "accelerator": "GPU",
    "gpuClass": "standard",
    "widgets": {
      "application/vnd.jupyter.widget-state+json": {
        "1760bca014e945fd85cce540a0a8a0b5": {
          "model_module": "@jupyter-widgets/controls",
          "model_name": "HBoxModel",
          "model_module_version": "1.5.0",
          "state": {
            "_dom_classes": [],
            "_model_module": "@jupyter-widgets/controls",
            "_model_module_version": "1.5.0",
            "_model_name": "HBoxModel",
            "_view_count": null,
            "_view_module": "@jupyter-widgets/controls",
            "_view_module_version": "1.5.0",
            "_view_name": "HBoxView",
            "box_style": "",
            "children": [
              "IPY_MODEL_126a513c10624aaf9c5cb4f348f4da1c",
              "IPY_MODEL_4d3981a8c0db4e5b8bbbbe0cfdc7c815",
              "IPY_MODEL_f7e313c0319c4e2cbaaacf4c65e59bdd"
            ],
            "layout": "IPY_MODEL_d8d675edbd4b49639f85882b20a6d0c7"
          }
        },
        "126a513c10624aaf9c5cb4f348f4da1c": {
          "model_module": "@jupyter-widgets/controls",
          "model_name": "HTMLModel",
          "model_module_version": "1.5.0",
          "state": {
            "_dom_classes": [],
            "_model_module": "@jupyter-widgets/controls",
            "_model_module_version": "1.5.0",
            "_model_name": "HTMLModel",
            "_view_count": null,
            "_view_module": "@jupyter-widgets/controls",
            "_view_module_version": "1.5.0",
            "_view_name": "HTMLView",
            "description": "",
            "description_tooltip": null,
            "layout": "IPY_MODEL_ac4d611e17c3466fa6d5ff4c97441bba",
            "placeholder": "​",
            "style": "IPY_MODEL_e934416218d04d3fb6af10cc372a5556",
            "value": "100%"
          }
        },
        "4d3981a8c0db4e5b8bbbbe0cfdc7c815": {
          "model_module": "@jupyter-widgets/controls",
          "model_name": "FloatProgressModel",
          "model_module_version": "1.5.0",
          "state": {
            "_dom_classes": [],
            "_model_module": "@jupyter-widgets/controls",
            "_model_module_version": "1.5.0",
            "_model_name": "FloatProgressModel",
            "_view_count": null,
            "_view_module": "@jupyter-widgets/controls",
            "_view_module_version": "1.5.0",
            "_view_name": "ProgressView",
            "bar_style": "success",
            "description": "",
            "description_tooltip": null,
            "layout": "IPY_MODEL_40ce03bf4bf645088605c293e6fee722",
            "max": 140724,
            "min": 0,
            "orientation": "horizontal",
            "style": "IPY_MODEL_f0fb05ff25a842179ddc0b1abd22db83",
            "value": 140724
          }
        },
        "f7e313c0319c4e2cbaaacf4c65e59bdd": {
          "model_module": "@jupyter-widgets/controls",
          "model_name": "HTMLModel",
          "model_module_version": "1.5.0",
          "state": {
            "_dom_classes": [],
            "_model_module": "@jupyter-widgets/controls",
            "_model_module_version": "1.5.0",
            "_model_name": "HTMLModel",
            "_view_count": null,
            "_view_module": "@jupyter-widgets/controls",
            "_view_module_version": "1.5.0",
            "_view_name": "HTMLView",
            "description": "",
            "description_tooltip": null,
            "layout": "IPY_MODEL_42d5239389be4f12ae2ad19e69d1f7ae",
            "placeholder": "​",
            "style": "IPY_MODEL_8df09653ef8c49f28c2aa02e22a87f1d",
            "value": " 140724/140724 [00:00&lt;00:00, 154785.45it/s]"
          }
        },
        "d8d675edbd4b49639f85882b20a6d0c7": {
          "model_module": "@jupyter-widgets/base",
          "model_name": "LayoutModel",
          "model_module_version": "1.2.0",
          "state": {
            "_model_module": "@jupyter-widgets/base",
            "_model_module_version": "1.2.0",
            "_model_name": "LayoutModel",
            "_view_count": null,
            "_view_module": "@jupyter-widgets/base",
            "_view_module_version": "1.2.0",
            "_view_name": "LayoutView",
            "align_content": null,
            "align_items": null,
            "align_self": null,
            "border": null,
            "bottom": null,
            "display": null,
            "flex": null,
            "flex_flow": null,
            "grid_area": null,
            "grid_auto_columns": null,
            "grid_auto_flow": null,
            "grid_auto_rows": null,
            "grid_column": null,
            "grid_gap": null,
            "grid_row": null,
            "grid_template_areas": null,
            "grid_template_columns": null,
            "grid_template_rows": null,
            "height": null,
            "justify_content": null,
            "justify_items": null,
            "left": null,
            "margin": null,
            "max_height": null,
            "max_width": null,
            "min_height": null,
            "min_width": null,
            "object_fit": null,
            "object_position": null,
            "order": null,
            "overflow": null,
            "overflow_x": null,
            "overflow_y": null,
            "padding": null,
            "right": null,
            "top": null,
            "visibility": null,
            "width": null
          }
        },
        "ac4d611e17c3466fa6d5ff4c97441bba": {
          "model_module": "@jupyter-widgets/base",
          "model_name": "LayoutModel",
          "model_module_version": "1.2.0",
          "state": {
            "_model_module": "@jupyter-widgets/base",
            "_model_module_version": "1.2.0",
            "_model_name": "LayoutModel",
            "_view_count": null,
            "_view_module": "@jupyter-widgets/base",
            "_view_module_version": "1.2.0",
            "_view_name": "LayoutView",
            "align_content": null,
            "align_items": null,
            "align_self": null,
            "border": null,
            "bottom": null,
            "display": null,
            "flex": null,
            "flex_flow": null,
            "grid_area": null,
            "grid_auto_columns": null,
            "grid_auto_flow": null,
            "grid_auto_rows": null,
            "grid_column": null,
            "grid_gap": null,
            "grid_row": null,
            "grid_template_areas": null,
            "grid_template_columns": null,
            "grid_template_rows": null,
            "height": null,
            "justify_content": null,
            "justify_items": null,
            "left": null,
            "margin": null,
            "max_height": null,
            "max_width": null,
            "min_height": null,
            "min_width": null,
            "object_fit": null,
            "object_position": null,
            "order": null,
            "overflow": null,
            "overflow_x": null,
            "overflow_y": null,
            "padding": null,
            "right": null,
            "top": null,
            "visibility": null,
            "width": null
          }
        },
        "e934416218d04d3fb6af10cc372a5556": {
          "model_module": "@jupyter-widgets/controls",
          "model_name": "DescriptionStyleModel",
          "model_module_version": "1.5.0",
          "state": {
            "_model_module": "@jupyter-widgets/controls",
            "_model_module_version": "1.5.0",
            "_model_name": "DescriptionStyleModel",
            "_view_count": null,
            "_view_module": "@jupyter-widgets/base",
            "_view_module_version": "1.2.0",
            "_view_name": "StyleView",
            "description_width": ""
          }
        },
        "40ce03bf4bf645088605c293e6fee722": {
          "model_module": "@jupyter-widgets/base",
          "model_name": "LayoutModel",
          "model_module_version": "1.2.0",
          "state": {
            "_model_module": "@jupyter-widgets/base",
            "_model_module_version": "1.2.0",
            "_model_name": "LayoutModel",
            "_view_count": null,
            "_view_module": "@jupyter-widgets/base",
            "_view_module_version": "1.2.0",
            "_view_name": "LayoutView",
            "align_content": null,
            "align_items": null,
            "align_self": null,
            "border": null,
            "bottom": null,
            "display": null,
            "flex": null,
            "flex_flow": null,
            "grid_area": null,
            "grid_auto_columns": null,
            "grid_auto_flow": null,
            "grid_auto_rows": null,
            "grid_column": null,
            "grid_gap": null,
            "grid_row": null,
            "grid_template_areas": null,
            "grid_template_columns": null,
            "grid_template_rows": null,
            "height": null,
            "justify_content": null,
            "justify_items": null,
            "left": null,
            "margin": null,
            "max_height": null,
            "max_width": null,
            "min_height": null,
            "min_width": null,
            "object_fit": null,
            "object_position": null,
            "order": null,
            "overflow": null,
            "overflow_x": null,
            "overflow_y": null,
            "padding": null,
            "right": null,
            "top": null,
            "visibility": null,
            "width": null
          }
        },
        "f0fb05ff25a842179ddc0b1abd22db83": {
          "model_module": "@jupyter-widgets/controls",
          "model_name": "ProgressStyleModel",
          "model_module_version": "1.5.0",
          "state": {
            "_model_module": "@jupyter-widgets/controls",
            "_model_module_version": "1.5.0",
            "_model_name": "ProgressStyleModel",
            "_view_count": null,
            "_view_module": "@jupyter-widgets/base",
            "_view_module_version": "1.2.0",
            "_view_name": "StyleView",
            "bar_color": null,
            "description_width": ""
          }
        },
        "42d5239389be4f12ae2ad19e69d1f7ae": {
          "model_module": "@jupyter-widgets/base",
          "model_name": "LayoutModel",
          "model_module_version": "1.2.0",
          "state": {
            "_model_module": "@jupyter-widgets/base",
            "_model_module_version": "1.2.0",
            "_model_name": "LayoutModel",
            "_view_count": null,
            "_view_module": "@jupyter-widgets/base",
            "_view_module_version": "1.2.0",
            "_view_name": "LayoutView",
            "align_content": null,
            "align_items": null,
            "align_self": null,
            "border": null,
            "bottom": null,
            "display": null,
            "flex": null,
            "flex_flow": null,
            "grid_area": null,
            "grid_auto_columns": null,
            "grid_auto_flow": null,
            "grid_auto_rows": null,
            "grid_column": null,
            "grid_gap": null,
            "grid_row": null,
            "grid_template_areas": null,
            "grid_template_columns": null,
            "grid_template_rows": null,
            "height": null,
            "justify_content": null,
            "justify_items": null,
            "left": null,
            "margin": null,
            "max_height": null,
            "max_width": null,
            "min_height": null,
            "min_width": null,
            "object_fit": null,
            "object_position": null,
            "order": null,
            "overflow": null,
            "overflow_x": null,
            "overflow_y": null,
            "padding": null,
            "right": null,
            "top": null,
            "visibility": null,
            "width": null
          }
        },
        "8df09653ef8c49f28c2aa02e22a87f1d": {
          "model_module": "@jupyter-widgets/controls",
          "model_name": "DescriptionStyleModel",
          "model_module_version": "1.5.0",
          "state": {
            "_model_module": "@jupyter-widgets/controls",
            "_model_module_version": "1.5.0",
            "_model_name": "DescriptionStyleModel",
            "_view_count": null,
            "_view_module": "@jupyter-widgets/base",
            "_view_module_version": "1.2.0",
            "_view_name": "StyleView",
            "description_width": ""
          }
        }
      }
    }
  },
  "nbformat": 4,
  "nbformat_minor": 0
}