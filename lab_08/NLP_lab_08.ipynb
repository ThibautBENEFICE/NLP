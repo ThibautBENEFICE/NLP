{
 "cells": [
  {
   "cell_type": "markdown",
   "source": [
    "**NLP LAB 09**"
   ],
   "metadata": {
    "collapsed": false,
    "id": "3SNtIm_jtoqP",
    "pycharm": {
     "name": "#%% md\n"
    }
   }
  },
  {
   "cell_type": "markdown",
   "source": [
    "The best dataset to choose is offensive. Indeed, haste is a dataset about comment that disrespect a social or a group of person, but it can be a point of view, when the offensive dataset is about insult someone.\n",
    "\n",
    "The best would be taking both dataset."
   ],
   "metadata": {
    "collapsed": false,
    "id": "FsVdtB2TtoqR",
    "pycharm": {
     "name": "#%% md\n"
    }
   }
  },
  {
   "cell_type": "code",
   "execution_count": null,
   "outputs": [],
   "source": [
    "!pip install datasets\n",
    "!pip install bertopic\n",
    "!pip install torch\n",
    "!pip install transformers"
   ],
   "metadata": {
    "pycharm": {
     "name": "#%%\n",
     "is_executing": true
    },
    "id": "g7RcUKvGtoqT"
   }
  },
  {
   "cell_type": "code",
   "execution_count": 78,
   "outputs": [],
   "source": [
    "from datasets import load_dataset\n",
    "from bertopic import BERTopic\n",
    "from transformers import AutoTokenizer, AutoModelForSequenceClassification, RobertaForSequenceClassification\n",
    "from scipy.special import softmax\n",
    "from torch import random\n",
    "from tqdm import tqdm\n",
    "import numpy as np\n",
    "import json\n",
    "import sys\n",
    "np.set_printoptions(threshold=sys.maxsize)"
   ],
   "metadata": {
    "pycharm": {
     "name": "#%%\n",
     "is_executing": true
    },
    "id": "wfp59SNVtoqW"
   }
  },
  {
   "cell_type": "code",
   "execution_count": 4,
   "outputs": [
    {
     "output_type": "stream",
     "name": "stderr",
     "text": [
      "WARNING:datasets.builder:Found cached dataset tweet_eval (/root/.cache/huggingface/datasets/tweet_eval/offensive/1.1.0/12aee5282b8784f3e95459466db4cdf45c6bf49719c25cdb0743d71ed0410343)\n"
     ]
    },
    {
     "output_type": "display_data",
     "data": {
      "text/plain": [
       "  0%|          | 0/3 [00:00<?, ?it/s]"
      ],
      "application/vnd.jupyter.widget-view+json": {
       "version_major": 2,
       "version_minor": 0,
       "model_id": "076f7660870f4afd8b1d6bfa36d025fe"
      }
     },
     "metadata": {}
    },
    {
     "output_type": "execute_result",
     "data": {
      "text/plain": [
       "DatasetDict({\n",
       "    train: Dataset({\n",
       "        features: ['text', 'label'],\n",
       "        num_rows: 11916\n",
       "    })\n",
       "    test: Dataset({\n",
       "        features: ['text', 'label'],\n",
       "        num_rows: 860\n",
       "    })\n",
       "    validation: Dataset({\n",
       "        features: ['text', 'label'],\n",
       "        num_rows: 1324\n",
       "    })\n",
       "})"
      ]
     },
     "metadata": {},
     "execution_count": 4
    }
   ],
   "source": [
    "dataset = load_dataset(\"tweet_eval\",\"offensive\")\n",
    "dataset"
   ],
   "metadata": {
    "pycharm": {
     "name": "#%%\n"
    },
    "id": "9FIsrGuqtoqZ",
    "colab": {
     "base_uri": "https://localhost:8080/",
     "height": 317,
     "referenced_widgets": [
      "076f7660870f4afd8b1d6bfa36d025fe",
      "3bf04eb6d2654ce19d61578d04a71c67",
      "bf9bb24a885546d6a74819d294dd79a5",
      "589cb35b232c4b19a5b38f7d0cbc278d",
      "c2b2e5914d954a4ca5662be65b1d02f3",
      "a5868316a8f34dad92160835bda25d95",
      "478b57ca6ea4407b8bb0f4a52232ba3e",
      "ee99b59ed68842b69313f7aa4b7c03f6",
      "4dee5c984ae64afb84e38715e2d3b57e",
      "ecef254a621f4957891f1657037b08f3",
      "e2d98c1d82574c499eddfd01695fc0ac"
     ]
    },
    "outputId": "18bd8409-8c92-44da-dc6c-af67adfdc4bf"
   }
  },
  {
   "cell_type": "markdown",
   "source": [
    "We see that there is not much value in the test dataset  (About 5.7% of all data) and in the validation dataset (About 8.9% of all data)"
   ],
   "metadata": {
    "collapsed": false,
    "pycharm": {
     "name": "#%% md\n"
    },
    "id": "HHQCkURftoqd"
   }
  },
  {
   "cell_type": "code",
   "execution_count": 5,
   "outputs": [
    {
     "output_type": "execute_result",
     "data": {
      "text/plain": [
       "['@user Bono... who cares. Soon people will understand that they gain nothing from following a phony celebrity. Become a Leader of your people instead or help and support your fellow countrymen.',\n",
       " '@user Eight years the republicans denied obama’s picks. Breitbarters outrage is as phony as their fake president.',\n",
       " '@user Get him some line help. He is gonna be just fine. As the game went on you could see him progressing more with his reads. He brought what has been missing. The deep ball presence. Now he just needs a little more time',\n",
       " '@user @user She is great. Hi Fiona!',\n",
       " \"@user She has become a parody unto herself? She has certainly taken some heat for being such an....well idiot. Could be optic too  Who know with Liberals  They're all optics.  No substance\"]"
      ]
     },
     "metadata": {},
     "execution_count": 5
    }
   ],
   "source": [
    "dataset[\"train\"][\"text\"][:5]"
   ],
   "metadata": {
    "pycharm": {
     "name": "#%%\n"
    },
    "id": "idSoTKaStoqf",
    "colab": {
     "base_uri": "https://localhost:8080/"
    },
    "outputId": "02512309-640d-46b2-cc96-0105a7b0c95c"
   }
  },
  {
   "cell_type": "code",
   "execution_count": 6,
   "outputs": [
    {
     "output_type": "execute_result",
     "data": {
      "text/plain": [
       "{'text': ['@user @user @user @user @user @user @user @user @user @user @user @user @user @user @user @user @user Thank you for adding me Razor!  Patriots- if you aren’t following my Primary account @user - will you take a minute &amp; Follow me? Thanks &amp; MAGA🇺🇸',\n",
       "  '@user The lies i keep hearing everyday sigh *INHALES* IM TIRED OF YOU PUTTING YOURSELF DOWN AND IF PPL DONT SEE HOW BEAUTIFUL MY BESTFRIEND IS THEN ITS THEIR PROBLEM You are beautiful ive seen iT so its my place to tell you you are beautiful and i accept nothing less. If not more 😤',\n",
       "  '@user He is very perceptive Sweetie!',\n",
       "  '@user Dear Paul McFartney-  You had us at Beatles.  You lost us at President Mad Captain.  Burn in hell-  Jon.\"\"',\n",
       "  '@user you are also the king of taste'],\n",
       " 'label': [0, 1, 0, 1, 0]}"
      ]
     },
     "metadata": {},
     "execution_count": 6
    }
   ],
   "source": [
    "dataset[\"train\"][90:95]"
   ],
   "metadata": {
    "pycharm": {
     "name": "#%%\n"
    },
    "id": "Dtx_XzPWtoqh",
    "colab": {
     "base_uri": "https://localhost:8080/"
    },
    "outputId": "10e0483b-3e6b-4d0b-d99f-728f7757a0a6"
   }
  },
  {
   "cell_type": "markdown",
   "source": [
    "We notice that all tag is anonymous. They had been replaced by '@user'."
   ],
   "metadata": {
    "collapsed": false,
    "pycharm": {
     "name": "#%% md\n"
    },
    "id": "7YFWZhiLtoqm"
   }
  },
  {
   "cell_type": "code",
   "source": [
    "offensive_sentences = [dataset[\"train\"][\"text\"][i] for i in tqdm(range(len(dataset[\"train\"][\"label\"]))) if dataset[\"train\"][\"label\"][i] == 1]\n",
    "offensive_sentences[:10]"
   ],
   "metadata": {
    "id": "Ko9Ouhz_rC6L",
    "pycharm": {
     "name": "#%%\n"
    }
   },
   "execution_count": null,
   "outputs": []
  },
  {
   "cell_type": "code",
   "source": [
    "neutral_sentences = [dataset[\"train\"][\"text\"][i] for i in tqdm(range(len(dataset[\"train\"][\"label\"]))) if dataset[\"train\"][\"label\"][i] ==0]\n",
    "neutral_sentences[:10]"
   ],
   "metadata": {
    "id": "1PlHdq-9sJUL",
    "pycharm": {
     "name": "#%%\n"
    }
   },
   "execution_count": null,
   "outputs": []
  },
  {
   "cell_type": "code",
   "execution_count": 117,
   "outputs": [
    {
     "output_type": "stream",
     "name": "stderr",
     "text": [
      "\r  2%|▏         | 254/11916 [07:43<5:55:00,  1.83s/it]\n"
     ]
    }
   ],
   "source": [
    "topic_model_offensive = BERTopic()\n",
    "topics_offensive, probs_offensive = topic_model_offensive.fit_transform(offensive_sentences)\n",
    "\n",
    "topic_model_neutral = BERTopic()\n",
    "topics_neutral, probs_neutral = topic_model_neutral.fit_transform(neutral_sentences)\n",
    "\n"
   ],
   "metadata": {
    "pycharm": {
     "name": "#%%\n"
    },
    "id": "lEk4hBiQtotd",
    "colab": {
     "base_uri": "https://localhost:8080/"
    },
    "outputId": "eebb79af-c0c8-48ff-b540-fd3daeb1f474"
   }
  },
  {
   "cell_type": "code",
   "execution_count": 118,
   "outputs": [
    {
     "output_type": "execute_result",
     "data": {
      "text/plain": [
       "    Topic  Count                                       Name\n",
       "0      -1   1350                           -1_user_is_to_he\n",
       "1       0    356                     0_gun_control_the_guns\n",
       "2       1    307           1_liberals_conservatives_are_the\n",
       "3       2    279                  2_antifa_user_the_fascist\n",
       "4       3    197                        3_maga_trump_the_to\n",
       "5       4    126                          4_she_her_is_ugly\n",
       "6       5     91                           5_he_dumb_is_him\n",
       "7       6     79                6_women_sexual_you_liberals\n",
       "8       7     75                    7_bitch_bitches_me_love\n",
       "9       8     74                            8_she_her_is_to\n",
       "10      9     73                   9_kavanaugh_this_to_vote\n",
       "11     10     72                  10_fuck_fucking_yeah_holy\n",
       "12     11     68                     11_nfl_he_football_the\n",
       "13     12     57                     12_shit_oh_lol_shitttt\n",
       "14     13     53                  13_racist_white_black_are\n",
       "15     14     44                  14_pope_user_satan_church\n",
       "16     15     44                   15_user_pathetic_you_are\n",
       "17     16     43                         16_ass_eat_butt_my\n",
       "18     17     41                   17_he_president_trump_is\n",
       "19     18     38                     18_user_shit_fuck_door\n",
       "20     19     37                   19_tories_tory_eu_labour\n",
       "21     20     36                     20_sexy_cute_hot_boobs\n",
       "22     21     35                    21_nigga_niggas_cant_me\n",
       "23     22     30              22_she_serena_williams_tennis\n",
       "24     23     27                     23_she_home_guilty_her\n",
       "25     24     26  24_trudeau_canada_canadians_conservatives\n",
       "26     25     21                 25_holder_prison_eric_jail\n",
       "27     26     20               26_obama_president_obamas_he\n",
       "28     27     17                       27_liar_lie_lying_he\n",
       "29     28     16                        28_she_her_is_woman\n",
       "30     29     16         29_abortion_babies_killing_opposed\n",
       "31     30     15                 30_iran_he_kerry_president\n",
       "32     31     15                   31_fat_weight_obese_slim\n",
       "33     32     14           32_hurricane_pr_trump_corruption\n",
       "34     33     14                  33_crook_eric_traitor_top\n",
       "35     34     13                34_news_fake_editor_through\n",
       "36     35     13                   35_fool_lol_fools_suffer\n",
       "37     36     13         36_court_judge_judges_investigated\n",
       "38     37     12                      37_album_hype_rap_but\n",
       "39     38     11                      38_sucks_suck_wang_ig\n",
       "40     39     11              39_puerto_rico_died_gutierrez\n",
       "41     40     11                       40_pic_movies_oh_bvs\n",
       "42     41     11                   41_beto_texas_cruz_trust\n",
       "43     42     10                   42_dog_animal_dogs_cruel\n",
       "44     43     10               43_worst_cage_terrible_worse\n",
       "45     44     10                        44_bono_tax_his_now\n",
       "46     45     10              45_money_tax_liberals_lunatic"
      ],
      "text/html": [
       "\n",
       "  <div id=\"df-c6a96ac8-5b91-49c7-a34c-f05ca83768b6\">\n",
       "    <div class=\"colab-df-container\">\n",
       "      <div>\n",
       "<style scoped>\n",
       "    .dataframe tbody tr th:only-of-type {\n",
       "        vertical-align: middle;\n",
       "    }\n",
       "\n",
       "    .dataframe tbody tr th {\n",
       "        vertical-align: top;\n",
       "    }\n",
       "\n",
       "    .dataframe thead th {\n",
       "        text-align: right;\n",
       "    }\n",
       "</style>\n",
       "<table border=\"1\" class=\"dataframe\">\n",
       "  <thead>\n",
       "    <tr style=\"text-align: right;\">\n",
       "      <th></th>\n",
       "      <th>Topic</th>\n",
       "      <th>Count</th>\n",
       "      <th>Name</th>\n",
       "    </tr>\n",
       "  </thead>\n",
       "  <tbody>\n",
       "    <tr>\n",
       "      <th>0</th>\n",
       "      <td>-1</td>\n",
       "      <td>1350</td>\n",
       "      <td>-1_user_is_to_he</td>\n",
       "    </tr>\n",
       "    <tr>\n",
       "      <th>1</th>\n",
       "      <td>0</td>\n",
       "      <td>356</td>\n",
       "      <td>0_gun_control_the_guns</td>\n",
       "    </tr>\n",
       "    <tr>\n",
       "      <th>2</th>\n",
       "      <td>1</td>\n",
       "      <td>307</td>\n",
       "      <td>1_liberals_conservatives_are_the</td>\n",
       "    </tr>\n",
       "    <tr>\n",
       "      <th>3</th>\n",
       "      <td>2</td>\n",
       "      <td>279</td>\n",
       "      <td>2_antifa_user_the_fascist</td>\n",
       "    </tr>\n",
       "    <tr>\n",
       "      <th>4</th>\n",
       "      <td>3</td>\n",
       "      <td>197</td>\n",
       "      <td>3_maga_trump_the_to</td>\n",
       "    </tr>\n",
       "    <tr>\n",
       "      <th>5</th>\n",
       "      <td>4</td>\n",
       "      <td>126</td>\n",
       "      <td>4_she_her_is_ugly</td>\n",
       "    </tr>\n",
       "    <tr>\n",
       "      <th>6</th>\n",
       "      <td>5</td>\n",
       "      <td>91</td>\n",
       "      <td>5_he_dumb_is_him</td>\n",
       "    </tr>\n",
       "    <tr>\n",
       "      <th>7</th>\n",
       "      <td>6</td>\n",
       "      <td>79</td>\n",
       "      <td>6_women_sexual_you_liberals</td>\n",
       "    </tr>\n",
       "    <tr>\n",
       "      <th>8</th>\n",
       "      <td>7</td>\n",
       "      <td>75</td>\n",
       "      <td>7_bitch_bitches_me_love</td>\n",
       "    </tr>\n",
       "    <tr>\n",
       "      <th>9</th>\n",
       "      <td>8</td>\n",
       "      <td>74</td>\n",
       "      <td>8_she_her_is_to</td>\n",
       "    </tr>\n",
       "    <tr>\n",
       "      <th>10</th>\n",
       "      <td>9</td>\n",
       "      <td>73</td>\n",
       "      <td>9_kavanaugh_this_to_vote</td>\n",
       "    </tr>\n",
       "    <tr>\n",
       "      <th>11</th>\n",
       "      <td>10</td>\n",
       "      <td>72</td>\n",
       "      <td>10_fuck_fucking_yeah_holy</td>\n",
       "    </tr>\n",
       "    <tr>\n",
       "      <th>12</th>\n",
       "      <td>11</td>\n",
       "      <td>68</td>\n",
       "      <td>11_nfl_he_football_the</td>\n",
       "    </tr>\n",
       "    <tr>\n",
       "      <th>13</th>\n",
       "      <td>12</td>\n",
       "      <td>57</td>\n",
       "      <td>12_shit_oh_lol_shitttt</td>\n",
       "    </tr>\n",
       "    <tr>\n",
       "      <th>14</th>\n",
       "      <td>13</td>\n",
       "      <td>53</td>\n",
       "      <td>13_racist_white_black_are</td>\n",
       "    </tr>\n",
       "    <tr>\n",
       "      <th>15</th>\n",
       "      <td>14</td>\n",
       "      <td>44</td>\n",
       "      <td>14_pope_user_satan_church</td>\n",
       "    </tr>\n",
       "    <tr>\n",
       "      <th>16</th>\n",
       "      <td>15</td>\n",
       "      <td>44</td>\n",
       "      <td>15_user_pathetic_you_are</td>\n",
       "    </tr>\n",
       "    <tr>\n",
       "      <th>17</th>\n",
       "      <td>16</td>\n",
       "      <td>43</td>\n",
       "      <td>16_ass_eat_butt_my</td>\n",
       "    </tr>\n",
       "    <tr>\n",
       "      <th>18</th>\n",
       "      <td>17</td>\n",
       "      <td>41</td>\n",
       "      <td>17_he_president_trump_is</td>\n",
       "    </tr>\n",
       "    <tr>\n",
       "      <th>19</th>\n",
       "      <td>18</td>\n",
       "      <td>38</td>\n",
       "      <td>18_user_shit_fuck_door</td>\n",
       "    </tr>\n",
       "    <tr>\n",
       "      <th>20</th>\n",
       "      <td>19</td>\n",
       "      <td>37</td>\n",
       "      <td>19_tories_tory_eu_labour</td>\n",
       "    </tr>\n",
       "    <tr>\n",
       "      <th>21</th>\n",
       "      <td>20</td>\n",
       "      <td>36</td>\n",
       "      <td>20_sexy_cute_hot_boobs</td>\n",
       "    </tr>\n",
       "    <tr>\n",
       "      <th>22</th>\n",
       "      <td>21</td>\n",
       "      <td>35</td>\n",
       "      <td>21_nigga_niggas_cant_me</td>\n",
       "    </tr>\n",
       "    <tr>\n",
       "      <th>23</th>\n",
       "      <td>22</td>\n",
       "      <td>30</td>\n",
       "      <td>22_she_serena_williams_tennis</td>\n",
       "    </tr>\n",
       "    <tr>\n",
       "      <th>24</th>\n",
       "      <td>23</td>\n",
       "      <td>27</td>\n",
       "      <td>23_she_home_guilty_her</td>\n",
       "    </tr>\n",
       "    <tr>\n",
       "      <th>25</th>\n",
       "      <td>24</td>\n",
       "      <td>26</td>\n",
       "      <td>24_trudeau_canada_canadians_conservatives</td>\n",
       "    </tr>\n",
       "    <tr>\n",
       "      <th>26</th>\n",
       "      <td>25</td>\n",
       "      <td>21</td>\n",
       "      <td>25_holder_prison_eric_jail</td>\n",
       "    </tr>\n",
       "    <tr>\n",
       "      <th>27</th>\n",
       "      <td>26</td>\n",
       "      <td>20</td>\n",
       "      <td>26_obama_president_obamas_he</td>\n",
       "    </tr>\n",
       "    <tr>\n",
       "      <th>28</th>\n",
       "      <td>27</td>\n",
       "      <td>17</td>\n",
       "      <td>27_liar_lie_lying_he</td>\n",
       "    </tr>\n",
       "    <tr>\n",
       "      <th>29</th>\n",
       "      <td>28</td>\n",
       "      <td>16</td>\n",
       "      <td>28_she_her_is_woman</td>\n",
       "    </tr>\n",
       "    <tr>\n",
       "      <th>30</th>\n",
       "      <td>29</td>\n",
       "      <td>16</td>\n",
       "      <td>29_abortion_babies_killing_opposed</td>\n",
       "    </tr>\n",
       "    <tr>\n",
       "      <th>31</th>\n",
       "      <td>30</td>\n",
       "      <td>15</td>\n",
       "      <td>30_iran_he_kerry_president</td>\n",
       "    </tr>\n",
       "    <tr>\n",
       "      <th>32</th>\n",
       "      <td>31</td>\n",
       "      <td>15</td>\n",
       "      <td>31_fat_weight_obese_slim</td>\n",
       "    </tr>\n",
       "    <tr>\n",
       "      <th>33</th>\n",
       "      <td>32</td>\n",
       "      <td>14</td>\n",
       "      <td>32_hurricane_pr_trump_corruption</td>\n",
       "    </tr>\n",
       "    <tr>\n",
       "      <th>34</th>\n",
       "      <td>33</td>\n",
       "      <td>14</td>\n",
       "      <td>33_crook_eric_traitor_top</td>\n",
       "    </tr>\n",
       "    <tr>\n",
       "      <th>35</th>\n",
       "      <td>34</td>\n",
       "      <td>13</td>\n",
       "      <td>34_news_fake_editor_through</td>\n",
       "    </tr>\n",
       "    <tr>\n",
       "      <th>36</th>\n",
       "      <td>35</td>\n",
       "      <td>13</td>\n",
       "      <td>35_fool_lol_fools_suffer</td>\n",
       "    </tr>\n",
       "    <tr>\n",
       "      <th>37</th>\n",
       "      <td>36</td>\n",
       "      <td>13</td>\n",
       "      <td>36_court_judge_judges_investigated</td>\n",
       "    </tr>\n",
       "    <tr>\n",
       "      <th>38</th>\n",
       "      <td>37</td>\n",
       "      <td>12</td>\n",
       "      <td>37_album_hype_rap_but</td>\n",
       "    </tr>\n",
       "    <tr>\n",
       "      <th>39</th>\n",
       "      <td>38</td>\n",
       "      <td>11</td>\n",
       "      <td>38_sucks_suck_wang_ig</td>\n",
       "    </tr>\n",
       "    <tr>\n",
       "      <th>40</th>\n",
       "      <td>39</td>\n",
       "      <td>11</td>\n",
       "      <td>39_puerto_rico_died_gutierrez</td>\n",
       "    </tr>\n",
       "    <tr>\n",
       "      <th>41</th>\n",
       "      <td>40</td>\n",
       "      <td>11</td>\n",
       "      <td>40_pic_movies_oh_bvs</td>\n",
       "    </tr>\n",
       "    <tr>\n",
       "      <th>42</th>\n",
       "      <td>41</td>\n",
       "      <td>11</td>\n",
       "      <td>41_beto_texas_cruz_trust</td>\n",
       "    </tr>\n",
       "    <tr>\n",
       "      <th>43</th>\n",
       "      <td>42</td>\n",
       "      <td>10</td>\n",
       "      <td>42_dog_animal_dogs_cruel</td>\n",
       "    </tr>\n",
       "    <tr>\n",
       "      <th>44</th>\n",
       "      <td>43</td>\n",
       "      <td>10</td>\n",
       "      <td>43_worst_cage_terrible_worse</td>\n",
       "    </tr>\n",
       "    <tr>\n",
       "      <th>45</th>\n",
       "      <td>44</td>\n",
       "      <td>10</td>\n",
       "      <td>44_bono_tax_his_now</td>\n",
       "    </tr>\n",
       "    <tr>\n",
       "      <th>46</th>\n",
       "      <td>45</td>\n",
       "      <td>10</td>\n",
       "      <td>45_money_tax_liberals_lunatic</td>\n",
       "    </tr>\n",
       "  </tbody>\n",
       "</table>\n",
       "</div>\n",
       "      <button class=\"colab-df-convert\" onclick=\"convertToInteractive('df-c6a96ac8-5b91-49c7-a34c-f05ca83768b6')\"\n",
       "              title=\"Convert this dataframe to an interactive table.\"\n",
       "              style=\"display:none;\">\n",
       "        \n",
       "  <svg xmlns=\"http://www.w3.org/2000/svg\" height=\"24px\"viewBox=\"0 0 24 24\"\n",
       "       width=\"24px\">\n",
       "    <path d=\"M0 0h24v24H0V0z\" fill=\"none\"/>\n",
       "    <path d=\"M18.56 5.44l.94 2.06.94-2.06 2.06-.94-2.06-.94-.94-2.06-.94 2.06-2.06.94zm-11 1L8.5 8.5l.94-2.06 2.06-.94-2.06-.94L8.5 2.5l-.94 2.06-2.06.94zm10 10l.94 2.06.94-2.06 2.06-.94-2.06-.94-.94-2.06-.94 2.06-2.06.94z\"/><path d=\"M17.41 7.96l-1.37-1.37c-.4-.4-.92-.59-1.43-.59-.52 0-1.04.2-1.43.59L10.3 9.45l-7.72 7.72c-.78.78-.78 2.05 0 2.83L4 21.41c.39.39.9.59 1.41.59.51 0 1.02-.2 1.41-.59l7.78-7.78 2.81-2.81c.8-.78.8-2.07 0-2.86zM5.41 20L4 18.59l7.72-7.72 1.47 1.35L5.41 20z\"/>\n",
       "  </svg>\n",
       "      </button>\n",
       "      \n",
       "  <style>\n",
       "    .colab-df-container {\n",
       "      display:flex;\n",
       "      flex-wrap:wrap;\n",
       "      gap: 12px;\n",
       "    }\n",
       "\n",
       "    .colab-df-convert {\n",
       "      background-color: #E8F0FE;\n",
       "      border: none;\n",
       "      border-radius: 50%;\n",
       "      cursor: pointer;\n",
       "      display: none;\n",
       "      fill: #1967D2;\n",
       "      height: 32px;\n",
       "      padding: 0 0 0 0;\n",
       "      width: 32px;\n",
       "    }\n",
       "\n",
       "    .colab-df-convert:hover {\n",
       "      background-color: #E2EBFA;\n",
       "      box-shadow: 0px 1px 2px rgba(60, 64, 67, 0.3), 0px 1px 3px 1px rgba(60, 64, 67, 0.15);\n",
       "      fill: #174EA6;\n",
       "    }\n",
       "\n",
       "    [theme=dark] .colab-df-convert {\n",
       "      background-color: #3B4455;\n",
       "      fill: #D2E3FC;\n",
       "    }\n",
       "\n",
       "    [theme=dark] .colab-df-convert:hover {\n",
       "      background-color: #434B5C;\n",
       "      box-shadow: 0px 1px 3px 1px rgba(0, 0, 0, 0.15);\n",
       "      filter: drop-shadow(0px 1px 2px rgba(0, 0, 0, 0.3));\n",
       "      fill: #FFFFFF;\n",
       "    }\n",
       "  </style>\n",
       "\n",
       "      <script>\n",
       "        const buttonEl =\n",
       "          document.querySelector('#df-c6a96ac8-5b91-49c7-a34c-f05ca83768b6 button.colab-df-convert');\n",
       "        buttonEl.style.display =\n",
       "          google.colab.kernel.accessAllowed ? 'block' : 'none';\n",
       "\n",
       "        async function convertToInteractive(key) {\n",
       "          const element = document.querySelector('#df-c6a96ac8-5b91-49c7-a34c-f05ca83768b6');\n",
       "          const dataTable =\n",
       "            await google.colab.kernel.invokeFunction('convertToInteractive',\n",
       "                                                     [key], {});\n",
       "          if (!dataTable) return;\n",
       "\n",
       "          const docLinkHtml = 'Like what you see? Visit the ' +\n",
       "            '<a target=\"_blank\" href=https://colab.research.google.com/notebooks/data_table.ipynb>data table notebook</a>'\n",
       "            + ' to learn more about interactive tables.';\n",
       "          element.innerHTML = '';\n",
       "          dataTable['output_type'] = 'display_data';\n",
       "          await google.colab.output.renderOutput(dataTable, element);\n",
       "          const docLink = document.createElement('div');\n",
       "          docLink.innerHTML = docLinkHtml;\n",
       "          element.appendChild(docLink);\n",
       "        }\n",
       "      </script>\n",
       "    </div>\n",
       "  </div>\n",
       "  "
      ]
     },
     "metadata": {},
     "execution_count": 118
    }
   ],
   "source": [
    "random.manual_seed(42)\n",
    "topic_model_offensive.get_topic_info()"
   ],
   "metadata": {
    "pycharm": {
     "name": "#%%\n"
    },
    "id": "ioXr5X_htoti",
    "colab": {
     "base_uri": "https://localhost:8080/",
     "height": 1000
    },
    "outputId": "bd2ae640-5cc5-46b9-c28f-f60666364497"
   }
  },
  {
   "cell_type": "code",
   "execution_count": 119,
   "outputs": [
    {
     "output_type": "execute_result",
     "data": {
      "text/plain": [
       "    Topic  Count                             Name\n",
       "0      -1   2765                 -1_is_the_you_to\n",
       "1       0    779           0_antifa_user_the_they\n",
       "2       1    674          1_gun_control_laws_guns\n",
       "3       2    575                2_user_he_you_are\n",
       "4       3    263         3_liberals_they_user_the\n",
       "..    ...    ...                              ...\n",
       "81     80     11      80_fat_loose_wanna_slimfast\n",
       "82     81     10  81_jimmy_price_mcbuckets_offset\n",
       "83     82     10    82_economy_jobs_barrack_trump\n",
       "84     83     10       83_cnn_fox_denounced_sheep\n",
       "85     84     10    84_feinstein_dems_letter_back\n",
       "\n",
       "[86 rows x 3 columns]"
      ],
      "text/html": [
       "\n",
       "  <div id=\"df-3d5ee864-5099-4e22-b732-760693eae821\">\n",
       "    <div class=\"colab-df-container\">\n",
       "      <div>\n",
       "<style scoped>\n",
       "    .dataframe tbody tr th:only-of-type {\n",
       "        vertical-align: middle;\n",
       "    }\n",
       "\n",
       "    .dataframe tbody tr th {\n",
       "        vertical-align: top;\n",
       "    }\n",
       "\n",
       "    .dataframe thead th {\n",
       "        text-align: right;\n",
       "    }\n",
       "</style>\n",
       "<table border=\"1\" class=\"dataframe\">\n",
       "  <thead>\n",
       "    <tr style=\"text-align: right;\">\n",
       "      <th></th>\n",
       "      <th>Topic</th>\n",
       "      <th>Count</th>\n",
       "      <th>Name</th>\n",
       "    </tr>\n",
       "  </thead>\n",
       "  <tbody>\n",
       "    <tr>\n",
       "      <th>0</th>\n",
       "      <td>-1</td>\n",
       "      <td>2765</td>\n",
       "      <td>-1_is_the_you_to</td>\n",
       "    </tr>\n",
       "    <tr>\n",
       "      <th>1</th>\n",
       "      <td>0</td>\n",
       "      <td>779</td>\n",
       "      <td>0_antifa_user_the_they</td>\n",
       "    </tr>\n",
       "    <tr>\n",
       "      <th>2</th>\n",
       "      <td>1</td>\n",
       "      <td>674</td>\n",
       "      <td>1_gun_control_laws_guns</td>\n",
       "    </tr>\n",
       "    <tr>\n",
       "      <th>3</th>\n",
       "      <td>2</td>\n",
       "      <td>575</td>\n",
       "      <td>2_user_he_you_are</td>\n",
       "    </tr>\n",
       "    <tr>\n",
       "      <th>4</th>\n",
       "      <td>3</td>\n",
       "      <td>263</td>\n",
       "      <td>3_liberals_they_user_the</td>\n",
       "    </tr>\n",
       "    <tr>\n",
       "      <th>...</th>\n",
       "      <td>...</td>\n",
       "      <td>...</td>\n",
       "      <td>...</td>\n",
       "    </tr>\n",
       "    <tr>\n",
       "      <th>81</th>\n",
       "      <td>80</td>\n",
       "      <td>11</td>\n",
       "      <td>80_fat_loose_wanna_slimfast</td>\n",
       "    </tr>\n",
       "    <tr>\n",
       "      <th>82</th>\n",
       "      <td>81</td>\n",
       "      <td>10</td>\n",
       "      <td>81_jimmy_price_mcbuckets_offset</td>\n",
       "    </tr>\n",
       "    <tr>\n",
       "      <th>83</th>\n",
       "      <td>82</td>\n",
       "      <td>10</td>\n",
       "      <td>82_economy_jobs_barrack_trump</td>\n",
       "    </tr>\n",
       "    <tr>\n",
       "      <th>84</th>\n",
       "      <td>83</td>\n",
       "      <td>10</td>\n",
       "      <td>83_cnn_fox_denounced_sheep</td>\n",
       "    </tr>\n",
       "    <tr>\n",
       "      <th>85</th>\n",
       "      <td>84</td>\n",
       "      <td>10</td>\n",
       "      <td>84_feinstein_dems_letter_back</td>\n",
       "    </tr>\n",
       "  </tbody>\n",
       "</table>\n",
       "<p>86 rows × 3 columns</p>\n",
       "</div>\n",
       "      <button class=\"colab-df-convert\" onclick=\"convertToInteractive('df-3d5ee864-5099-4e22-b732-760693eae821')\"\n",
       "              title=\"Convert this dataframe to an interactive table.\"\n",
       "              style=\"display:none;\">\n",
       "        \n",
       "  <svg xmlns=\"http://www.w3.org/2000/svg\" height=\"24px\"viewBox=\"0 0 24 24\"\n",
       "       width=\"24px\">\n",
       "    <path d=\"M0 0h24v24H0V0z\" fill=\"none\"/>\n",
       "    <path d=\"M18.56 5.44l.94 2.06.94-2.06 2.06-.94-2.06-.94-.94-2.06-.94 2.06-2.06.94zm-11 1L8.5 8.5l.94-2.06 2.06-.94-2.06-.94L8.5 2.5l-.94 2.06-2.06.94zm10 10l.94 2.06.94-2.06 2.06-.94-2.06-.94-.94-2.06-.94 2.06-2.06.94z\"/><path d=\"M17.41 7.96l-1.37-1.37c-.4-.4-.92-.59-1.43-.59-.52 0-1.04.2-1.43.59L10.3 9.45l-7.72 7.72c-.78.78-.78 2.05 0 2.83L4 21.41c.39.39.9.59 1.41.59.51 0 1.02-.2 1.41-.59l7.78-7.78 2.81-2.81c.8-.78.8-2.07 0-2.86zM5.41 20L4 18.59l7.72-7.72 1.47 1.35L5.41 20z\"/>\n",
       "  </svg>\n",
       "      </button>\n",
       "      \n",
       "  <style>\n",
       "    .colab-df-container {\n",
       "      display:flex;\n",
       "      flex-wrap:wrap;\n",
       "      gap: 12px;\n",
       "    }\n",
       "\n",
       "    .colab-df-convert {\n",
       "      background-color: #E8F0FE;\n",
       "      border: none;\n",
       "      border-radius: 50%;\n",
       "      cursor: pointer;\n",
       "      display: none;\n",
       "      fill: #1967D2;\n",
       "      height: 32px;\n",
       "      padding: 0 0 0 0;\n",
       "      width: 32px;\n",
       "    }\n",
       "\n",
       "    .colab-df-convert:hover {\n",
       "      background-color: #E2EBFA;\n",
       "      box-shadow: 0px 1px 2px rgba(60, 64, 67, 0.3), 0px 1px 3px 1px rgba(60, 64, 67, 0.15);\n",
       "      fill: #174EA6;\n",
       "    }\n",
       "\n",
       "    [theme=dark] .colab-df-convert {\n",
       "      background-color: #3B4455;\n",
       "      fill: #D2E3FC;\n",
       "    }\n",
       "\n",
       "    [theme=dark] .colab-df-convert:hover {\n",
       "      background-color: #434B5C;\n",
       "      box-shadow: 0px 1px 3px 1px rgba(0, 0, 0, 0.15);\n",
       "      filter: drop-shadow(0px 1px 2px rgba(0, 0, 0, 0.3));\n",
       "      fill: #FFFFFF;\n",
       "    }\n",
       "  </style>\n",
       "\n",
       "      <script>\n",
       "        const buttonEl =\n",
       "          document.querySelector('#df-3d5ee864-5099-4e22-b732-760693eae821 button.colab-df-convert');\n",
       "        buttonEl.style.display =\n",
       "          google.colab.kernel.accessAllowed ? 'block' : 'none';\n",
       "\n",
       "        async function convertToInteractive(key) {\n",
       "          const element = document.querySelector('#df-3d5ee864-5099-4e22-b732-760693eae821');\n",
       "          const dataTable =\n",
       "            await google.colab.kernel.invokeFunction('convertToInteractive',\n",
       "                                                     [key], {});\n",
       "          if (!dataTable) return;\n",
       "\n",
       "          const docLinkHtml = 'Like what you see? Visit the ' +\n",
       "            '<a target=\"_blank\" href=https://colab.research.google.com/notebooks/data_table.ipynb>data table notebook</a>'\n",
       "            + ' to learn more about interactive tables.';\n",
       "          element.innerHTML = '';\n",
       "          dataTable['output_type'] = 'display_data';\n",
       "          await google.colab.output.renderOutput(dataTable, element);\n",
       "          const docLink = document.createElement('div');\n",
       "          docLink.innerHTML = docLinkHtml;\n",
       "          element.appendChild(docLink);\n",
       "        }\n",
       "      </script>\n",
       "    </div>\n",
       "  </div>\n",
       "  "
      ]
     },
     "metadata": {},
     "execution_count": 119
    }
   ],
   "source": [
    "topic_model_neutral.get_topic_info()"
   ],
   "metadata": {
    "pycharm": {
     "name": "#%%\n"
    },
    "id": "eNYoVtyvtotn",
    "colab": {
     "base_uri": "https://localhost:8080/",
     "height": 655
    },
    "outputId": "f81a75f7-2b75-45a8-a997-aa12e794ed4a"
   }
  },
  {
   "cell_type": "markdown",
   "source": [
    "We see there is is not such a difference in the topics between offfensive and neutral. There is primary topic that appears on both offensive and neutral datasets. It could be more difficult for the model to make the difference. "
   ],
   "metadata": {
    "collapsed": false,
    "pycharm": {
     "name": "#%% md\n"
    },
    "id": "tKvFrN_Wtotq"
   }
  },
  {
   "cell_type": "code",
   "execution_count": 11,
   "outputs": [],
   "source": [
    "task= \"offensive\"\n",
    "MODEL = f\"cardiffnlp/twitter-roberta-base-{task}\"\n",
    "\n",
    "tokenizer = AutoTokenizer.from_pretrained(MODEL)\n"
   ],
   "metadata": {
    "pycharm": {
     "name": "#%%\n"
    },
    "id": "Xtw4Owtjtotq"
   }
  },
  {
   "cell_type": "code",
   "execution_count": 12,
   "outputs": [],
   "source": [
    "model : RobertaForSequenceClassification = AutoModelForSequenceClassification.from_pretrained(MODEL)\n",
    "#model.sa"
   ],
   "metadata": {
    "pycharm": {
     "name": "#%%\n"
    },
    "id": "n8_ebgZTtots"
   }
  },
  {
   "cell_type": "code",
   "execution_count": 13,
   "outputs": [],
   "source": [
    "file_json = open(\"tweets.json\", 'r')\n",
    "tweets_json = json.load(file_json)\n",
    "\n",
    "file_json.close()\n"
   ],
   "metadata": {
    "pycharm": {
     "name": "#%%\n"
    },
    "id": "1nCjhkLZtott"
   }
  },
  {
   "cell_type": "code",
   "source": [
    "list_sentences = [el[\"text\"] for el in tqdm(tweets_json)]"
   ],
   "metadata": {
    "colab": {
     "base_uri": "https://localhost:8080/"
    },
    "id": "ye9F4fFWyR89",
    "outputId": "233233cd-1b49-43e8-d08e-1457251173d4",
    "pycharm": {
     "name": "#%%\n"
    }
   },
   "execution_count": 104,
   "outputs": [
    {
     "output_type": "stream",
     "name": "stderr",
     "text": [
      "100%|██████████| 10000/10000 [00:00<00:00, 1558293.95it/s]\n"
     ]
    }
   ]
  },
  {
   "cell_type": "code",
   "execution_count": null,
   "outputs": [],
   "source": [
    "batch_size = 10\n",
    "scores = []\n",
    "for i in tqdm(range(0,len(list_sentences)//4,batch_size)): #Div 4 beaucause Otherwise it's to long\n",
    "\n",
    "  encoded_input = tokenizer(list_sentences[i:min(i+batch_size,len(list_sentences)//4)],return_tensors='pt',padding='longest')\n",
    "  output = model(**(encoded_input))\n",
    "  scores += [softmax(output[0][j].detach().numpy()) for j in range(len(output[0]))]\n",
    "\n",
    "\n"
   ],
   "metadata": {
    "pycharm": {
     "name": "#%%\n"
    },
    "id": "esSisszStotu"
   }
  },
  {
   "cell_type": "code",
   "source": [
    "np_scores = np.array(list(zip(*scores)))\n",
    "np_list_sentences = np.array(list_sentences)\n",
    "best_results_positive = np_scores[0].argsort()[-50:][::-1]\n",
    "best_results_offensive = np_scores[1].argsort()[-50:][::-1]\n",
    "best_results_neutral = (np.abs(np_scores[0] - 0.5)).argsort()[:50][::-1]\n",
    "print(np_list_sentences[np.argsort(np_list_sentences[best_results_offensive])])"
   ],
   "metadata": {
    "id": "a9jQg_ODWUqE",
    "outputId": "ae89222f-f57a-46d4-f15c-e07ffa31f3b7",
    "colab": {
     "base_uri": "https://localhost:8080/"
    },
    "pycharm": {
     "name": "#%%\n"
    }
   },
   "execution_count": 102,
   "outputs": [
    {
     "output_type": "stream",
     "name": "stdout",
     "text": [
      "['pain😔'\n",
      " 'Haa i understood. Chill just animes.. we all have our own favs..'\n",
      " \"Dude you could've just saved the image as a png\"\n",
      " 'Coalition Motorbike Strike Monywa\\n#July1Coup \\n#WhatsHappeningInMyanmar\\n#MilkTeaAlliance http'\n",
      " 'He rather have used the cash to buy some clothes that dont resemble a duvet.'\n",
      " 'Wait what do you mean and a head-' 'Absolutely fuckin gorgeous 😍'\n",
      " 'Happy ca day 🌸' 'likes are public??' 'Louis Burns - Young Mopes'\n",
      " 'muge is so ungrateful and cringey bro' 'Twitter down'\n",
      " '/ everywhere i go i see his face' 'Free Britney'\n",
      " 'im tired too but this is so entertaining i cant' 'pusing'\n",
      " 'Bloody awesome!' 'Anyone getting married or recently married watch it 🤸'\n",
      " 'the only thing i can imagine is him sitting on it'\n",
      " 'it feels like she breaks the wall for so free'\n",
      " 'I still canr believe it.😭😭😭😭😭' 'Good one bro'\n",
      " 'Plugnet for the win... 🤑🤑'\n",
      " 'setiap lihat teman2ku baru main hades and they’re feeing horny for no reason yeah that’s the point babe this game and the fandom are so horny'\n",
      " 'agree.'\n",
      " 'Make up, dress up, like a princess \\nfor him slapping, crawl over his groin, all reminds you of being just his whore.\\nI love that feeling, and where I belong to'\n",
      " 'Fb+rt tysm'\n",
      " 'no but fr they rlly had a 6+ hour standoff with a fucking snake and never once said “yk lets just shoot it” its not like we need that thing alive nor should that child be given back his “pet”'\n",
      " 'lanjiao lockdown so long d cases now still fucking high' 'Go to @user'\n",
      " 'you calling me pissbaby summoned me here ihy'\n",
      " 'Nigga said Da Baby look like a PT Cruiser No fucking way😭😭😭😭😭😭' 'Fuckof'\n",
      " 'Snitches'\n",
      " 'You should raise the webform....how would they know then that you completed ur medicals'\n",
      " 'Correction: Eastern WA will see *smoke from the #LavaFire in CA'\n",
      " \"nothing really happened qisnaoakq it's just the one where haechan took a pic with the same op again in this fansign🤧\"\n",
      " 'YOU BETTER SUCK HIS DICK KOZY I SEE YOU WITH KNUCKLES GET EM GYAAAAL'\n",
      " 'Film out, your eyes tell, Light, stay gold, crystal snow, don’t leave me, let go, bnyk sihh'\n",
      " 'beautiful' 'Great African..Please check out our website at http'\n",
      " 'keep my name out of your mouth 😒'\n",
      " 'HOTTEST CONTENT🔥🔥 SEXY POSTURES 🥵🥵\\nIt worth more then of now, get more subscribers by getting featured with us💫\\nAnd get limelight ✨of 5 million+ network \\nDM us love❤️❤️\\nhttp'\n",
      " 'Amen 🙏'\n",
      " 'Even if they didn’t exploit people to acquire their riches, how are you gonna be okay literally wasting thousands and thousands of dollars while there are still people who are homeless? While there are people skipping life saving medical treatments bc of the cost?'\n",
      " 'I met my GF in Feb 20 just before the madness ensued. It has been a long distance relationship since, me in Dublin and her in Mexico, with visits in between. Hopefully we can be together long term soon.'\n",
      " 'I guess looking at interannotator metrics such as fleiss kappa may be useful to understand how consistent they are? You could look at some kind of document similarity to infer information about the related pages?'\n",
      " 'People 😋'\n",
      " 'Not news should of spoken to regional ICU nurses. Duct tape and head scratching in the old ICUs'\n",
      " 'Baret']\n"
     ]
    }
   ]
  },
  {
   "cell_type": "code",
   "source": [
    "print(np.array(list_sentences)[best_results_positive])"
   ],
   "metadata": {
    "id": "mANfn41cigDB",
    "outputId": "05bcdd63-6239-4b9e-d97b-5a8f793c41a9",
    "colab": {
     "base_uri": "https://localhost:8080/"
    },
    "pycharm": {
     "name": "#%%\n"
    }
   },
   "execution_count": 99,
   "outputs": [
    {
     "output_type": "stream",
     "name": "stdout",
     "text": [
      "['Thank you for your supporttt ! 😍❤️✨'\n",
      " 'Oh, that would be great. I will be waiting, thank you💕'\n",
      " 'Thanks for your kind words ❤️ our team are all delighted for you both'\n",
      " 'You make me happy Collin :) so thankful for all the memories we have &lt;3'\n",
      " 'Thanks Mike! And thanks for all your input during this time - I hope to continue our conversations'\n",
      " 'Love you! ♥️'\n",
      " \"Thanks Stephan! I appreciate you ♥ I'm just happy to be able to spread some more good vibes!\"\n",
      " 'Thank u so much Yejiiii 💖💖💖' 'Thank you😊 you too 😘'\n",
      " 'Thank you! I’m glad!'\n",
      " \"It's what you've all been fighting so hard for! I'm so thrilled to see this happening - at last!\"\n",
      " \"The #buildinpublic community is so supportive, I'm so grateful 🙏\"\n",
      " 'Most welcome Kate. 🙏🙏'\n",
      " 'Thankyouuuuu soo muchhh 🥺❤️❤️❤️ iloveyouuu way more wallah ❤️❤️'\n",
      " 'Thank you 😘 🤗 💋 💋 💋 💋' 'please wish him ... He is your big fan ♥️'\n",
      " 'Share some Love for @user I hope you have a great day! ♥♥♥'\n",
      " 'good morning bestie have a wonderful day💕💕'\n",
      " 'You got here fast! Let’s make this a good one 🙌🏻☀️'\n",
      " 'No one can compare to you, you are literally everything to me 🤞🏻❤️'\n",
      " 'thank you dear i think the mission was a success'\n",
      " 'I watched this show from the day the pilot came out and all I have to say is the series finale was emotional, beautiful and perfect. Thank you ❤️ #TheBoldType'\n",
      " 'Thank you 4d FB🥰🥰🙏🙏🙏'\n",
      " 'What can you say to the new Hottest who are so lucky to have an opportunity to stan and support 2PM, a real legend? \\n\\nI love you, 2PM!!\\n#Ask2PM#TwitterBlueroom'\n",
      " 'Thank you Master ☺️'\n",
      " 'Congratulations! Thank you for choosing the M over S!'\n",
      " 'I am always with you ,take care dear friend,🙏✝️🕊🙋🏼\\u200d♀️🤗xxx'\n",
      " 'Jiminiee I love you so much 💗 always stay happy and healthy'\n",
      " 'yay thank u eva 🥺 @user'\n",
      " 'think is right. I will always support you\\n💐🌻 #CathyDollXGulf'\n",
      " 's/o to the people who trust my process of work, and caring enough to not only support but share my work 🥰'\n",
      " 'Thank you very much 😘 🤗 💋 💋 💋 💋 💋 💋 💋 💋 💋' 'thank you 🥺💙' 'Thank you 😊'\n",
      " 'thank you so much 🥺'\n",
      " 'Very intersting &amp;  as the team has been an inspiration in their innovative approaches towards achieving the project goals and visions , I am so glad to be part of this.\\n\\n@user \\n@user \\n@user'\n",
      " 'Great to see the area still in good hands. Well done Steve 😊'\n",
      " \"😭😭😭\\n Happy bday btw🙏❤️wishing you all the best and have a great week🎊🎉\\nDon't take things for granted btw\"\n",
      " 'Thank you🤧❤️'\n",
      " \"I'm good now though and I did manage to figure something out in the end. \\n\\nAnyhow, if you ever need anything please feel free to ask me too I'll do my best to help out! (And this goes to anyone reading this ^.^)\"\n",
      " 'Very well done everyone 🥳' 'so cute 😍🥺🥺 thank you'\n",
      " \"Great to see @user alum Jevon Cottoy back with the @user ! Can't wait for the @user season to start! 🏈🇨🇦\"\n",
      " 'Congrats. Wishing you the best of luck!' 'Thank you!'\n",
      " \"#Latoken gives you the opportunity to be great again. And it's easy to use platform and airdrops that comes with it gives it this uniqueness, don't you think it's high time you joined us\"\n",
      " 'very, very, very beautiful …   congrats …   f'\n",
      " \"Woohoo! That's our captain! Congrats on 6K man! 🔥🎉\" '🙏🙏🙏 Thank you'\n",
      " 'Yaa you are my brother 😻❤']\n"
     ]
    }
   ]
  },
  {
   "cell_type": "code",
   "source": [
    "print(np.array(list_sentences)[best_results_neutral])"
   ],
   "metadata": {
    "id": "0v3KYK4jglVI",
    "outputId": "65f84987-2f57-441a-d79a-863834d3c23a",
    "colab": {
     "base_uri": "https://localhost:8080/"
    },
    "pycharm": {
     "name": "#%%\n"
    }
   },
   "execution_count": 103,
   "outputs": [
    {
     "output_type": "stream",
     "name": "stdout",
     "text": [
      "[\"my brain 🍷🍷🍷🍷🍷🍷\\n\\nand i don't even drink\"\n",
      " 'Limps away with his tail between his legs!' 'I hate you! #MakiBot'\n",
      " 'So sexy'\n",
      " 'Joke of day... Pak government not able to pay interest of loan took fr china government..that why talking nonsense'\n",
      " 'damn moms said take the jersey off?' 'IM GONNA CRY STOP IT'\n",
      " 'I bought new shoes again. Who wants to get kicked?'\n",
      " 'Nostalgic fieldwork moments: \\n- crap I brought a notebook but forgot a pencil \\n- everyone very excited about cheap pastries eaten while driving to site\\n- 4pm onset of exhaustion giggles \\n- washing out muddy polyprops in the shower and then wearing them wet the next day'\n",
      " '... um . dont use an underage idol to spread hate messages . leave enhypen out of this . ni-ki should not be used to tell someone to off themselves . delete this .'\n",
      " 'I WILL DIE'\n",
      " 'i have to be up in 3 hours to get to the mf airport, can my body PLEASE let me sleep'\n",
      " 'Lock her up!!' 'i’m shaking so much' 'hyuka is txts god of destruction'\n",
      " 'reporting tweet, its extremly inappropriate'\n",
      " 'I wanna play Apex. I really have Apex on my mind wtf…'\n",
      " \"sorry i'm an anti-romantic\"\n",
      " 'Idk what 20yo man needs to hear this rn but liking kanye west is not a personality trait'\n",
      " 'Anytime after my 7:05 poo!'\n",
      " \"that ain't retro. it was 144p. we need 4k brudda\"\n",
      " 'The criminals are all united in the ANC.' 'SHUTTTT'\n",
      " 'i can hold a grudge till the day i die'\n",
      " 'He going to work at the gas station with a sore head the next morning'\n",
      " 'yoon jeonghan is a cartoon'\n",
      " 'Feeling a lil woozy from the love sickness. About to throw up in 3.. 2.. 1.. blast off lol.'\n",
      " 'I need to do laundry alternatively I could just rot away to dust'\n",
      " 'At this point we should all vacate Kenya and leave it as a waste land, we have zero morals or values left.'\n",
      " 'Ex-bitter and twisted Press Officer at his bitter finest 🙄'\n",
      " 'Uhlmann a bit pissed off with Labour for dumping his wife. Revenge is a dish served cold.'\n",
      " 'Then your source is wrong - Shall we have some Heterosexual crossings? Er?\\n“I’m a man. I like having sex with women. I have no desire to dress like a woman or be addressed as a plural”.\\nBeauty of this is cost. One word interchangeable (man/woman) &amp; only 2 paint colours required'\n",
      " 'pls now nothing is more intersting than a boy talking abt the weather and eating stir fried pork. i wouldnt miss this for the world'\n",
      " \"‘social anxiety’ term is inaccurate as hell. like, I have a fear of spiders und… uh, some particular, let's say, mildly traumatic experience. do I feel fear in situations like these? yes, I do, and I understand how it feels in general. but regarding my social experience? is this\"\n",
      " 'Got 478 likes on a tweet dedicated to dead children I shouldn’t be getting surprised by this anymore'\n",
      " 'Teeth' 'This guy needs to quit wasting my time and buy my sprinter! 😡'\n",
      " 'giving a man who luvs to smoke a bouquet of weed + backwoods sounds fire'\n",
      " 'Same! Absolutely horrific they can treat someone like this legally.'\n",
      " 'Guys chill we got better things to do than touch grass'\n",
      " 'Web App is even worse' 'If I die I die 😩'\n",
      " 'I realized today I suck at studying. I can only look at material for so long until I get bored with it &amp; I won’t touch it again.'\n",
      " 'Why do these people forget that all these initiatives were started by congress and these guys are merely laying the last mile cable or changing names and taking credit, like a dog walking under the cart thinking that it is the dog that is supporting the cart,'\n",
      " 'That sounds like a punk song “Chicago House Plants Detachment”'\n",
      " 'Nobody makes banger tweets anymore. Shame.'\n",
      " 'We’re all going to Jail at this rate 🤡'\n",
      " 'Even if they didn’t exploit people to acquire their riches, how are you gonna be okay literally wasting thousands and thousands of dollars while there are still people who are homeless? While there are people skipping life saving medical treatments bc of the cost?'\n",
      " 'Damn, now that I think about it🤔🤔CP3 looking a little better than some of them cats.....#PointGodCP3'\n",
      " 'This is just furry and 100 gecs']\n"
     ]
    }
   ]
  },
  {
   "cell_type": "markdown",
   "source": [
    "We see here some interesting elements. The positives values are all about cheering or congrats other peoples. About offensive , we have a lot differents things, and they are not necessarily considered as \"offensive\". We have the example of pain. We see a lot of content about curse word, and a lot of poor languages. A few of them are really call as \"offensive\"."
   ],
   "metadata": {
    "id": "t78NnCj_oM_e",
    "pycharm": {
     "name": "#%% md\n"
    }
   }
  },
  {
   "cell_type": "markdown",
   "source": [],
   "metadata": {
    "id": "DTlmMOYEojN4",
    "pycharm": {
     "name": "#%% md\n"
    }
   }
  }
 ],
 "metadata": {
  "kernelspec": {
   "display_name": "Python 3",
   "language": "python",
   "name": "python3"
  },
  "language_info": {
   "codemirror_mode": {
    "name": "ipython",
    "version": 2
   },
   "file_extension": ".py",
   "mimetype": "text/x-python",
   "name": "python",
   "nbconvert_exporter": "python",
   "pygments_lexer": "ipython2",
   "version": "2.7.6"
  },
  "colab": {
   "provenance": []
  },
  "accelerator": "GPU",
  "gpuClass": "standard",
  "widgets": {
   "application/vnd.jupyter.widget-state+json": {
    "076f7660870f4afd8b1d6bfa36d025fe": {
     "model_module": "@jupyter-widgets/controls",
     "model_name": "HBoxModel",
     "model_module_version": "1.5.0",
     "state": {
      "_dom_classes": [],
      "_model_module": "@jupyter-widgets/controls",
      "_model_module_version": "1.5.0",
      "_model_name": "HBoxModel",
      "_view_count": null,
      "_view_module": "@jupyter-widgets/controls",
      "_view_module_version": "1.5.0",
      "_view_name": "HBoxView",
      "box_style": "",
      "children": [
       "IPY_MODEL_3bf04eb6d2654ce19d61578d04a71c67",
       "IPY_MODEL_bf9bb24a885546d6a74819d294dd79a5",
       "IPY_MODEL_589cb35b232c4b19a5b38f7d0cbc278d"
      ],
      "layout": "IPY_MODEL_c2b2e5914d954a4ca5662be65b1d02f3"
     }
    },
    "3bf04eb6d2654ce19d61578d04a71c67": {
     "model_module": "@jupyter-widgets/controls",
     "model_name": "HTMLModel",
     "model_module_version": "1.5.0",
     "state": {
      "_dom_classes": [],
      "_model_module": "@jupyter-widgets/controls",
      "_model_module_version": "1.5.0",
      "_model_name": "HTMLModel",
      "_view_count": null,
      "_view_module": "@jupyter-widgets/controls",
      "_view_module_version": "1.5.0",
      "_view_name": "HTMLView",
      "description": "",
      "description_tooltip": null,
      "layout": "IPY_MODEL_a5868316a8f34dad92160835bda25d95",
      "placeholder": "​",
      "style": "IPY_MODEL_478b57ca6ea4407b8bb0f4a52232ba3e",
      "value": "100%"
     }
    },
    "bf9bb24a885546d6a74819d294dd79a5": {
     "model_module": "@jupyter-widgets/controls",
     "model_name": "FloatProgressModel",
     "model_module_version": "1.5.0",
     "state": {
      "_dom_classes": [],
      "_model_module": "@jupyter-widgets/controls",
      "_model_module_version": "1.5.0",
      "_model_name": "FloatProgressModel",
      "_view_count": null,
      "_view_module": "@jupyter-widgets/controls",
      "_view_module_version": "1.5.0",
      "_view_name": "ProgressView",
      "bar_style": "success",
      "description": "",
      "description_tooltip": null,
      "layout": "IPY_MODEL_ee99b59ed68842b69313f7aa4b7c03f6",
      "max": 3,
      "min": 0,
      "orientation": "horizontal",
      "style": "IPY_MODEL_4dee5c984ae64afb84e38715e2d3b57e",
      "value": 3
     }
    },
    "589cb35b232c4b19a5b38f7d0cbc278d": {
     "model_module": "@jupyter-widgets/controls",
     "model_name": "HTMLModel",
     "model_module_version": "1.5.0",
     "state": {
      "_dom_classes": [],
      "_model_module": "@jupyter-widgets/controls",
      "_model_module_version": "1.5.0",
      "_model_name": "HTMLModel",
      "_view_count": null,
      "_view_module": "@jupyter-widgets/controls",
      "_view_module_version": "1.5.0",
      "_view_name": "HTMLView",
      "description": "",
      "description_tooltip": null,
      "layout": "IPY_MODEL_ecef254a621f4957891f1657037b08f3",
      "placeholder": "​",
      "style": "IPY_MODEL_e2d98c1d82574c499eddfd01695fc0ac",
      "value": " 3/3 [00:00&lt;00:00, 37.13it/s]"
     }
    },
    "c2b2e5914d954a4ca5662be65b1d02f3": {
     "model_module": "@jupyter-widgets/base",
     "model_name": "LayoutModel",
     "model_module_version": "1.2.0",
     "state": {
      "_model_module": "@jupyter-widgets/base",
      "_model_module_version": "1.2.0",
      "_model_name": "LayoutModel",
      "_view_count": null,
      "_view_module": "@jupyter-widgets/base",
      "_view_module_version": "1.2.0",
      "_view_name": "LayoutView",
      "align_content": null,
      "align_items": null,
      "align_self": null,
      "border": null,
      "bottom": null,
      "display": null,
      "flex": null,
      "flex_flow": null,
      "grid_area": null,
      "grid_auto_columns": null,
      "grid_auto_flow": null,
      "grid_auto_rows": null,
      "grid_column": null,
      "grid_gap": null,
      "grid_row": null,
      "grid_template_areas": null,
      "grid_template_columns": null,
      "grid_template_rows": null,
      "height": null,
      "justify_content": null,
      "justify_items": null,
      "left": null,
      "margin": null,
      "max_height": null,
      "max_width": null,
      "min_height": null,
      "min_width": null,
      "object_fit": null,
      "object_position": null,
      "order": null,
      "overflow": null,
      "overflow_x": null,
      "overflow_y": null,
      "padding": null,
      "right": null,
      "top": null,
      "visibility": null,
      "width": null
     }
    },
    "a5868316a8f34dad92160835bda25d95": {
     "model_module": "@jupyter-widgets/base",
     "model_name": "LayoutModel",
     "model_module_version": "1.2.0",
     "state": {
      "_model_module": "@jupyter-widgets/base",
      "_model_module_version": "1.2.0",
      "_model_name": "LayoutModel",
      "_view_count": null,
      "_view_module": "@jupyter-widgets/base",
      "_view_module_version": "1.2.0",
      "_view_name": "LayoutView",
      "align_content": null,
      "align_items": null,
      "align_self": null,
      "border": null,
      "bottom": null,
      "display": null,
      "flex": null,
      "flex_flow": null,
      "grid_area": null,
      "grid_auto_columns": null,
      "grid_auto_flow": null,
      "grid_auto_rows": null,
      "grid_column": null,
      "grid_gap": null,
      "grid_row": null,
      "grid_template_areas": null,
      "grid_template_columns": null,
      "grid_template_rows": null,
      "height": null,
      "justify_content": null,
      "justify_items": null,
      "left": null,
      "margin": null,
      "max_height": null,
      "max_width": null,
      "min_height": null,
      "min_width": null,
      "object_fit": null,
      "object_position": null,
      "order": null,
      "overflow": null,
      "overflow_x": null,
      "overflow_y": null,
      "padding": null,
      "right": null,
      "top": null,
      "visibility": null,
      "width": null
     }
    },
    "478b57ca6ea4407b8bb0f4a52232ba3e": {
     "model_module": "@jupyter-widgets/controls",
     "model_name": "DescriptionStyleModel",
     "model_module_version": "1.5.0",
     "state": {
      "_model_module": "@jupyter-widgets/controls",
      "_model_module_version": "1.5.0",
      "_model_name": "DescriptionStyleModel",
      "_view_count": null,
      "_view_module": "@jupyter-widgets/base",
      "_view_module_version": "1.2.0",
      "_view_name": "StyleView",
      "description_width": ""
     }
    },
    "ee99b59ed68842b69313f7aa4b7c03f6": {
     "model_module": "@jupyter-widgets/base",
     "model_name": "LayoutModel",
     "model_module_version": "1.2.0",
     "state": {
      "_model_module": "@jupyter-widgets/base",
      "_model_module_version": "1.2.0",
      "_model_name": "LayoutModel",
      "_view_count": null,
      "_view_module": "@jupyter-widgets/base",
      "_view_module_version": "1.2.0",
      "_view_name": "LayoutView",
      "align_content": null,
      "align_items": null,
      "align_self": null,
      "border": null,
      "bottom": null,
      "display": null,
      "flex": null,
      "flex_flow": null,
      "grid_area": null,
      "grid_auto_columns": null,
      "grid_auto_flow": null,
      "grid_auto_rows": null,
      "grid_column": null,
      "grid_gap": null,
      "grid_row": null,
      "grid_template_areas": null,
      "grid_template_columns": null,
      "grid_template_rows": null,
      "height": null,
      "justify_content": null,
      "justify_items": null,
      "left": null,
      "margin": null,
      "max_height": null,
      "max_width": null,
      "min_height": null,
      "min_width": null,
      "object_fit": null,
      "object_position": null,
      "order": null,
      "overflow": null,
      "overflow_x": null,
      "overflow_y": null,
      "padding": null,
      "right": null,
      "top": null,
      "visibility": null,
      "width": null
     }
    },
    "4dee5c984ae64afb84e38715e2d3b57e": {
     "model_module": "@jupyter-widgets/controls",
     "model_name": "ProgressStyleModel",
     "model_module_version": "1.5.0",
     "state": {
      "_model_module": "@jupyter-widgets/controls",
      "_model_module_version": "1.5.0",
      "_model_name": "ProgressStyleModel",
      "_view_count": null,
      "_view_module": "@jupyter-widgets/base",
      "_view_module_version": "1.2.0",
      "_view_name": "StyleView",
      "bar_color": null,
      "description_width": ""
     }
    },
    "ecef254a621f4957891f1657037b08f3": {
     "model_module": "@jupyter-widgets/base",
     "model_name": "LayoutModel",
     "model_module_version": "1.2.0",
     "state": {
      "_model_module": "@jupyter-widgets/base",
      "_model_module_version": "1.2.0",
      "_model_name": "LayoutModel",
      "_view_count": null,
      "_view_module": "@jupyter-widgets/base",
      "_view_module_version": "1.2.0",
      "_view_name": "LayoutView",
      "align_content": null,
      "align_items": null,
      "align_self": null,
      "border": null,
      "bottom": null,
      "display": null,
      "flex": null,
      "flex_flow": null,
      "grid_area": null,
      "grid_auto_columns": null,
      "grid_auto_flow": null,
      "grid_auto_rows": null,
      "grid_column": null,
      "grid_gap": null,
      "grid_row": null,
      "grid_template_areas": null,
      "grid_template_columns": null,
      "grid_template_rows": null,
      "height": null,
      "justify_content": null,
      "justify_items": null,
      "left": null,
      "margin": null,
      "max_height": null,
      "max_width": null,
      "min_height": null,
      "min_width": null,
      "object_fit": null,
      "object_position": null,
      "order": null,
      "overflow": null,
      "overflow_x": null,
      "overflow_y": null,
      "padding": null,
      "right": null,
      "top": null,
      "visibility": null,
      "width": null
     }
    },
    "e2d98c1d82574c499eddfd01695fc0ac": {
     "model_module": "@jupyter-widgets/controls",
     "model_name": "DescriptionStyleModel",
     "model_module_version": "1.5.0",
     "state": {
      "_model_module": "@jupyter-widgets/controls",
      "_model_module_version": "1.5.0",
      "_model_name": "DescriptionStyleModel",
      "_view_count": null,
      "_view_module": "@jupyter-widgets/base",
      "_view_module_version": "1.2.0",
      "_view_name": "StyleView",
      "description_width": ""
     }
    }
   }
  }
 },
 "nbformat": 4,
 "nbformat_minor": 0
}