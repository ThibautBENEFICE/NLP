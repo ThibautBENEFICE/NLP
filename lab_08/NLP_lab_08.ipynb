{
 "cells": [
  {
   "cell_type": "markdown",
   "source": [
    "**NLP LAB 09**"
   ],
   "metadata": {
    "collapsed": false,
    "pycharm": {
     "name": "#%% md\n"
    }
   }
  },
  {
   "cell_type": "markdown",
   "source": [
    "The best dataset to choose is offensive. Indeed, haste is a dataset about comment that disrespect a social or a group of person, but it can be a point of view, when the offensive dataset is about insult someone.\n",
    "\n",
    "The best would be taking both dataset."
   ],
   "metadata": {
    "collapsed": false,
    "pycharm": {
     "name": "#%% md\n"
    }
   }
  },
  {
   "cell_type": "code",
   "execution_count": 34,
   "outputs": [
    {
     "name": "stdout",
     "output_type": "stream",
     "text": [
      "huggingface/tokenizers: The current process just got forked, after parallelism has already been used. Disabling parallelism to avoid deadlocks...\n",
      "To disable this warning, you can either:\n",
      "\t- Avoid using `tokenizers` before the fork if possible\n",
      "\t- Explicitly set the environment variable TOKENIZERS_PARALLELISM=(true | false)\n",
      "Requirement already satisfied: datasets in /home/victor/travail_epita/venv_epita/lib/python3.8/site-packages (2.7.0)\r\n",
      "Requirement already satisfied: dill<0.3.7 in /home/victor/travail_epita/venv_epita/lib/python3.8/site-packages (from datasets) (0.3.6)\r\n",
      "Requirement already satisfied: aiohttp in /home/victor/travail_epita/venv_epita/lib/python3.8/site-packages (from datasets) (3.8.3)\r\n",
      "Requirement already satisfied: packaging in /home/victor/travail_epita/venv_epita/lib/python3.8/site-packages (from datasets) (21.3)\r\n",
      "Requirement already satisfied: fsspec[http]>=2021.11.1 in /home/victor/travail_epita/venv_epita/lib/python3.8/site-packages (from datasets) (2022.11.0)\r\n",
      "Requirement already satisfied: numpy>=1.17 in /home/victor/travail_epita/venv_epita/lib/python3.8/site-packages (from datasets) (1.23.5)\r\n",
      "Requirement already satisfied: multiprocess in /home/victor/travail_epita/venv_epita/lib/python3.8/site-packages (from datasets) (0.70.14)\r\n",
      "Requirement already satisfied: huggingface-hub<1.0.0,>=0.2.0 in /home/victor/travail_epita/venv_epita/lib/python3.8/site-packages (from datasets) (0.11.0)\r\n",
      "Requirement already satisfied: pyyaml>=5.1 in /home/victor/travail_epita/venv_epita/lib/python3.8/site-packages (from datasets) (5.4.1)\r\n",
      "Requirement already satisfied: tqdm>=4.62.1 in /home/victor/travail_epita/venv_epita/lib/python3.8/site-packages (from datasets) (4.64.1)\r\n",
      "Requirement already satisfied: xxhash in /home/victor/travail_epita/venv_epita/lib/python3.8/site-packages (from datasets) (3.1.0)\r\n",
      "Requirement already satisfied: pyarrow>=6.0.0 in /home/victor/travail_epita/venv_epita/lib/python3.8/site-packages (from datasets) (10.0.0)\r\n",
      "Requirement already satisfied: responses<0.19 in /home/victor/travail_epita/venv_epita/lib/python3.8/site-packages (from datasets) (0.18.0)\r\n",
      "Requirement already satisfied: requests>=2.19.0 in /home/victor/travail_epita/venv_epita/lib/python3.8/site-packages (from datasets) (2.28.1)\r\n",
      "Requirement already satisfied: pandas in /home/victor/travail_epita/venv_epita/lib/python3.8/site-packages (from datasets) (1.5.1)\r\n",
      "Requirement already satisfied: charset-normalizer<3.0,>=2.0 in /home/victor/travail_epita/venv_epita/lib/python3.8/site-packages (from aiohttp->datasets) (2.1.1)\r\n",
      "Requirement already satisfied: async-timeout<5.0,>=4.0.0a3 in /home/victor/travail_epita/venv_epita/lib/python3.8/site-packages (from aiohttp->datasets) (4.0.2)\r\n",
      "Requirement already satisfied: frozenlist>=1.1.1 in /home/victor/travail_epita/venv_epita/lib/python3.8/site-packages (from aiohttp->datasets) (1.3.3)\r\n",
      "Requirement already satisfied: multidict<7.0,>=4.5 in /home/victor/travail_epita/venv_epita/lib/python3.8/site-packages (from aiohttp->datasets) (6.0.2)\r\n",
      "Requirement already satisfied: attrs>=17.3.0 in /home/victor/travail_epita/venv_epita/lib/python3.8/site-packages (from aiohttp->datasets) (22.1.0)\r\n",
      "Requirement already satisfied: aiosignal>=1.1.2 in /home/victor/travail_epita/venv_epita/lib/python3.8/site-packages (from aiohttp->datasets) (1.3.1)\r\n",
      "Requirement already satisfied: yarl<2.0,>=1.0 in /home/victor/travail_epita/venv_epita/lib/python3.8/site-packages (from aiohttp->datasets) (1.8.1)\r\n",
      "Requirement already satisfied: filelock in /home/victor/travail_epita/venv_epita/lib/python3.8/site-packages (from huggingface-hub<1.0.0,>=0.2.0->datasets) (3.8.0)\r\n",
      "Requirement already satisfied: typing-extensions>=3.7.4.3 in /home/victor/travail_epita/venv_epita/lib/python3.8/site-packages (from huggingface-hub<1.0.0,>=0.2.0->datasets) (4.4.0)\r\n",
      "Requirement already satisfied: pyparsing!=3.0.5,>=2.0.2 in /home/victor/travail_epita/venv_epita/lib/python3.8/site-packages (from packaging->datasets) (3.0.9)\r\n",
      "Requirement already satisfied: urllib3<1.27,>=1.21.1 in /home/victor/travail_epita/venv_epita/lib/python3.8/site-packages (from requests>=2.19.0->datasets) (1.26.12)\r\n",
      "Requirement already satisfied: idna<4,>=2.5 in /home/victor/travail_epita/venv_epita/lib/python3.8/site-packages (from requests>=2.19.0->datasets) (3.4)\r\n",
      "Requirement already satisfied: certifi>=2017.4.17 in /home/victor/travail_epita/venv_epita/lib/python3.8/site-packages (from requests>=2.19.0->datasets) (2022.9.24)\r\n",
      "Requirement already satisfied: pytz>=2020.1 in /home/victor/travail_epita/venv_epita/lib/python3.8/site-packages (from pandas->datasets) (2022.6)\r\n",
      "Requirement already satisfied: python-dateutil>=2.8.1 in /home/victor/travail_epita/venv_epita/lib/python3.8/site-packages (from pandas->datasets) (2.8.2)\r\n",
      "Requirement already satisfied: six>=1.5 in /home/victor/travail_epita/venv_epita/lib/python3.8/site-packages (from python-dateutil>=2.8.1->pandas->datasets) (1.16.0)\r\n",
      "huggingface/tokenizers: The current process just got forked, after parallelism has already been used. Disabling parallelism to avoid deadlocks...\n",
      "To disable this warning, you can either:\n",
      "\t- Avoid using `tokenizers` before the fork if possible\n",
      "\t- Explicitly set the environment variable TOKENIZERS_PARALLELISM=(true | false)\n",
      "Requirement already satisfied: bertopic in /home/victor/travail_epita/venv_epita/lib/python3.8/site-packages (0.12.0)\r\n",
      "Requirement already satisfied: umap-learn>=0.5.0 in /home/victor/travail_epita/venv_epita/lib/python3.8/site-packages (from bertopic) (0.5.3)\r\n",
      "Requirement already satisfied: hdbscan>=0.8.28 in /home/victor/travail_epita/venv_epita/lib/python3.8/site-packages (from bertopic) (0.8.29)\r\n",
      "Requirement already satisfied: pyyaml<6.0 in /home/victor/travail_epita/venv_epita/lib/python3.8/site-packages (from bertopic) (5.4.1)\r\n",
      "Requirement already satisfied: tqdm>=4.41.1 in /home/victor/travail_epita/venv_epita/lib/python3.8/site-packages (from bertopic) (4.64.1)\r\n",
      "Requirement already satisfied: plotly>=4.7.0 in /home/victor/travail_epita/venv_epita/lib/python3.8/site-packages (from bertopic) (5.11.0)\r\n",
      "Requirement already satisfied: pandas>=1.1.5 in /home/victor/travail_epita/venv_epita/lib/python3.8/site-packages (from bertopic) (1.5.1)\r\n",
      "Requirement already satisfied: sentence-transformers>=0.4.1 in /home/victor/travail_epita/venv_epita/lib/python3.8/site-packages (from bertopic) (2.2.2)\r\n",
      "Requirement already satisfied: scikit-learn>=0.22.2.post1 in /home/victor/travail_epita/venv_epita/lib/python3.8/site-packages (from bertopic) (1.1.3)\r\n",
      "Requirement already satisfied: numpy>=1.20.0 in /home/victor/travail_epita/venv_epita/lib/python3.8/site-packages (from bertopic) (1.23.5)\r\n",
      "Requirement already satisfied: joblib>=1.0 in /home/victor/travail_epita/venv_epita/lib/python3.8/site-packages (from hdbscan>=0.8.28->bertopic) (1.2.0)\r\n",
      "Requirement already satisfied: scipy>=1.0 in /home/victor/travail_epita/venv_epita/lib/python3.8/site-packages (from hdbscan>=0.8.28->bertopic) (1.9.3)\r\n",
      "Requirement already satisfied: cython>=0.27 in /home/victor/travail_epita/venv_epita/lib/python3.8/site-packages (from hdbscan>=0.8.28->bertopic) (0.29.32)\r\n",
      "Requirement already satisfied: python-dateutil>=2.8.1 in /home/victor/travail_epita/venv_epita/lib/python3.8/site-packages (from pandas>=1.1.5->bertopic) (2.8.2)\r\n",
      "Requirement already satisfied: pytz>=2020.1 in /home/victor/travail_epita/venv_epita/lib/python3.8/site-packages (from pandas>=1.1.5->bertopic) (2022.6)\r\n",
      "Requirement already satisfied: tenacity>=6.2.0 in /home/victor/travail_epita/venv_epita/lib/python3.8/site-packages (from plotly>=4.7.0->bertopic) (8.1.0)\r\n",
      "Requirement already satisfied: threadpoolctl>=2.0.0 in /home/victor/travail_epita/venv_epita/lib/python3.8/site-packages (from scikit-learn>=0.22.2.post1->bertopic) (3.1.0)\r\n",
      "Requirement already satisfied: torchvision in /home/victor/travail_epita/venv_epita/lib/python3.8/site-packages (from sentence-transformers>=0.4.1->bertopic) (0.14.0)\r\n",
      "Requirement already satisfied: nltk in /home/victor/travail_epita/venv_epita/lib/python3.8/site-packages (from sentence-transformers>=0.4.1->bertopic) (3.7)\r\n",
      "Requirement already satisfied: sentencepiece in /home/victor/travail_epita/venv_epita/lib/python3.8/site-packages (from sentence-transformers>=0.4.1->bertopic) (0.1.97)\r\n",
      "Requirement already satisfied: torch>=1.6.0 in /home/victor/travail_epita/venv_epita/lib/python3.8/site-packages (from sentence-transformers>=0.4.1->bertopic) (1.13.0)\r\n",
      "Requirement already satisfied: transformers<5.0.0,>=4.6.0 in /home/victor/travail_epita/venv_epita/lib/python3.8/site-packages (from sentence-transformers>=0.4.1->bertopic) (4.24.0)\r\n",
      "Requirement already satisfied: huggingface-hub>=0.4.0 in /home/victor/travail_epita/venv_epita/lib/python3.8/site-packages (from sentence-transformers>=0.4.1->bertopic) (0.11.0)\r\n",
      "Requirement already satisfied: numba>=0.49 in /home/victor/travail_epita/venv_epita/lib/python3.8/site-packages (from umap-learn>=0.5.0->bertopic) (0.56.4)\r\n",
      "Requirement already satisfied: pynndescent>=0.5 in /home/victor/travail_epita/venv_epita/lib/python3.8/site-packages (from umap-learn>=0.5.0->bertopic) (0.5.8)\r\n",
      "Requirement already satisfied: packaging>=20.9 in /home/victor/travail_epita/venv_epita/lib/python3.8/site-packages (from huggingface-hub>=0.4.0->sentence-transformers>=0.4.1->bertopic) (21.3)\r\n",
      "Requirement already satisfied: typing-extensions>=3.7.4.3 in /home/victor/travail_epita/venv_epita/lib/python3.8/site-packages (from huggingface-hub>=0.4.0->sentence-transformers>=0.4.1->bertopic) (4.4.0)\r\n",
      "Requirement already satisfied: requests in /home/victor/travail_epita/venv_epita/lib/python3.8/site-packages (from huggingface-hub>=0.4.0->sentence-transformers>=0.4.1->bertopic) (2.28.1)\r\n",
      "Requirement already satisfied: filelock in /home/victor/travail_epita/venv_epita/lib/python3.8/site-packages (from huggingface-hub>=0.4.0->sentence-transformers>=0.4.1->bertopic) (3.8.0)\r\n",
      "Requirement already satisfied: setuptools in /home/victor/travail_epita/venv_epita/lib/python3.8/site-packages (from numba>=0.49->umap-learn>=0.5.0->bertopic) (44.0.0)\r\n",
      "Requirement already satisfied: importlib-metadata in /home/victor/travail_epita/venv_epita/lib/python3.8/site-packages (from numba>=0.49->umap-learn>=0.5.0->bertopic) (5.0.0)\r\n",
      "Requirement already satisfied: llvmlite<0.40,>=0.39.0dev0 in /home/victor/travail_epita/venv_epita/lib/python3.8/site-packages (from numba>=0.49->umap-learn>=0.5.0->bertopic) (0.39.1)\r\n",
      "Requirement already satisfied: six>=1.5 in /home/victor/travail_epita/venv_epita/lib/python3.8/site-packages (from python-dateutil>=2.8.1->pandas>=1.1.5->bertopic) (1.16.0)\r\n",
      "Requirement already satisfied: nvidia-cuda-nvrtc-cu11==11.7.99 in /home/victor/travail_epita/venv_epita/lib/python3.8/site-packages (from torch>=1.6.0->sentence-transformers>=0.4.1->bertopic) (11.7.99)\r\n",
      "Requirement already satisfied: nvidia-cudnn-cu11==8.5.0.96 in /home/victor/travail_epita/venv_epita/lib/python3.8/site-packages (from torch>=1.6.0->sentence-transformers>=0.4.1->bertopic) (8.5.0.96)\r\n",
      "Requirement already satisfied: nvidia-cuda-runtime-cu11==11.7.99 in /home/victor/travail_epita/venv_epita/lib/python3.8/site-packages (from torch>=1.6.0->sentence-transformers>=0.4.1->bertopic) (11.7.99)\r\n",
      "Requirement already satisfied: nvidia-cublas-cu11==11.10.3.66 in /home/victor/travail_epita/venv_epita/lib/python3.8/site-packages (from torch>=1.6.0->sentence-transformers>=0.4.1->bertopic) (11.10.3.66)\r\n",
      "Requirement already satisfied: wheel in /home/victor/travail_epita/venv_epita/lib/python3.8/site-packages (from nvidia-cublas-cu11==11.10.3.66->torch>=1.6.0->sentence-transformers>=0.4.1->bertopic) (0.38.4)\r\n",
      "Requirement already satisfied: tokenizers!=0.11.3,<0.14,>=0.11.1 in /home/victor/travail_epita/venv_epita/lib/python3.8/site-packages (from transformers<5.0.0,>=4.6.0->sentence-transformers>=0.4.1->bertopic) (0.13.2)\r\n",
      "Requirement already satisfied: regex!=2019.12.17 in /home/victor/travail_epita/venv_epita/lib/python3.8/site-packages (from transformers<5.0.0,>=4.6.0->sentence-transformers>=0.4.1->bertopic) (2022.10.31)\r\n",
      "Requirement already satisfied: click in /home/victor/travail_epita/venv_epita/lib/python3.8/site-packages (from nltk->sentence-transformers>=0.4.1->bertopic) (8.1.3)\r\n",
      "Requirement already satisfied: pillow!=8.3.*,>=5.3.0 in /home/victor/travail_epita/venv_epita/lib/python3.8/site-packages (from torchvision->sentence-transformers>=0.4.1->bertopic) (9.3.0)\r\n",
      "Requirement already satisfied: pyparsing!=3.0.5,>=2.0.2 in /home/victor/travail_epita/venv_epita/lib/python3.8/site-packages (from packaging>=20.9->huggingface-hub>=0.4.0->sentence-transformers>=0.4.1->bertopic) (3.0.9)\r\n",
      "Requirement already satisfied: zipp>=0.5 in /home/victor/travail_epita/venv_epita/lib/python3.8/site-packages (from importlib-metadata->numba>=0.49->umap-learn>=0.5.0->bertopic) (3.10.0)\r\n",
      "Requirement already satisfied: certifi>=2017.4.17 in /home/victor/travail_epita/venv_epita/lib/python3.8/site-packages (from requests->huggingface-hub>=0.4.0->sentence-transformers>=0.4.1->bertopic) (2022.9.24)\r\n",
      "Requirement already satisfied: charset-normalizer<3,>=2 in /home/victor/travail_epita/venv_epita/lib/python3.8/site-packages (from requests->huggingface-hub>=0.4.0->sentence-transformers>=0.4.1->bertopic) (2.1.1)\r\n",
      "Requirement already satisfied: urllib3<1.27,>=1.21.1 in /home/victor/travail_epita/venv_epita/lib/python3.8/site-packages (from requests->huggingface-hub>=0.4.0->sentence-transformers>=0.4.1->bertopic) (1.26.12)\r\n",
      "Requirement already satisfied: idna<4,>=2.5 in /home/victor/travail_epita/venv_epita/lib/python3.8/site-packages (from requests->huggingface-hub>=0.4.0->sentence-transformers>=0.4.1->bertopic) (3.4)\r\n",
      "huggingface/tokenizers: The current process just got forked, after parallelism has already been used. Disabling parallelism to avoid deadlocks...\n",
      "To disable this warning, you can either:\n",
      "\t- Avoid using `tokenizers` before the fork if possible\n",
      "\t- Explicitly set the environment variable TOKENIZERS_PARALLELISM=(true | false)\n",
      "Requirement already satisfied: torch in /home/victor/travail_epita/venv_epita/lib/python3.8/site-packages (1.13.0)\r\n",
      "Requirement already satisfied: nvidia-cublas-cu11==11.10.3.66 in /home/victor/travail_epita/venv_epita/lib/python3.8/site-packages (from torch) (11.10.3.66)\r\n",
      "Requirement already satisfied: typing-extensions in /home/victor/travail_epita/venv_epita/lib/python3.8/site-packages (from torch) (4.4.0)\r\n",
      "Requirement already satisfied: nvidia-cuda-nvrtc-cu11==11.7.99 in /home/victor/travail_epita/venv_epita/lib/python3.8/site-packages (from torch) (11.7.99)\r\n",
      "Requirement already satisfied: nvidia-cuda-runtime-cu11==11.7.99 in /home/victor/travail_epita/venv_epita/lib/python3.8/site-packages (from torch) (11.7.99)\r\n",
      "Requirement already satisfied: nvidia-cudnn-cu11==8.5.0.96 in /home/victor/travail_epita/venv_epita/lib/python3.8/site-packages (from torch) (8.5.0.96)\r\n",
      "Requirement already satisfied: wheel in /home/victor/travail_epita/venv_epita/lib/python3.8/site-packages (from nvidia-cublas-cu11==11.10.3.66->torch) (0.38.4)\r\n",
      "Requirement already satisfied: setuptools in /home/victor/travail_epita/venv_epita/lib/python3.8/site-packages (from nvidia-cublas-cu11==11.10.3.66->torch) (44.0.0)\r\n",
      "huggingface/tokenizers: The current process just got forked, after parallelism has already been used. Disabling parallelism to avoid deadlocks...\n",
      "To disable this warning, you can either:\n",
      "\t- Avoid using `tokenizers` before the fork if possible\n",
      "\t- Explicitly set the environment variable TOKENIZERS_PARALLELISM=(true | false)\n",
      "Requirement already satisfied: transformers in /home/victor/travail_epita/venv_epita/lib/python3.8/site-packages (4.24.0)\r\n",
      "Requirement already satisfied: pyyaml>=5.1 in /home/victor/travail_epita/venv_epita/lib/python3.8/site-packages (from transformers) (5.4.1)\r\n",
      "Requirement already satisfied: numpy>=1.17 in /home/victor/travail_epita/venv_epita/lib/python3.8/site-packages (from transformers) (1.23.5)\r\n",
      "Requirement already satisfied: requests in /home/victor/travail_epita/venv_epita/lib/python3.8/site-packages (from transformers) (2.28.1)\r\n",
      "Requirement already satisfied: huggingface-hub<1.0,>=0.10.0 in /home/victor/travail_epita/venv_epita/lib/python3.8/site-packages (from transformers) (0.11.0)\r\n",
      "Requirement already satisfied: packaging>=20.0 in /home/victor/travail_epita/venv_epita/lib/python3.8/site-packages (from transformers) (21.3)\r\n",
      "Requirement already satisfied: tokenizers!=0.11.3,<0.14,>=0.11.1 in /home/victor/travail_epita/venv_epita/lib/python3.8/site-packages (from transformers) (0.13.2)\r\n",
      "Requirement already satisfied: filelock in /home/victor/travail_epita/venv_epita/lib/python3.8/site-packages (from transformers) (3.8.0)\r\n",
      "Requirement already satisfied: tqdm>=4.27 in /home/victor/travail_epita/venv_epita/lib/python3.8/site-packages (from transformers) (4.64.1)\r\n",
      "Requirement already satisfied: regex!=2019.12.17 in /home/victor/travail_epita/venv_epita/lib/python3.8/site-packages (from transformers) (2022.10.31)\r\n",
      "Requirement already satisfied: typing-extensions>=3.7.4.3 in /home/victor/travail_epita/venv_epita/lib/python3.8/site-packages (from huggingface-hub<1.0,>=0.10.0->transformers) (4.4.0)\r\n",
      "Requirement already satisfied: pyparsing!=3.0.5,>=2.0.2 in /home/victor/travail_epita/venv_epita/lib/python3.8/site-packages (from packaging>=20.0->transformers) (3.0.9)\r\n",
      "Requirement already satisfied: certifi>=2017.4.17 in /home/victor/travail_epita/venv_epita/lib/python3.8/site-packages (from requests->transformers) (2022.9.24)\r\n",
      "Requirement already satisfied: urllib3<1.27,>=1.21.1 in /home/victor/travail_epita/venv_epita/lib/python3.8/site-packages (from requests->transformers) (1.26.12)\r\n",
      "Requirement already satisfied: charset-normalizer<3,>=2 in /home/victor/travail_epita/venv_epita/lib/python3.8/site-packages (from requests->transformers) (2.1.1)\r\n",
      "Requirement already satisfied: idna<4,>=2.5 in /home/victor/travail_epita/venv_epita/lib/python3.8/site-packages (from requests->transformers) (3.4)\r\n"
     ]
    }
   ],
   "source": [
    "!pip install datasets\n",
    "!pip install bertopic\n",
    "!pip install torch\n",
    "!pip install transformers"
   ],
   "metadata": {
    "collapsed": false,
    "pycharm": {
     "name": "#%%\n"
    }
   }
  },
  {
   "cell_type": "code",
   "execution_count": 35,
   "outputs": [],
   "source": [
    "from datasets import load_dataset\n",
    "from bertopic import BERTopic\n",
    "from transformers import AutoTokenizer"
   ],
   "metadata": {
    "collapsed": false,
    "pycharm": {
     "name": "#%%\n"
    }
   }
  },
  {
   "cell_type": "code",
   "execution_count": 6,
   "outputs": [
    {
     "data": {
      "text/plain": "Downloading builder script:   0%|          | 0.00/9.72k [00:00<?, ?B/s]",
      "application/vnd.jupyter.widget-view+json": {
       "version_major": 2,
       "version_minor": 0,
       "model_id": "27b0b199398b4f80bf453d36924595d4"
      }
     },
     "metadata": {},
     "output_type": "display_data"
    },
    {
     "data": {
      "text/plain": "Downloading metadata:   0%|          | 0.00/30.4k [00:00<?, ?B/s]",
      "application/vnd.jupyter.widget-view+json": {
       "version_major": 2,
       "version_minor": 0,
       "model_id": "00bad0a01afa4b6388798777ab54b22c"
      }
     },
     "metadata": {},
     "output_type": "display_data"
    },
    {
     "data": {
      "text/plain": "Downloading readme:   0%|          | 0.00/21.8k [00:00<?, ?B/s]",
      "application/vnd.jupyter.widget-view+json": {
       "version_major": 2,
       "version_minor": 0,
       "model_id": "a0d4dc572ec943a6840d10069e019c85"
      }
     },
     "metadata": {},
     "output_type": "display_data"
    },
    {
     "name": "stdout",
     "output_type": "stream",
     "text": [
      "Downloading and preparing dataset tweet_eval/offensive to /home/victor/.cache/huggingface/datasets/tweet_eval/offensive/1.1.0/12aee5282b8784f3e95459466db4cdf45c6bf49719c25cdb0743d71ed0410343...\n"
     ]
    },
    {
     "data": {
      "text/plain": "Downloading data files:   0%|          | 0/6 [00:00<?, ?it/s]",
      "application/vnd.jupyter.widget-view+json": {
       "version_major": 2,
       "version_minor": 0,
       "model_id": "ea3fb172729a4146b3cdec2dbc320ec2"
      }
     },
     "metadata": {},
     "output_type": "display_data"
    },
    {
     "data": {
      "text/plain": "Downloading data:   0%|          | 0.00/608k [00:00<?, ?B/s]",
      "application/vnd.jupyter.widget-view+json": {
       "version_major": 2,
       "version_minor": 0,
       "model_id": "930d5eed3aaa44d98b469e3813186c15"
      }
     },
     "metadata": {},
     "output_type": "display_data"
    },
    {
     "data": {
      "text/plain": "Downloading data:   0%|          | 0.00/2.26k [00:00<?, ?B/s]",
      "application/vnd.jupyter.widget-view+json": {
       "version_major": 2,
       "version_minor": 0,
       "model_id": "6da5ee3d786b49b6bcf81fd326885e3c"
      }
     },
     "metadata": {},
     "output_type": "display_data"
    },
    {
     "data": {
      "text/plain": "Downloading data:   0%|          | 0.00/58.4k [00:00<?, ?B/s]",
      "application/vnd.jupyter.widget-view+json": {
       "version_major": 2,
       "version_minor": 0,
       "model_id": "09a12ad6cfd64440b3b9f67c302fa091"
      }
     },
     "metadata": {},
     "output_type": "display_data"
    },
    {
     "data": {
      "text/plain": "Downloading data:   0%|          | 0.00/210 [00:00<?, ?B/s]",
      "application/vnd.jupyter.widget-view+json": {
       "version_major": 2,
       "version_minor": 0,
       "model_id": "54bceef538634ac5b7b24b7fa34a5176"
      }
     },
     "metadata": {},
     "output_type": "display_data"
    },
    {
     "data": {
      "text/plain": "Downloading data:   0%|          | 0.00/72.6k [00:00<?, ?B/s]",
      "application/vnd.jupyter.widget-view+json": {
       "version_major": 2,
       "version_minor": 0,
       "model_id": "48409b1d87f14b11bc4e4a577379ccac"
      }
     },
     "metadata": {},
     "output_type": "display_data"
    },
    {
     "data": {
      "text/plain": "Downloading data:   0%|          | 0.00/304 [00:00<?, ?B/s]",
      "application/vnd.jupyter.widget-view+json": {
       "version_major": 2,
       "version_minor": 0,
       "model_id": "b2630ed3f18a435b8ffaee25c4633c98"
      }
     },
     "metadata": {},
     "output_type": "display_data"
    },
    {
     "name": "stdout",
     "output_type": "stream",
     "text": [
      "      "
     ]
    },
    {
     "data": {
      "text/plain": "Extracting data files #0:   0%|          | 0/1 [00:00<?, ?obj/s]",
      "application/vnd.jupyter.widget-view+json": {
       "version_major": 2,
       "version_minor": 0,
       "model_id": "d232b41e8cf74965afa60e1155c75231"
      }
     },
     "metadata": {},
     "output_type": "display_data"
    },
    {
     "data": {
      "text/plain": "Extracting data files #2:   0%|          | 0/1 [00:00<?, ?obj/s]",
      "application/vnd.jupyter.widget-view+json": {
       "version_major": 2,
       "version_minor": 0,
       "model_id": "393ec28668324f539bfe848b0b11f2da"
      }
     },
     "metadata": {},
     "output_type": "display_data"
    },
    {
     "data": {
      "text/plain": "Extracting data files #3:   0%|          | 0/1 [00:00<?, ?obj/s]",
      "application/vnd.jupyter.widget-view+json": {
       "version_major": 2,
       "version_minor": 0,
       "model_id": "d34a4e13b9064efcb1967f1aa388d01a"
      }
     },
     "metadata": {},
     "output_type": "display_data"
    },
    {
     "data": {
      "text/plain": "Extracting data files #1:   0%|          | 0/1 [00:00<?, ?obj/s]",
      "application/vnd.jupyter.widget-view+json": {
       "version_major": 2,
       "version_minor": 0,
       "model_id": "5c238cd416434180bb55cfe615dbdfe7"
      }
     },
     "metadata": {},
     "output_type": "display_data"
    },
    {
     "data": {
      "text/plain": "Extracting data files #4:   0%|          | 0/1 [00:00<?, ?obj/s]",
      "application/vnd.jupyter.widget-view+json": {
       "version_major": 2,
       "version_minor": 0,
       "model_id": "94913b5b90f740e0a594d98d9a57b6ad"
      }
     },
     "metadata": {},
     "output_type": "display_data"
    },
    {
     "data": {
      "text/plain": "Extracting data files #5:   0%|          | 0/1 [00:00<?, ?obj/s]",
      "application/vnd.jupyter.widget-view+json": {
       "version_major": 2,
       "version_minor": 0,
       "model_id": "0ec3b0e7d75e40e0bb69643c7b1d101f"
      }
     },
     "metadata": {},
     "output_type": "display_data"
    },
    {
     "data": {
      "text/plain": "Generating train split:   0%|          | 0/11916 [00:00<?, ? examples/s]",
      "application/vnd.jupyter.widget-view+json": {
       "version_major": 2,
       "version_minor": 0,
       "model_id": "4609e61b2b7748888c012739eb14b172"
      }
     },
     "metadata": {},
     "output_type": "display_data"
    },
    {
     "data": {
      "text/plain": "Generating test split:   0%|          | 0/860 [00:00<?, ? examples/s]",
      "application/vnd.jupyter.widget-view+json": {
       "version_major": 2,
       "version_minor": 0,
       "model_id": "4ed79b9515634207ac3d4a402c18fcc1"
      }
     },
     "metadata": {},
     "output_type": "display_data"
    },
    {
     "data": {
      "text/plain": "Generating validation split:   0%|          | 0/1324 [00:00<?, ? examples/s]",
      "application/vnd.jupyter.widget-view+json": {
       "version_major": 2,
       "version_minor": 0,
       "model_id": "0342cded62454b7bb02b1dd3f182638b"
      }
     },
     "metadata": {},
     "output_type": "display_data"
    },
    {
     "name": "stdout",
     "output_type": "stream",
     "text": [
      "Dataset tweet_eval downloaded and prepared to /home/victor/.cache/huggingface/datasets/tweet_eval/offensive/1.1.0/12aee5282b8784f3e95459466db4cdf45c6bf49719c25cdb0743d71ed0410343. Subsequent calls will reuse this data.\n"
     ]
    },
    {
     "data": {
      "text/plain": "  0%|          | 0/3 [00:00<?, ?it/s]",
      "application/vnd.jupyter.widget-view+json": {
       "version_major": 2,
       "version_minor": 0,
       "model_id": "8e526d1afe0849eca4a2989617a6a8dd"
      }
     },
     "metadata": {},
     "output_type": "display_data"
    },
    {
     "data": {
      "text/plain": "DatasetDict({\n    train: Dataset({\n        features: ['text', 'label'],\n        num_rows: 11916\n    })\n    test: Dataset({\n        features: ['text', 'label'],\n        num_rows: 860\n    })\n    validation: Dataset({\n        features: ['text', 'label'],\n        num_rows: 1324\n    })\n})"
     },
     "execution_count": 6,
     "metadata": {},
     "output_type": "execute_result"
    }
   ],
   "source": [
    "dataset = load_dataset(\"tweet_eval\",\"offensive\")\n",
    "dataset"
   ],
   "metadata": {
    "collapsed": false,
    "pycharm": {
     "name": "#%%\n"
    }
   }
  },
  {
   "cell_type": "markdown",
   "source": [
    "We see that there is not much value in the test dataset  (About 5.7% of all data) and in the validation dataset (About 8.9% of all data)"
   ],
   "metadata": {
    "collapsed": false,
    "pycharm": {
     "name": "#%% md\n"
    }
   }
  },
  {
   "cell_type": "code",
   "execution_count": 28,
   "outputs": [
    {
     "data": {
      "text/plain": "['@user Bono... who cares. Soon people will understand that they gain nothing from following a phony celebrity. Become a Leader of your people instead or help and support your fellow countrymen.',\n '@user Eight years the republicans denied obama’s picks. Breitbarters outrage is as phony as their fake president.',\n '@user Get him some line help. He is gonna be just fine. As the game went on you could see him progressing more with his reads. He brought what has been missing. The deep ball presence. Now he just needs a little more time',\n '@user @user She is great. Hi Fiona!',\n \"@user She has become a parody unto herself? She has certainly taken some heat for being such an....well idiot. Could be optic too  Who know with Liberals  They're all optics.  No substance\"]"
     },
     "execution_count": 28,
     "metadata": {},
     "output_type": "execute_result"
    }
   ],
   "source": [
    "dataset[\"train\"][\"text\"][:5]"
   ],
   "metadata": {
    "collapsed": false,
    "pycharm": {
     "name": "#%%\n"
    }
   }
  },
  {
   "cell_type": "code",
   "execution_count": 8,
   "outputs": [
    {
     "data": {
      "text/plain": "{'text': ['@user @user @user @user @user @user @user @user @user @user @user @user @user @user @user @user @user Thank you for adding me Razor!  Patriots- if you aren’t following my Primary account @user - will you take a minute &amp; Follow me? Thanks &amp; MAGA🇺🇸',\n  '@user The lies i keep hearing everyday sigh *INHALES* IM TIRED OF YOU PUTTING YOURSELF DOWN AND IF PPL DONT SEE HOW BEAUTIFUL MY BESTFRIEND IS THEN ITS THEIR PROBLEM You are beautiful ive seen iT so its my place to tell you you are beautiful and i accept nothing less. If not more 😤',\n  '@user He is very perceptive Sweetie!',\n  '@user Dear Paul McFartney-  You had us at Beatles.  You lost us at President Mad Captain.  Burn in hell-  Jon.\"\"',\n  '@user you are also the king of taste'],\n 'label': [0, 1, 0, 1, 0]}"
     },
     "execution_count": 8,
     "metadata": {},
     "output_type": "execute_result"
    }
   ],
   "source": [
    "dataset[\"train\"][90:95]"
   ],
   "metadata": {
    "collapsed": false,
    "pycharm": {
     "name": "#%%\n"
    }
   }
  },
  {
   "cell_type": "markdown",
   "source": [
    "We notice that all tag is anonymous. They had been replaced by '@user'."
   ],
   "metadata": {
    "collapsed": false,
    "pycharm": {
     "name": "#%% md\n"
    }
   }
  },
  {
   "cell_type": "code",
   "execution_count": 30,
   "outputs": [],
   "source": [
    "topic_model_train = BERTopic()\n",
    "topics_train, probs_train = topic_model_train.fit_transform(dataset[\"train\"][\"text\"])\n",
    "\n",
    "topic_model_test = BERTopic()\n",
    "topics_test, probs_test = topic_model_test.fit_transform(dataset[\"test\"][\"text\"])\n",
    "\n",
    "topic_model_validation = BERTopic()\n",
    "topics_validation, probs_validation = topic_model_validation.fit_transform(dataset[\"validation\"][\"text\"])\n"
   ],
   "metadata": {
    "collapsed": false,
    "pycharm": {
     "name": "#%%\n"
    }
   }
  },
  {
   "cell_type": "code",
   "execution_count": 33,
   "outputs": [
    {
     "data": {
      "text/plain": "     Topic  Count                                               Name\n0       -1   4929                                    -1_is_he_she_to\n1        0   1018                            0_gun_control_guns_laws\n2        1    492                         1_maga_qanon_wwg1wga_trump\n3        2    420                       2_liberals_they_liberal_user\n4        3    292                            3_antifa_your_user_they\n..     ...    ...                                                ...\n121    120     11              120_citizenship_lawyer_country_border\n122    121     11                 121_bullshit_insanely_chimed_daffy\n123    122     10                           122_god_army_iook_yahweh\n124    123     10                     123_china_business_opium_theft\n125    124     10  124_tears_per_crying_taketworeferenceswithmoni...\n\n[126 rows x 3 columns]",
      "text/html": "<div>\n<style scoped>\n    .dataframe tbody tr th:only-of-type {\n        vertical-align: middle;\n    }\n\n    .dataframe tbody tr th {\n        vertical-align: top;\n    }\n\n    .dataframe thead th {\n        text-align: right;\n    }\n</style>\n<table border=\"1\" class=\"dataframe\">\n  <thead>\n    <tr style=\"text-align: right;\">\n      <th></th>\n      <th>Topic</th>\n      <th>Count</th>\n      <th>Name</th>\n    </tr>\n  </thead>\n  <tbody>\n    <tr>\n      <th>0</th>\n      <td>-1</td>\n      <td>4929</td>\n      <td>-1_is_he_she_to</td>\n    </tr>\n    <tr>\n      <th>1</th>\n      <td>0</td>\n      <td>1018</td>\n      <td>0_gun_control_guns_laws</td>\n    </tr>\n    <tr>\n      <th>2</th>\n      <td>1</td>\n      <td>492</td>\n      <td>1_maga_qanon_wwg1wga_trump</td>\n    </tr>\n    <tr>\n      <th>3</th>\n      <td>2</td>\n      <td>420</td>\n      <td>2_liberals_they_liberal_user</td>\n    </tr>\n    <tr>\n      <th>4</th>\n      <td>3</td>\n      <td>292</td>\n      <td>3_antifa_your_user_they</td>\n    </tr>\n    <tr>\n      <th>...</th>\n      <td>...</td>\n      <td>...</td>\n      <td>...</td>\n    </tr>\n    <tr>\n      <th>121</th>\n      <td>120</td>\n      <td>11</td>\n      <td>120_citizenship_lawyer_country_border</td>\n    </tr>\n    <tr>\n      <th>122</th>\n      <td>121</td>\n      <td>11</td>\n      <td>121_bullshit_insanely_chimed_daffy</td>\n    </tr>\n    <tr>\n      <th>123</th>\n      <td>122</td>\n      <td>10</td>\n      <td>122_god_army_iook_yahweh</td>\n    </tr>\n    <tr>\n      <th>124</th>\n      <td>123</td>\n      <td>10</td>\n      <td>123_china_business_opium_theft</td>\n    </tr>\n    <tr>\n      <th>125</th>\n      <td>124</td>\n      <td>10</td>\n      <td>124_tears_per_crying_taketworeferenceswithmoni...</td>\n    </tr>\n  </tbody>\n</table>\n<p>126 rows × 3 columns</p>\n</div>"
     },
     "execution_count": 33,
     "metadata": {},
     "output_type": "execute_result"
    }
   ],
   "source": [
    "from torch import random\n",
    "random.manual_seed(42)\n",
    "topic_model_train.get_topic_info()"
   ],
   "metadata": {
    "collapsed": false,
    "pycharm": {
     "name": "#%%\n"
    }
   }
  },
  {
   "cell_type": "code",
   "execution_count": 31,
   "outputs": [
    {
     "data": {
      "text/plain": "    Topic  Count                                           Name\n0      -1    324                              -1_and_the_is_you\n1       0     84                               0_she_is_the_and\n2       1     72                               1_user_is_he_she\n3       2     67                     2_gun_control_user_chicago\n4       3     55                             3_antifa_the_to_of\n5       4     53                    4_kavanaugh_liberals_to_the\n6       5     51                5_conservatives_liberals_to_are\n7       6     32                              6_you_are_your_to\n8       7     28                  7_brexit_eu_the_conservatives\n9       8     20                         8_you_sales_online_own\n10      9     20             9_liberals_walkaway_democrats_maga\n11     10     17                        10_maga_president_or_is\n12     11     13          11_conservatives_of_ontario_canadians\n13     12     13                      12_bitch_ass_bitches_shit\n14     13     11  13_florence_hurricane_hurricaneflorence_areas",
      "text/html": "<div>\n<style scoped>\n    .dataframe tbody tr th:only-of-type {\n        vertical-align: middle;\n    }\n\n    .dataframe tbody tr th {\n        vertical-align: top;\n    }\n\n    .dataframe thead th {\n        text-align: right;\n    }\n</style>\n<table border=\"1\" class=\"dataframe\">\n  <thead>\n    <tr style=\"text-align: right;\">\n      <th></th>\n      <th>Topic</th>\n      <th>Count</th>\n      <th>Name</th>\n    </tr>\n  </thead>\n  <tbody>\n    <tr>\n      <th>0</th>\n      <td>-1</td>\n      <td>324</td>\n      <td>-1_and_the_is_you</td>\n    </tr>\n    <tr>\n      <th>1</th>\n      <td>0</td>\n      <td>84</td>\n      <td>0_she_is_the_and</td>\n    </tr>\n    <tr>\n      <th>2</th>\n      <td>1</td>\n      <td>72</td>\n      <td>1_user_is_he_she</td>\n    </tr>\n    <tr>\n      <th>3</th>\n      <td>2</td>\n      <td>67</td>\n      <td>2_gun_control_user_chicago</td>\n    </tr>\n    <tr>\n      <th>4</th>\n      <td>3</td>\n      <td>55</td>\n      <td>3_antifa_the_to_of</td>\n    </tr>\n    <tr>\n      <th>5</th>\n      <td>4</td>\n      <td>53</td>\n      <td>4_kavanaugh_liberals_to_the</td>\n    </tr>\n    <tr>\n      <th>6</th>\n      <td>5</td>\n      <td>51</td>\n      <td>5_conservatives_liberals_to_are</td>\n    </tr>\n    <tr>\n      <th>7</th>\n      <td>6</td>\n      <td>32</td>\n      <td>6_you_are_your_to</td>\n    </tr>\n    <tr>\n      <th>8</th>\n      <td>7</td>\n      <td>28</td>\n      <td>7_brexit_eu_the_conservatives</td>\n    </tr>\n    <tr>\n      <th>9</th>\n      <td>8</td>\n      <td>20</td>\n      <td>8_you_sales_online_own</td>\n    </tr>\n    <tr>\n      <th>10</th>\n      <td>9</td>\n      <td>20</td>\n      <td>9_liberals_walkaway_democrats_maga</td>\n    </tr>\n    <tr>\n      <th>11</th>\n      <td>10</td>\n      <td>17</td>\n      <td>10_maga_president_or_is</td>\n    </tr>\n    <tr>\n      <th>12</th>\n      <td>11</td>\n      <td>13</td>\n      <td>11_conservatives_of_ontario_canadians</td>\n    </tr>\n    <tr>\n      <th>13</th>\n      <td>12</td>\n      <td>13</td>\n      <td>12_bitch_ass_bitches_shit</td>\n    </tr>\n    <tr>\n      <th>14</th>\n      <td>13</td>\n      <td>11</td>\n      <td>13_florence_hurricane_hurricaneflorence_areas</td>\n    </tr>\n  </tbody>\n</table>\n</div>"
     },
     "execution_count": 31,
     "metadata": {},
     "output_type": "execute_result"
    }
   ],
   "source": [
    "topic_model_test.get_topic_info()"
   ],
   "metadata": {
    "collapsed": false,
    "pycharm": {
     "name": "#%%\n"
    }
   }
  },
  {
   "cell_type": "code",
   "execution_count": 32,
   "outputs": [
    {
     "data": {
      "text/plain": "   Topic  Count                    Name\n0      0   1072        0_user_the_is_to\n1      1    129    1_user_antifa_the_to\n2      2    123  2_gun_control_user_the",
      "text/html": "<div>\n<style scoped>\n    .dataframe tbody tr th:only-of-type {\n        vertical-align: middle;\n    }\n\n    .dataframe tbody tr th {\n        vertical-align: top;\n    }\n\n    .dataframe thead th {\n        text-align: right;\n    }\n</style>\n<table border=\"1\" class=\"dataframe\">\n  <thead>\n    <tr style=\"text-align: right;\">\n      <th></th>\n      <th>Topic</th>\n      <th>Count</th>\n      <th>Name</th>\n    </tr>\n  </thead>\n  <tbody>\n    <tr>\n      <th>0</th>\n      <td>0</td>\n      <td>1072</td>\n      <td>0_user_the_is_to</td>\n    </tr>\n    <tr>\n      <th>1</th>\n      <td>1</td>\n      <td>129</td>\n      <td>1_user_antifa_the_to</td>\n    </tr>\n    <tr>\n      <th>2</th>\n      <td>2</td>\n      <td>123</td>\n      <td>2_gun_control_user_the</td>\n    </tr>\n  </tbody>\n</table>\n</div>"
     },
     "execution_count": 32,
     "metadata": {},
     "output_type": "execute_result"
    }
   ],
   "source": [
    "topic_model_validation.get_topic_info()"
   ],
   "metadata": {
    "collapsed": false,
    "pycharm": {
     "name": "#%%\n"
    }
   }
  },
  {
   "cell_type": "markdown",
   "source": [
    "We see there is a difference in topic between the validation, test and train dataset. There will be a risk to train model on some topic, but to test it."
   ],
   "metadata": {
    "collapsed": false,
    "pycharm": {
     "name": "#%% md\n"
    }
   }
  },
  {
   "cell_type": "code",
   "execution_count": null,
   "outputs": [],
   "source": [
    "MODEL = f\"cardiffnlp/twitter-roberta-base-{task}\"\n",
    "\n",
    "tokenizer = AutoTokenizer.from_pretrained(MODEL)\n"
   ],
   "metadata": {
    "collapsed": false,
    "pycharm": {
     "name": "#%%\n"
    }
   }
  }
 ],
 "metadata": {
  "kernelspec": {
   "display_name": "Python 3",
   "language": "python",
   "name": "python3"
  },
  "language_info": {
   "codemirror_mode": {
    "name": "ipython",
    "version": 2
   },
   "file_extension": ".py",
   "mimetype": "text/x-python",
   "name": "python",
   "nbconvert_exporter": "python",
   "pygments_lexer": "ipython2",
   "version": "2.7.6"
  }
 },
 "nbformat": 4,
 "nbformat_minor": 0
}