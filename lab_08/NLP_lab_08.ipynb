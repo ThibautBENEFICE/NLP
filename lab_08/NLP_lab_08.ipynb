{
 "cells": [
  {
   "cell_type": "markdown",
   "source": [
    "**NLP LAB 09**"
   ],
   "metadata": {
    "collapsed": false
   }
  },
  {
   "cell_type": "markdown",
   "source": [
    "The best dataset to choose is offensive. Indeed, haste is a dataset about comment that disrespect a social or a group of person, but it can be a point of view, when the offensive dataset is about insult someone.\n",
    "\n",
    "The best would be taking both dataset."
   ],
   "metadata": {
    "collapsed": false
   }
  },
  {
   "cell_type": "code",
   "execution_count": 9,
   "outputs": [
    {
     "name": "stdout",
     "output_type": "stream",
     "text": [
      "Requirement already satisfied: datasets in /home/victor/Documents/travail_epita/venv_epita/lib/python3.10/site-packages (2.6.1)\r\n",
      "Requirement already satisfied: pyyaml>=5.1 in /home/victor/Documents/travail_epita/venv_epita/lib/python3.10/site-packages (from datasets) (5.4.1)\r\n",
      "Requirement already satisfied: multiprocess in /home/victor/Documents/travail_epita/venv_epita/lib/python3.10/site-packages (from datasets) (0.70.13)\r\n",
      "Requirement already satisfied: xxhash in /home/victor/Documents/travail_epita/venv_epita/lib/python3.10/site-packages (from datasets) (3.1.0)\r\n",
      "Requirement already satisfied: huggingface-hub<1.0.0,>=0.2.0 in /home/victor/Documents/travail_epita/venv_epita/lib/python3.10/site-packages (from datasets) (0.10.1)\r\n",
      "Requirement already satisfied: dill<0.3.6 in /home/victor/Documents/travail_epita/venv_epita/lib/python3.10/site-packages (from datasets) (0.3.5.1)\r\n",
      "Requirement already satisfied: fsspec[http]>=2021.11.1 in /home/victor/Documents/travail_epita/venv_epita/lib/python3.10/site-packages (from datasets) (2022.10.0)\r\n",
      "Requirement already satisfied: aiohttp in /home/victor/Documents/travail_epita/venv_epita/lib/python3.10/site-packages (from datasets) (3.8.3)\r\n",
      "Requirement already satisfied: numpy>=1.17 in /home/victor/Documents/travail_epita/venv_epita/lib/python3.10/site-packages (from datasets) (1.23.4)\r\n",
      "Requirement already satisfied: requests>=2.19.0 in /home/victor/Documents/travail_epita/venv_epita/lib/python3.10/site-packages (from datasets) (2.28.1)\r\n",
      "Requirement already satisfied: tqdm>=4.62.1 in /home/victor/Documents/travail_epita/venv_epita/lib/python3.10/site-packages (from datasets) (4.64.1)\r\n",
      "Requirement already satisfied: responses<0.19 in /home/victor/Documents/travail_epita/venv_epita/lib/python3.10/site-packages (from datasets) (0.18.0)\r\n",
      "Requirement already satisfied: pandas in /home/victor/Documents/travail_epita/venv_epita/lib/python3.10/site-packages (from datasets) (1.5.1)\r\n",
      "Requirement already satisfied: pyarrow>=6.0.0 in /home/victor/Documents/travail_epita/venv_epita/lib/python3.10/site-packages (from datasets) (9.0.0)\r\n",
      "Requirement already satisfied: packaging in /home/victor/Documents/travail_epita/venv_epita/lib/python3.10/site-packages (from datasets) (21.3)\r\n",
      "Requirement already satisfied: yarl<2.0,>=1.0 in /home/victor/Documents/travail_epita/venv_epita/lib/python3.10/site-packages (from aiohttp->datasets) (1.8.1)\r\n",
      "Requirement already satisfied: aiosignal>=1.1.2 in /home/victor/Documents/travail_epita/venv_epita/lib/python3.10/site-packages (from aiohttp->datasets) (1.2.0)\r\n",
      "Requirement already satisfied: charset-normalizer<3.0,>=2.0 in /home/victor/Documents/travail_epita/venv_epita/lib/python3.10/site-packages (from aiohttp->datasets) (2.1.1)\r\n",
      "Requirement already satisfied: multidict<7.0,>=4.5 in /home/victor/Documents/travail_epita/venv_epita/lib/python3.10/site-packages (from aiohttp->datasets) (6.0.2)\r\n",
      "Requirement already satisfied: async-timeout<5.0,>=4.0.0a3 in /home/victor/Documents/travail_epita/venv_epita/lib/python3.10/site-packages (from aiohttp->datasets) (4.0.2)\r\n",
      "Requirement already satisfied: attrs>=17.3.0 in /home/victor/Documents/travail_epita/venv_epita/lib/python3.10/site-packages (from aiohttp->datasets) (22.1.0)\r\n",
      "Requirement already satisfied: frozenlist>=1.1.1 in /home/victor/Documents/travail_epita/venv_epita/lib/python3.10/site-packages (from aiohttp->datasets) (1.3.1)\r\n",
      "Requirement already satisfied: filelock in /home/victor/Documents/travail_epita/venv_epita/lib/python3.10/site-packages (from huggingface-hub<1.0.0,>=0.2.0->datasets) (3.8.0)\r\n",
      "Requirement already satisfied: typing-extensions>=3.7.4.3 in /home/victor/Documents/travail_epita/venv_epita/lib/python3.10/site-packages (from huggingface-hub<1.0.0,>=0.2.0->datasets) (4.4.0)\r\n",
      "Requirement already satisfied: pyparsing!=3.0.5,>=2.0.2 in /home/victor/Documents/travail_epita/venv_epita/lib/python3.10/site-packages (from packaging->datasets) (3.0.9)\r\n",
      "Requirement already satisfied: idna<4,>=2.5 in /home/victor/Documents/travail_epita/venv_epita/lib/python3.10/site-packages (from requests>=2.19.0->datasets) (3.4)\r\n",
      "Requirement already satisfied: certifi>=2017.4.17 in /home/victor/Documents/travail_epita/venv_epita/lib/python3.10/site-packages (from requests>=2.19.0->datasets) (2022.9.24)\r\n",
      "Requirement already satisfied: urllib3<1.27,>=1.21.1 in /home/victor/Documents/travail_epita/venv_epita/lib/python3.10/site-packages (from requests>=2.19.0->datasets) (1.26.12)\r\n",
      "Requirement already satisfied: pytz>=2020.1 in /home/victor/Documents/travail_epita/venv_epita/lib/python3.10/site-packages (from pandas->datasets) (2022.5)\r\n",
      "Requirement already satisfied: python-dateutil>=2.8.1 in /home/victor/Documents/travail_epita/venv_epita/lib/python3.10/site-packages (from pandas->datasets) (2.8.2)\r\n",
      "Requirement already satisfied: six>=1.5 in /home/victor/Documents/travail_epita/venv_epita/lib/python3.10/site-packages (from python-dateutil>=2.8.1->pandas->datasets) (1.16.0)\r\n",
      "Requirement already satisfied: bertopic in /home/victor/Documents/travail_epita/venv_epita/lib/python3.10/site-packages (0.12.0)\r\n",
      "Requirement already satisfied: pyyaml<6.0 in /home/victor/Documents/travail_epita/venv_epita/lib/python3.10/site-packages (from bertopic) (5.4.1)\r\n",
      "Requirement already satisfied: numpy>=1.20.0 in /home/victor/Documents/travail_epita/venv_epita/lib/python3.10/site-packages (from bertopic) (1.23.4)\r\n",
      "Requirement already satisfied: plotly>=4.7.0 in /home/victor/Documents/travail_epita/venv_epita/lib/python3.10/site-packages (from bertopic) (5.11.0)\r\n",
      "Requirement already satisfied: scikit-learn>=0.22.2.post1 in /home/victor/Documents/travail_epita/venv_epita/lib/python3.10/site-packages (from bertopic) (1.1.2)\r\n",
      "Requirement already satisfied: umap-learn>=0.5.0 in /home/victor/Documents/travail_epita/venv_epita/lib/python3.10/site-packages (from bertopic) (0.5.3)\r\n",
      "Requirement already satisfied: sentence-transformers>=0.4.1 in /home/victor/Documents/travail_epita/venv_epita/lib/python3.10/site-packages (from bertopic) (2.2.2)\r\n",
      "Requirement already satisfied: hdbscan>=0.8.28 in /home/victor/Documents/travail_epita/venv_epita/lib/python3.10/site-packages (from bertopic) (0.8.29)\r\n",
      "Requirement already satisfied: pandas>=1.1.5 in /home/victor/Documents/travail_epita/venv_epita/lib/python3.10/site-packages (from bertopic) (1.5.1)\r\n",
      "Requirement already satisfied: tqdm>=4.41.1 in /home/victor/Documents/travail_epita/venv_epita/lib/python3.10/site-packages (from bertopic) (4.64.1)\r\n",
      "Requirement already satisfied: cython>=0.27 in /home/victor/Documents/travail_epita/venv_epita/lib/python3.10/site-packages (from hdbscan>=0.8.28->bertopic) (0.29.32)\r\n",
      "Requirement already satisfied: joblib>=1.0 in /home/victor/Documents/travail_epita/venv_epita/lib/python3.10/site-packages (from hdbscan>=0.8.28->bertopic) (1.2.0)\r\n",
      "Requirement already satisfied: scipy>=1.0 in /home/victor/Documents/travail_epita/venv_epita/lib/python3.10/site-packages (from hdbscan>=0.8.28->bertopic) (1.9.3)\r\n",
      "Requirement already satisfied: python-dateutil>=2.8.1 in /home/victor/Documents/travail_epita/venv_epita/lib/python3.10/site-packages (from pandas>=1.1.5->bertopic) (2.8.2)\r\n",
      "Requirement already satisfied: pytz>=2020.1 in /home/victor/Documents/travail_epita/venv_epita/lib/python3.10/site-packages (from pandas>=1.1.5->bertopic) (2022.5)\r\n",
      "Requirement already satisfied: tenacity>=6.2.0 in /home/victor/Documents/travail_epita/venv_epita/lib/python3.10/site-packages (from plotly>=4.7.0->bertopic) (8.1.0)\r\n",
      "Requirement already satisfied: threadpoolctl>=2.0.0 in /home/victor/Documents/travail_epita/venv_epita/lib/python3.10/site-packages (from scikit-learn>=0.22.2.post1->bertopic) (3.1.0)\r\n",
      "Requirement already satisfied: nltk in /home/victor/Documents/travail_epita/venv_epita/lib/python3.10/site-packages (from sentence-transformers>=0.4.1->bertopic) (3.7)\r\n",
      "Requirement already satisfied: transformers<5.0.0,>=4.6.0 in /home/victor/Documents/travail_epita/venv_epita/lib/python3.10/site-packages (from sentence-transformers>=0.4.1->bertopic) (4.24.0)\r\n",
      "Requirement already satisfied: torch>=1.6.0 in /home/victor/Documents/travail_epita/venv_epita/lib/python3.10/site-packages (from sentence-transformers>=0.4.1->bertopic) (1.13.0)\r\n",
      "Requirement already satisfied: huggingface-hub>=0.4.0 in /home/victor/Documents/travail_epita/venv_epita/lib/python3.10/site-packages (from sentence-transformers>=0.4.1->bertopic) (0.10.1)\r\n",
      "Requirement already satisfied: torchvision in /home/victor/Documents/travail_epita/venv_epita/lib/python3.10/site-packages (from sentence-transformers>=0.4.1->bertopic) (0.14.0)\r\n",
      "Requirement already satisfied: sentencepiece in /home/victor/Documents/travail_epita/venv_epita/lib/python3.10/site-packages (from sentence-transformers>=0.4.1->bertopic) (0.1.97)\r\n",
      "Requirement already satisfied: numba>=0.49 in /home/victor/Documents/travail_epita/venv_epita/lib/python3.10/site-packages (from umap-learn>=0.5.0->bertopic) (0.56.4)\r\n",
      "Requirement already satisfied: pynndescent>=0.5 in /home/victor/Documents/travail_epita/venv_epita/lib/python3.10/site-packages (from umap-learn>=0.5.0->bertopic) (0.5.8)\r\n",
      "Requirement already satisfied: requests in /home/victor/Documents/travail_epita/venv_epita/lib/python3.10/site-packages (from huggingface-hub>=0.4.0->sentence-transformers>=0.4.1->bertopic) (2.28.1)\r\n",
      "Requirement already satisfied: filelock in /home/victor/Documents/travail_epita/venv_epita/lib/python3.10/site-packages (from huggingface-hub>=0.4.0->sentence-transformers>=0.4.1->bertopic) (3.8.0)\r\n",
      "Requirement already satisfied: packaging>=20.9 in /home/victor/Documents/travail_epita/venv_epita/lib/python3.10/site-packages (from huggingface-hub>=0.4.0->sentence-transformers>=0.4.1->bertopic) (21.3)\r\n",
      "Requirement already satisfied: typing-extensions>=3.7.4.3 in /home/victor/Documents/travail_epita/venv_epita/lib/python3.10/site-packages (from huggingface-hub>=0.4.0->sentence-transformers>=0.4.1->bertopic) (4.4.0)\r\n",
      "Requirement already satisfied: llvmlite<0.40,>=0.39.0dev0 in /home/victor/Documents/travail_epita/venv_epita/lib/python3.10/site-packages (from numba>=0.49->umap-learn>=0.5.0->bertopic) (0.39.1)\r\n",
      "Requirement already satisfied: setuptools in /home/victor/Documents/travail_epita/venv_epita/lib/python3.10/site-packages (from numba>=0.49->umap-learn>=0.5.0->bertopic) (59.6.0)\r\n",
      "Requirement already satisfied: six>=1.5 in /home/victor/Documents/travail_epita/venv_epita/lib/python3.10/site-packages (from python-dateutil>=2.8.1->pandas>=1.1.5->bertopic) (1.16.0)\r\n",
      "Requirement already satisfied: nvidia-cuda-runtime-cu11==11.7.99 in /home/victor/Documents/travail_epita/venv_epita/lib/python3.10/site-packages (from torch>=1.6.0->sentence-transformers>=0.4.1->bertopic) (11.7.99)\r\n",
      "Requirement already satisfied: nvidia-cudnn-cu11==8.5.0.96 in /home/victor/Documents/travail_epita/venv_epita/lib/python3.10/site-packages (from torch>=1.6.0->sentence-transformers>=0.4.1->bertopic) (8.5.0.96)\r\n",
      "Requirement already satisfied: nvidia-cublas-cu11==11.10.3.66 in /home/victor/Documents/travail_epita/venv_epita/lib/python3.10/site-packages (from torch>=1.6.0->sentence-transformers>=0.4.1->bertopic) (11.10.3.66)\r\n",
      "Requirement already satisfied: nvidia-cuda-nvrtc-cu11==11.7.99 in /home/victor/Documents/travail_epita/venv_epita/lib/python3.10/site-packages (from torch>=1.6.0->sentence-transformers>=0.4.1->bertopic) (11.7.99)\r\n",
      "Requirement already satisfied: wheel in /home/victor/Documents/travail_epita/venv_epita/lib/python3.10/site-packages (from nvidia-cublas-cu11==11.10.3.66->torch>=1.6.0->sentence-transformers>=0.4.1->bertopic) (0.37.1)\r\n",
      "Requirement already satisfied: regex!=2019.12.17 in /home/victor/Documents/travail_epita/venv_epita/lib/python3.10/site-packages (from transformers<5.0.0,>=4.6.0->sentence-transformers>=0.4.1->bertopic) (2022.10.31)\r\n",
      "Requirement already satisfied: tokenizers!=0.11.3,<0.14,>=0.11.1 in /home/victor/Documents/travail_epita/venv_epita/lib/python3.10/site-packages (from transformers<5.0.0,>=4.6.0->sentence-transformers>=0.4.1->bertopic) (0.13.1)\r\n",
      "Requirement already satisfied: click in /home/victor/Documents/travail_epita/venv_epita/lib/python3.10/site-packages (from nltk->sentence-transformers>=0.4.1->bertopic) (8.1.3)\r\n",
      "Requirement already satisfied: pillow!=8.3.*,>=5.3.0 in /home/victor/Documents/travail_epita/venv_epita/lib/python3.10/site-packages (from torchvision->sentence-transformers>=0.4.1->bertopic) (9.2.0)\r\n",
      "Requirement already satisfied: pyparsing!=3.0.5,>=2.0.2 in /home/victor/Documents/travail_epita/venv_epita/lib/python3.10/site-packages (from packaging>=20.9->huggingface-hub>=0.4.0->sentence-transformers>=0.4.1->bertopic) (3.0.9)\r\n",
      "Requirement already satisfied: charset-normalizer<3,>=2 in /home/victor/Documents/travail_epita/venv_epita/lib/python3.10/site-packages (from requests->huggingface-hub>=0.4.0->sentence-transformers>=0.4.1->bertopic) (2.1.1)\r\n",
      "Requirement already satisfied: idna<4,>=2.5 in /home/victor/Documents/travail_epita/venv_epita/lib/python3.10/site-packages (from requests->huggingface-hub>=0.4.0->sentence-transformers>=0.4.1->bertopic) (3.4)\r\n",
      "Requirement already satisfied: certifi>=2017.4.17 in /home/victor/Documents/travail_epita/venv_epita/lib/python3.10/site-packages (from requests->huggingface-hub>=0.4.0->sentence-transformers>=0.4.1->bertopic) (2022.9.24)\r\n",
      "Requirement already satisfied: urllib3<1.27,>=1.21.1 in /home/victor/Documents/travail_epita/venv_epita/lib/python3.10/site-packages (from requests->huggingface-hub>=0.4.0->sentence-transformers>=0.4.1->bertopic) (1.26.12)\r\n",
      "Requirement already satisfied: torch in /home/victor/Documents/travail_epita/venv_epita/lib/python3.10/site-packages (1.13.0)\r\n",
      "Requirement already satisfied: typing-extensions in /home/victor/Documents/travail_epita/venv_epita/lib/python3.10/site-packages (from torch) (4.4.0)\r\n",
      "Requirement already satisfied: nvidia-cuda-runtime-cu11==11.7.99 in /home/victor/Documents/travail_epita/venv_epita/lib/python3.10/site-packages (from torch) (11.7.99)\r\n",
      "Requirement already satisfied: nvidia-cuda-nvrtc-cu11==11.7.99 in /home/victor/Documents/travail_epita/venv_epita/lib/python3.10/site-packages (from torch) (11.7.99)\r\n",
      "Requirement already satisfied: nvidia-cublas-cu11==11.10.3.66 in /home/victor/Documents/travail_epita/venv_epita/lib/python3.10/site-packages (from torch) (11.10.3.66)\r\n",
      "Requirement already satisfied: nvidia-cudnn-cu11==8.5.0.96 in /home/victor/Documents/travail_epita/venv_epita/lib/python3.10/site-packages (from torch) (8.5.0.96)\r\n",
      "Requirement already satisfied: wheel in /home/victor/Documents/travail_epita/venv_epita/lib/python3.10/site-packages (from nvidia-cublas-cu11==11.10.3.66->torch) (0.37.1)\r\n",
      "Requirement already satisfied: setuptools in /home/victor/Documents/travail_epita/venv_epita/lib/python3.10/site-packages (from nvidia-cublas-cu11==11.10.3.66->torch) (59.6.0)\r\n",
      "Requirement already satisfied: transformers in /home/victor/Documents/travail_epita/venv_epita/lib/python3.10/site-packages (4.24.0)\r\n",
      "Requirement already satisfied: requests in /home/victor/Documents/travail_epita/venv_epita/lib/python3.10/site-packages (from transformers) (2.28.1)\r\n",
      "Requirement already satisfied: pyyaml>=5.1 in /home/victor/Documents/travail_epita/venv_epita/lib/python3.10/site-packages (from transformers) (5.4.1)\r\n",
      "Requirement already satisfied: packaging>=20.0 in /home/victor/Documents/travail_epita/venv_epita/lib/python3.10/site-packages (from transformers) (21.3)\r\n",
      "Requirement already satisfied: numpy>=1.17 in /home/victor/Documents/travail_epita/venv_epita/lib/python3.10/site-packages (from transformers) (1.23.4)\r\n",
      "Requirement already satisfied: tokenizers!=0.11.3,<0.14,>=0.11.1 in /home/victor/Documents/travail_epita/venv_epita/lib/python3.10/site-packages (from transformers) (0.13.1)\r\n",
      "Requirement already satisfied: filelock in /home/victor/Documents/travail_epita/venv_epita/lib/python3.10/site-packages (from transformers) (3.8.0)\r\n",
      "Requirement already satisfied: tqdm>=4.27 in /home/victor/Documents/travail_epita/venv_epita/lib/python3.10/site-packages (from transformers) (4.64.1)\r\n",
      "Requirement already satisfied: regex!=2019.12.17 in /home/victor/Documents/travail_epita/venv_epita/lib/python3.10/site-packages (from transformers) (2022.10.31)\r\n",
      "Requirement already satisfied: huggingface-hub<1.0,>=0.10.0 in /home/victor/Documents/travail_epita/venv_epita/lib/python3.10/site-packages (from transformers) (0.10.1)\r\n",
      "Requirement already satisfied: typing-extensions>=3.7.4.3 in /home/victor/Documents/travail_epita/venv_epita/lib/python3.10/site-packages (from huggingface-hub<1.0,>=0.10.0->transformers) (4.4.0)\r\n",
      "Requirement already satisfied: pyparsing!=3.0.5,>=2.0.2 in /home/victor/Documents/travail_epita/venv_epita/lib/python3.10/site-packages (from packaging>=20.0->transformers) (3.0.9)\r\n",
      "Requirement already satisfied: idna<4,>=2.5 in /home/victor/Documents/travail_epita/venv_epita/lib/python3.10/site-packages (from requests->transformers) (3.4)\r\n",
      "Requirement already satisfied: charset-normalizer<3,>=2 in /home/victor/Documents/travail_epita/venv_epita/lib/python3.10/site-packages (from requests->transformers) (2.1.1)\r\n",
      "Requirement already satisfied: urllib3<1.27,>=1.21.1 in /home/victor/Documents/travail_epita/venv_epita/lib/python3.10/site-packages (from requests->transformers) (1.26.12)\r\n",
      "Requirement already satisfied: certifi>=2017.4.17 in /home/victor/Documents/travail_epita/venv_epita/lib/python3.10/site-packages (from requests->transformers) (2022.9.24)\r\n"
     ]
    }
   ],
   "source": [
    "\n",
    "!pip install datasets\n",
    "!pip install bertopic\n",
    "!pip install torch\n",
    "!pip install transformers"
   ],
   "metadata": {
    "collapsed": false
   }
  },
  {
   "cell_type": "code",
   "execution_count": 1,
   "outputs": [
    {
     "name": "stderr",
     "output_type": "stream",
     "text": [
      "2022-11-23 16:54:07.307570: I tensorflow/core/platform/cpu_feature_guard.cc:193] This TensorFlow binary is optimized with oneAPI Deep Neural Network Library (oneDNN) to use the following CPU instructions in performance-critical operations:  AVX2 FMA\n",
      "To enable them in other operations, rebuild TensorFlow with the appropriate compiler flags.\n",
      "2022-11-23 16:54:07.859823: E tensorflow/stream_executor/cuda/cuda_blas.cc:2981] Unable to register cuBLAS factory: Attempting to register factory for plugin cuBLAS when one has already been registered\n",
      "2022-11-23 16:54:09.126416: W tensorflow/stream_executor/platform/default/dso_loader.cc:64] Could not load dynamic library 'libnvinfer.so.7'; dlerror: libnvinfer.so.7: cannot open shared object file: No such file or directory\n",
      "2022-11-23 16:54:09.126608: W tensorflow/stream_executor/platform/default/dso_loader.cc:64] Could not load dynamic library 'libnvinfer_plugin.so.7'; dlerror: libnvinfer_plugin.so.7: cannot open shared object file: No such file or directory\n",
      "2022-11-23 16:54:09.126617: W tensorflow/compiler/tf2tensorrt/utils/py_utils.cc:38] TF-TRT Warning: Cannot dlopen some TensorRT libraries. If you would like to use Nvidia GPU with TensorRT, please make sure the missing libraries mentioned above are installed properly.\n"
     ]
    }
   ],
   "source": [
    "from datasets import load_dataset\n",
    "from bertopic import BERTopic\n",
    "from transformers import AutoTokenizer, AutoModelForSequenceClassification, RobertaForSequenceClassification\n",
    "from scipy.special import softmax\n",
    "from torch import random\n",
    "import json"
   ],
   "metadata": {
    "collapsed": false
   }
  },
  {
   "cell_type": "code",
   "execution_count": 2,
   "outputs": [
    {
     "name": "stderr",
     "output_type": "stream",
     "text": [
      "Found cached dataset tweet_eval (/home/victor/.cache/huggingface/datasets/tweet_eval/offensive/1.1.0/12aee5282b8784f3e95459466db4cdf45c6bf49719c25cdb0743d71ed0410343)\n"
     ]
    },
    {
     "data": {
      "text/plain": "  0%|          | 0/3 [00:00<?, ?it/s]",
      "application/vnd.jupyter.widget-view+json": {
       "version_major": 2,
       "version_minor": 0,
       "model_id": "5e86c4b728e54bf3be33683644b1c80c"
      }
     },
     "metadata": {},
     "output_type": "display_data"
    },
    {
     "data": {
      "text/plain": "DatasetDict({\n    train: Dataset({\n        features: ['text', 'label'],\n        num_rows: 11916\n    })\n    test: Dataset({\n        features: ['text', 'label'],\n        num_rows: 860\n    })\n    validation: Dataset({\n        features: ['text', 'label'],\n        num_rows: 1324\n    })\n})"
     },
     "execution_count": 2,
     "metadata": {},
     "output_type": "execute_result"
    }
   ],
   "source": [
    "dataset = load_dataset(\"tweet_eval\",\"offensive\")\n",
    "dataset"
   ],
   "metadata": {
    "collapsed": false
   }
  },
  {
   "cell_type": "markdown",
   "source": [
    "We see that there is not much value in the test dataset  (About 5.7% of all data) and in the validation dataset (About 8.9% of all data)"
   ],
   "metadata": {
    "collapsed": false
   }
  },
  {
   "cell_type": "code",
   "execution_count": 3,
   "outputs": [
    {
     "data": {
      "text/plain": "['@user Bono... who cares. Soon people will understand that they gain nothing from following a phony celebrity. Become a Leader of your people instead or help and support your fellow countrymen.',\n '@user Eight years the republicans denied obama’s picks. Breitbarters outrage is as phony as their fake president.',\n '@user Get him some line help. He is gonna be just fine. As the game went on you could see him progressing more with his reads. He brought what has been missing. The deep ball presence. Now he just needs a little more time',\n '@user @user She is great. Hi Fiona!',\n \"@user She has become a parody unto herself? She has certainly taken some heat for being such an....well idiot. Could be optic too  Who know with Liberals  They're all optics.  No substance\"]"
     },
     "execution_count": 3,
     "metadata": {},
     "output_type": "execute_result"
    }
   ],
   "source": [
    "dataset[\"train\"][\"text\"][:5]"
   ],
   "metadata": {
    "collapsed": false
   }
  },
  {
   "cell_type": "code",
   "execution_count": 4,
   "outputs": [
    {
     "data": {
      "text/plain": "{'text': ['@user @user @user @user @user @user @user @user @user @user @user @user @user @user @user @user @user Thank you for adding me Razor!  Patriots- if you aren’t following my Primary account @user - will you take a minute &amp; Follow me? Thanks &amp; MAGA🇺🇸',\n  '@user The lies i keep hearing everyday sigh *INHALES* IM TIRED OF YOU PUTTING YOURSELF DOWN AND IF PPL DONT SEE HOW BEAUTIFUL MY BESTFRIEND IS THEN ITS THEIR PROBLEM You are beautiful ive seen iT so its my place to tell you you are beautiful and i accept nothing less. If not more 😤',\n  '@user He is very perceptive Sweetie!',\n  '@user Dear Paul McFartney-  You had us at Beatles.  You lost us at President Mad Captain.  Burn in hell-  Jon.\"\"',\n  '@user you are also the king of taste'],\n 'label': [0, 1, 0, 1, 0]}"
     },
     "execution_count": 4,
     "metadata": {},
     "output_type": "execute_result"
    }
   ],
   "source": [
    "dataset[\"train\"][90:95]"
   ],
   "metadata": {
    "collapsed": false
   }
  },
  {
   "cell_type": "markdown",
   "source": [
    "We notice that all tag is anonymous. They had been replaced by '@user'."
   ],
   "metadata": {
    "collapsed": false
   }
  },
  {
   "cell_type": "code",
   "execution_count": 5,
   "outputs": [],
   "source": [
    "topic_model_train = BERTopic()\n",
    "topics_train, probs_train = topic_model_train.fit_transform(dataset[\"train\"][\"text\"])\n",
    "\n",
    "topic_model_test = BERTopic()\n",
    "topics_test, probs_test = topic_model_test.fit_transform(dataset[\"test\"][\"text\"])\n",
    "\n",
    "topic_model_validation = BERTopic()\n",
    "topics_validation, probs_validation = topic_model_validation.fit_transform(dataset[\"validation\"][\"text\"])\n"
   ],
   "metadata": {
    "collapsed": false
   }
  },
  {
   "cell_type": "code",
   "execution_count": 6,
   "outputs": [
    {
     "data": {
      "text/plain": "     Topic  Count                                   Name\n0       -1   4709                       -1_is_you_and_to\n1        0   1019                0_gun_control_guns_laws\n2        1    368          1_liberals_they_liberal_their\n3        2    292                  2_antifa_user_like_to\n4        3    283                 3_right_wrong_user_you\n..     ...    ...                                    ...\n119    118     12                  118_shit_wtf_eirc_dns\n120    119     12  119_terrorist_islamic_removed_another\n121    120     11     120_bullshit_insanely_chimed_daffy\n122    121     11       121_jimmy_price_offset_mcbuckets\n123    122     11           122_quran_tearing_guts_apart\n\n[124 rows x 3 columns]",
      "text/html": "<div>\n<style scoped>\n    .dataframe tbody tr th:only-of-type {\n        vertical-align: middle;\n    }\n\n    .dataframe tbody tr th {\n        vertical-align: top;\n    }\n\n    .dataframe thead th {\n        text-align: right;\n    }\n</style>\n<table border=\"1\" class=\"dataframe\">\n  <thead>\n    <tr style=\"text-align: right;\">\n      <th></th>\n      <th>Topic</th>\n      <th>Count</th>\n      <th>Name</th>\n    </tr>\n  </thead>\n  <tbody>\n    <tr>\n      <th>0</th>\n      <td>-1</td>\n      <td>4709</td>\n      <td>-1_is_you_and_to</td>\n    </tr>\n    <tr>\n      <th>1</th>\n      <td>0</td>\n      <td>1019</td>\n      <td>0_gun_control_guns_laws</td>\n    </tr>\n    <tr>\n      <th>2</th>\n      <td>1</td>\n      <td>368</td>\n      <td>1_liberals_they_liberal_their</td>\n    </tr>\n    <tr>\n      <th>3</th>\n      <td>2</td>\n      <td>292</td>\n      <td>2_antifa_user_like_to</td>\n    </tr>\n    <tr>\n      <th>4</th>\n      <td>3</td>\n      <td>283</td>\n      <td>3_right_wrong_user_you</td>\n    </tr>\n    <tr>\n      <th>...</th>\n      <td>...</td>\n      <td>...</td>\n      <td>...</td>\n    </tr>\n    <tr>\n      <th>119</th>\n      <td>118</td>\n      <td>12</td>\n      <td>118_shit_wtf_eirc_dns</td>\n    </tr>\n    <tr>\n      <th>120</th>\n      <td>119</td>\n      <td>12</td>\n      <td>119_terrorist_islamic_removed_another</td>\n    </tr>\n    <tr>\n      <th>121</th>\n      <td>120</td>\n      <td>11</td>\n      <td>120_bullshit_insanely_chimed_daffy</td>\n    </tr>\n    <tr>\n      <th>122</th>\n      <td>121</td>\n      <td>11</td>\n      <td>121_jimmy_price_offset_mcbuckets</td>\n    </tr>\n    <tr>\n      <th>123</th>\n      <td>122</td>\n      <td>11</td>\n      <td>122_quran_tearing_guts_apart</td>\n    </tr>\n  </tbody>\n</table>\n<p>124 rows × 3 columns</p>\n</div>"
     },
     "execution_count": 6,
     "metadata": {},
     "output_type": "execute_result"
    }
   ],
   "source": [
    "\n",
    "\n",
    "random.manual_seed(42)\n",
    "topic_model_train.get_topic_info()"
   ],
   "metadata": {
    "collapsed": false
   }
  },
  {
   "cell_type": "code",
   "execution_count": 7,
   "outputs": [
    {
     "data": {
      "text/plain": "   Topic  Count                                       Name\n0     -1     70                         -1_user_the_to_for\n1      0    359                           0_is_she_you_and\n2      1    344                           1_the_to_user_of\n3      2     37                     2_gun_user_control_the\n4      3     25                       3_you_are_user_sales\n5      4     13                   4_listen_aclu_black_more\n6      5     12  5_florence_hurricane_hurricaneflorence_to",
      "text/html": "<div>\n<style scoped>\n    .dataframe tbody tr th:only-of-type {\n        vertical-align: middle;\n    }\n\n    .dataframe tbody tr th {\n        vertical-align: top;\n    }\n\n    .dataframe thead th {\n        text-align: right;\n    }\n</style>\n<table border=\"1\" class=\"dataframe\">\n  <thead>\n    <tr style=\"text-align: right;\">\n      <th></th>\n      <th>Topic</th>\n      <th>Count</th>\n      <th>Name</th>\n    </tr>\n  </thead>\n  <tbody>\n    <tr>\n      <th>0</th>\n      <td>-1</td>\n      <td>70</td>\n      <td>-1_user_the_to_for</td>\n    </tr>\n    <tr>\n      <th>1</th>\n      <td>0</td>\n      <td>359</td>\n      <td>0_is_she_you_and</td>\n    </tr>\n    <tr>\n      <th>2</th>\n      <td>1</td>\n      <td>344</td>\n      <td>1_the_to_user_of</td>\n    </tr>\n    <tr>\n      <th>3</th>\n      <td>2</td>\n      <td>37</td>\n      <td>2_gun_user_control_the</td>\n    </tr>\n    <tr>\n      <th>4</th>\n      <td>3</td>\n      <td>25</td>\n      <td>3_you_are_user_sales</td>\n    </tr>\n    <tr>\n      <th>5</th>\n      <td>4</td>\n      <td>13</td>\n      <td>4_listen_aclu_black_more</td>\n    </tr>\n    <tr>\n      <th>6</th>\n      <td>5</td>\n      <td>12</td>\n      <td>5_florence_hurricane_hurricaneflorence_to</td>\n    </tr>\n  </tbody>\n</table>\n</div>"
     },
     "execution_count": 7,
     "metadata": {},
     "output_type": "execute_result"
    }
   ],
   "source": [
    "topic_model_test.get_topic_info()"
   ],
   "metadata": {
    "collapsed": false
   }
  },
  {
   "cell_type": "code",
   "execution_count": 8,
   "outputs": [
    {
     "data": {
      "text/plain": "   Topic  Count                        Name\n0     -1      6  -1_nfl_american_boycott_to\n1      0   1067            0_user_the_is_to\n2      1    128        1_user_antifa_the_to\n3      2    123      2_gun_control_user_the",
      "text/html": "<div>\n<style scoped>\n    .dataframe tbody tr th:only-of-type {\n        vertical-align: middle;\n    }\n\n    .dataframe tbody tr th {\n        vertical-align: top;\n    }\n\n    .dataframe thead th {\n        text-align: right;\n    }\n</style>\n<table border=\"1\" class=\"dataframe\">\n  <thead>\n    <tr style=\"text-align: right;\">\n      <th></th>\n      <th>Topic</th>\n      <th>Count</th>\n      <th>Name</th>\n    </tr>\n  </thead>\n  <tbody>\n    <tr>\n      <th>0</th>\n      <td>-1</td>\n      <td>6</td>\n      <td>-1_nfl_american_boycott_to</td>\n    </tr>\n    <tr>\n      <th>1</th>\n      <td>0</td>\n      <td>1067</td>\n      <td>0_user_the_is_to</td>\n    </tr>\n    <tr>\n      <th>2</th>\n      <td>1</td>\n      <td>128</td>\n      <td>1_user_antifa_the_to</td>\n    </tr>\n    <tr>\n      <th>3</th>\n      <td>2</td>\n      <td>123</td>\n      <td>2_gun_control_user_the</td>\n    </tr>\n  </tbody>\n</table>\n</div>"
     },
     "execution_count": 8,
     "metadata": {},
     "output_type": "execute_result"
    }
   ],
   "source": [
    "topic_model_validation.get_topic_info()"
   ],
   "metadata": {
    "collapsed": false
   }
  },
  {
   "cell_type": "markdown",
   "source": [
    "We see there is a difference in topic between the validation, test and train dataset. There will be a risk to train model on some topic, but to test it."
   ],
   "metadata": {
    "collapsed": false
   }
  },
  {
   "cell_type": "code",
   "execution_count": 9,
   "outputs": [],
   "source": [
    "task= \"offensive\"\n",
    "MODEL = f\"cardiffnlp/twitter-roberta-base-{task}\"\n",
    "\n",
    "tokenizer = AutoTokenizer.from_pretrained(MODEL)\n"
   ],
   "metadata": {
    "collapsed": false
   }
  },
  {
   "cell_type": "code",
   "execution_count": null,
   "outputs": [],
   "source": [
    "model : RobertaForSequenceClassification = AutoModelForSequenceClassification.from_pretrained(MODEL)\n",
    "#model.sa"
   ],
   "metadata": {
    "collapsed": false,
    "pycharm": {
     "is_executing": true
    }
   }
  },
  {
   "cell_type": "code",
   "execution_count": null,
   "outputs": [],
   "source": [
    "file_json = open(\"tweets.json\", 'r')\n",
    "tweets_json = json.load(file_json)\n",
    "\n",
    "file_json.close()\n"
   ],
   "metadata": {
    "collapsed": false,
    "pycharm": {
     "is_executing": true
    }
   }
  },
  {
   "cell_type": "code",
   "execution_count": null,
   "outputs": [],
   "source": [
    "\n",
    "\n",
    "text = \"Just go to Hell. You don't deserve it.\"\n",
    "encoded_input = tokenizer(tweets_json)\n",
    "output = model(**encoded_input)\n",
    "scores = output[0][0].detach().numpy()\n",
    "scores = softmax(scores)\n",
    "\n",
    "scores\n"
   ],
   "metadata": {
    "collapsed": false,
    "pycharm": {
     "is_executing": true
    }
   }
  },
  {
   "cell_type": "code",
   "execution_count": null,
   "outputs": [],
   "source": [
    "len(dataset[\"test\"][\"text\"])"
   ],
   "metadata": {
    "collapsed": false,
    "pycharm": {
     "is_executing": true
    }
   }
  },
  {
   "cell_type": "code",
   "execution_count": null,
   "outputs": [],
   "source": [],
   "metadata": {
    "collapsed": false,
    "pycharm": {
     "is_executing": true
    }
   }
  }
 ],
 "metadata": {
  "kernelspec": {
   "display_name": "Python 3",
   "language": "python",
   "name": "python3"
  },
  "language_info": {
   "codemirror_mode": {
    "name": "ipython",
    "version": 2
   },
   "file_extension": ".py",
   "mimetype": "text/x-python",
   "name": "python",
   "nbconvert_exporter": "python",
   "pygments_lexer": "ipython2",
   "version": "2.7.6"
  }
 },
 "nbformat": 4,
 "nbformat_minor": 0
}
